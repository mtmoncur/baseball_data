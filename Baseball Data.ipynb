{
 "cells": [
  {
   "cell_type": "code",
   "execution_count": 1,
   "metadata": {
    "collapsed": true
   },
   "outputs": [],
   "source": [
    "import pandas as pd\n",
    "import numpy as np\n",
    "import networkx as nx\n",
    "from matplotlib import pyplot as plt\n",
    "plt.rcParams['figure.dpi'] = 350\n",
    "%matplotlib inline\n",
    "import seaborn as sns\n",
    "sns.set(style=\"darkgrid\")\n",
    "import warnings\n",
    "warnings.filterwarnings('ignore')"
   ]
  },
  {
   "cell_type": "markdown",
   "metadata": {},
   "source": [
    "# Baseball Team Data"
   ]
  },
  {
   "cell_type": "markdown",
   "metadata": {},
   "source": [
    "## Tyler Moncur\n",
    "\n",
    "### Project Summary: "
   ]
  },
  {
   "cell_type": "markdown",
   "metadata": {},
   "source": [
    "#### Modeling Goal: \n",
    "The ultimate goal with this project is to model how people form into groups, and how these groups change over time. The secret purpose is to understand certain dangerous organizations, and predict how these groups will grow and change over time. But since the data on real dangerous organizations is classified and unavailable to this research project, data for baseball players will be used as a substitute. Baseball teams will change players at fixed intervals, which will be useful for analysis, and should approximate how teams change for the actual goal of this project.\n",
    "\n",
    "#### Data Needs:\n",
    "For every player, the model will only include information on the player's team and position. Even though far more baseball data is available for every player, only these features are used because that is the extent of the information available with the real version of this problem. Baseball data is readily available for download through the fangraphs.com website. Fangraphs is a well known site to baseball fans and is designed to provide any baseball data that could ever be useful. Fangraphs is the best of source of data for this project.\n",
    "\n",
    "#### Previous Research:\n",
    "The goal of this project can be formulated as a link prediction problem, but there are significant differences that make this problem distinct. The previous research on  the link prediction problem applies to undirected graphs that have nodes of the same type. Facebook friend prediction is the classic example of this type of link prediction. The challenge with the group formation problem is that using a graph to represent the data will create a bipartite graph between nodes that represent players and nodes that represent teams. The nodes are no longer of the same type, so this model will require either a new approach, or a significant modification to the standard link prediction problem. The state of art methods for Facebook link prediction have less than 5 percent accuracy, so it is expected that the modified problem will suffer from similar accuracy troubles."
   ]
  },
  {
   "cell_type": "markdown",
   "metadata": {},
   "source": [
    "## Data Collection"
   ]
  },
  {
   "cell_type": "markdown",
   "metadata": {},
   "source": [
    "The only challenge with collecting the data was sorting through all of the options available on the fangraphs website. There are several small caveats that make this surprisingly complex. First, the data will be restricted to seasons that are after 1997 because there was a league expansion in that year that created several new teams. The true time period used is 2002-2016 because some data was missing from the years before 2002.  \n",
    "\n",
    "Another question to answer for the data gathering process is \"what qualified someone as a member of a team\". This is not as black and white as one would expect. There is a minimum number of plate appearances for a player to be considered a qualified hitter, which an average of 3.1 plate appearances per game, or about 500 per season. We use 60 plate appearances as a low bar in order to include more people, but this restriction will help remove noise from players that only played a handful of games.\n",
    "\n",
    "After making these decisions, it was a simple matter to select the information and download the player data. It was split into three csv files based on whether they were fielders, relief pitchers, or starter pitchers. Some players belonged to multiple categories, but this issue is handled in the data cleaning."
   ]
  },
  {
   "cell_type": "markdown",
   "metadata": {},
   "source": [
    "## Data Cleaning"
   ]
  },
  {
   "cell_type": "code",
   "execution_count": 2,
   "metadata": {
    "collapsed": true
   },
   "outputs": [],
   "source": [
    "teams_abbr = {'- - -': '- - -', 'ANA': 'Angels', 'ARI': 'Diamondbacks', \n",
    " 'ATL': 'Braves', 'BAL': 'Orioles', 'BOS': 'Red Sox', 'CHC': 'Cubs', \n",
    " 'CHW': 'White Sox', 'CIN': 'Reds', 'CLE': 'Indians', 'COL': 'Rockies',\n",
    " 'DET': 'Tigers', 'FLA': 'Marlins', 'HOU': 'Astros', 'KCR': 'Royals', \n",
    " 'LAA': 'Angels', 'LAD': 'Dodgers', 'MIA': 'Marlins', 'MIL': 'Brewers',\n",
    " 'MIN': 'Twins', 'MON': 'Expos', 'NYM': 'Mets', 'NYY': 'Yankees',\n",
    " 'OAK': 'Athletics', 'PHI': 'Phillies', 'PIT': 'Pirates', 'SDP': 'Padres',\n",
    " 'SEA': 'Mariners', 'SFG': 'Giants', 'STL': 'Cardinals', 'TBD': 'Devil Rays', \n",
    " 'TBR': 'Rays', 'TEX': 'Rangers', 'TOR': 'Blue Jays', 'WSN': 'Nationals'}"
   ]
  },
  {
   "cell_type": "markdown",
   "metadata": {},
   "source": [
    "One of csv files listed the teams by abbreviations. To solve this problem, the above dictionary maps the abbreviations to the proper team name."
   ]
  },
  {
   "cell_type": "markdown",
   "metadata": {},
   "source": [
    "#### Read Data and Change Team Abbreviation"
   ]
  },
  {
   "cell_type": "code",
   "execution_count": 3,
   "metadata": {},
   "outputs": [
    {
     "name": "stdout",
     "output_type": "stream",
     "text": [
      "Number of starter pitchers:   3370\n",
      "Number of relief pitchers:    1798\n",
      "Number of fielders:           19193\n",
      "-------------------------------------\n",
      "Total number of records:      24361\n"
     ]
    }
   ],
   "source": [
    "#read in all data\n",
    "sp = pd.read_csv('FanGraphs_Starters.csv')\n",
    "rp = pd.read_csv('FanGraphs_Relievers.csv')\n",
    "fd = pd.read_csv('FanGraphs_Fielders.csv')\n",
    "\n",
    "a, b, c = len(sp),len(rp),len(fd)\n",
    "print(\n",
    "\"\"\"Number of starter pitchers:   {}\n",
    "Number of relief pitchers:    {}\n",
    "Number of fielders:           {}\n",
    "-------------------------------------\n",
    "Total number of records:      {}\"\"\".format(a, b, c, a+b+c))\n",
    "\n",
    "#change abbreviation to full team name\n",
    "fd['Team'] = fd['Team'].apply(teams_abbr.get)"
   ]
  },
  {
   "cell_type": "code",
   "execution_count": 4,
   "metadata": {},
   "outputs": [
    {
     "name": "stdout",
     "output_type": "stream",
     "text": [
      "Only counting players once per season.\n",
      "\n",
      "Number of starter pitchers:   3370\n",
      "Number of relief pitchers:    1798\n",
      "Number of fielders:           14557\n",
      "-------------------------------------\n",
      "Total number of records:      15873\n"
     ]
    }
   ],
   "source": [
    "#create 3 sets containing tuples of playerids with the season for each record\n",
    "fd_season_id = set([tuple(row) for row in fd[['playerid','Season']].values])\n",
    "rp_season_id = set([tuple(row) for row in rp[['playerid','Season']].values])\n",
    "sp_season_id = set([tuple(row) for row in sp[['playerid','Season']].values])\n",
    "\n",
    "a, b, c = len(sp_season_id), len(rp_season_id), len(fd_season_id)\n",
    "total = set()\n",
    "total.update(sp_season_id);total.update(rp_season_id);total.update(fd_season_id)\n",
    "\n",
    "print(\"Only counting players once per season.\\n\")\n",
    "print(\"\"\"Number of starter pitchers:   {}\n",
    "Number of relief pitchers:    {}\n",
    "Number of fielders:           {}\n",
    "-------------------------------------\n",
    "Total number of records:      {}\"\"\".format(a, b, c, len(total)))"
   ]
  },
  {
   "cell_type": "markdown",
   "metadata": {},
   "source": [
    "Aboves are the total number of records for each file when only counting players once per season. Whereas, the previous code outputs the total number of records, including player duplicates. At the end of data cleaning, each player should have at most one record per season. A quick analysis reveals that there are duplicate records in the fielders dataframe, the starting pitchers dataframe, and the total shows that there are numerous duplicates between the separate files."
   ]
  },
  {
   "cell_type": "markdown",
   "metadata": {},
   "source": [
    "#### Remove Duplicates Part 1"
   ]
  },
  {
   "cell_type": "code",
   "execution_count": 5,
   "metadata": {
    "collapsed": true
   },
   "outputs": [],
   "source": [
    "#create temporary Seasonid column\n",
    "fd.insert(2,'Seasonid',[tuple(row) for row in fd[['playerid','Season']].values])\n",
    "rp.insert(2,'Seasonid',[tuple(row) for row in rp[['playerid','Season']].values])\n",
    "sp.insert(2,'Seasonid',[tuple(row) for row in sp[['playerid','Season']].values])\n",
    "\n",
    "#find and remove duplicates between dataframes\n",
    "mask = fd.Seasonid.isin(sp_season_id)\n",
    "fd.drop(fd[mask].index,inplace=True)\n",
    "\n",
    "mask = fd.Seasonid.isin(rp_season_id)\n",
    "fd.drop(fd[mask].index,inplace=True)\n",
    "\n",
    "mask = rp.Seasonid.isin(sp_season_id)\n",
    "rp.drop(rp[mask].index,inplace=True)\n",
    "\n",
    "#remove temporary Seasonid column\n",
    "fd.drop('Seasonid',axis=1,inplace=True)\n",
    "sp.drop('Seasonid',axis=1,inplace=True)\n",
    "rp.drop('Seasonid',axis=1,inplace=True)"
   ]
  },
  {
   "cell_type": "markdown",
   "metadata": {},
   "source": [
    "Resolve the issue for when players showed up in more than one of the files for a given season."
   ]
  },
  {
   "cell_type": "markdown",
   "metadata": {},
   "source": [
    "#### Reduce Number of Positions"
   ]
  },
  {
   "cell_type": "code",
   "execution_count": 6,
   "metadata": {
    "collapsed": true
   },
   "outputs": [],
   "source": [
    "#change all fielder positions (except catcher) to FD\n",
    "fd.loc[fd.Pos.isin(['1B','2B','3B','RF','LF','CF','SS']),'Pos'] = 'FD'\n",
    "\n",
    "#add column with potision to prepare for combining data\n",
    "sp.insert(2, 'Pos', 'P')\n",
    "rp.insert(2,'Pos', 'P')"
   ]
  },
  {
   "cell_type": "markdown",
   "metadata": {},
   "source": [
    "At the recommendation of a knowledgable baseball fan (Hayden Ringer), the field positions will be grouped together since they are essentially interchangeable, with the exception of the catcher. In fact, players often switch fielding positions throughout the season, which explains why the data has the same player listed multiple times a season, once per position. This issue is addressed at the end of cleaning.  "
   ]
  },
  {
   "cell_type": "markdown",
   "metadata": {},
   "source": [
    "#### Combine Data"
   ]
  },
  {
   "cell_type": "code",
   "execution_count": 7,
   "metadata": {},
   "outputs": [
    {
     "data": {
      "text/html": [
       "<div>\n",
       "<style>\n",
       "    .dataframe thead tr:only-child th {\n",
       "        text-align: right;\n",
       "    }\n",
       "\n",
       "    .dataframe thead th {\n",
       "        text-align: left;\n",
       "    }\n",
       "\n",
       "    .dataframe tbody tr th {\n",
       "        vertical-align: top;\n",
       "    }\n",
       "</style>\n",
       "<table border=\"1\" class=\"dataframe\">\n",
       "  <thead>\n",
       "    <tr style=\"text-align: right;\">\n",
       "      <th></th>\n",
       "      <th>Name</th>\n",
       "      <th>Pos</th>\n",
       "      <th>Season</th>\n",
       "      <th>Team</th>\n",
       "      <th>playerid</th>\n",
       "    </tr>\n",
       "  </thead>\n",
       "  <tbody>\n",
       "    <tr>\n",
       "      <th>13448</th>\n",
       "      <td>Craig Wilson</td>\n",
       "      <td>FD</td>\n",
       "      <td>2003</td>\n",
       "      <td>Pirates</td>\n",
       "      <td>1015</td>\n",
       "    </tr>\n",
       "    <tr>\n",
       "      <th>9046</th>\n",
       "      <td>Ruben Tejada</td>\n",
       "      <td>FD</td>\n",
       "      <td>2016</td>\n",
       "      <td>- - -</td>\n",
       "      <td>5519</td>\n",
       "    </tr>\n",
       "    <tr>\n",
       "      <th>12995</th>\n",
       "      <td>Shawn Wooten</td>\n",
       "      <td>FD</td>\n",
       "      <td>2002</td>\n",
       "      <td>Angels</td>\n",
       "      <td>43</td>\n",
       "    </tr>\n",
       "    <tr>\n",
       "      <th>19052</th>\n",
       "      <td>Shawn Camp</td>\n",
       "      <td>P</td>\n",
       "      <td>2008</td>\n",
       "      <td>Blue Jays</td>\n",
       "      <td>1855</td>\n",
       "    </tr>\n",
       "    <tr>\n",
       "      <th>5926</th>\n",
       "      <td>David Wright</td>\n",
       "      <td>FD</td>\n",
       "      <td>2007</td>\n",
       "      <td>Mets</td>\n",
       "      <td>3787</td>\n",
       "    </tr>\n",
       "  </tbody>\n",
       "</table>\n",
       "</div>"
      ],
      "text/plain": [
       "               Name Pos  Season       Team  playerid\n",
       "13448  Craig Wilson  FD    2003    Pirates      1015\n",
       "9046   Ruben Tejada  FD    2016      - - -      5519\n",
       "12995  Shawn Wooten  FD    2002     Angels        43\n",
       "19052    Shawn Camp   P    2008  Blue Jays      1855\n",
       "5926   David Wright  FD    2007       Mets      3787"
      ]
     },
     "execution_count": 7,
     "metadata": {},
     "output_type": "execute_result"
    }
   ],
   "source": [
    "p = pd.concat([sp,rp,fd], ignore_index=True)\n",
    "p.drop(p[p.Season < 2002].index, inplace=True)\n",
    "p.reset_index()\n",
    "p.sample(5)"
   ]
  },
  {
   "cell_type": "markdown",
   "metadata": {},
   "source": [
    "Finally, all of the separate dataframes are combined into one."
   ]
  },
  {
   "cell_type": "markdown",
   "metadata": {},
   "source": [
    "#### Team Cleaning"
   ]
  },
  {
   "cell_type": "code",
   "execution_count": 8,
   "metadata": {
    "collapsed": true
   },
   "outputs": [],
   "source": [
    "#account for team name changes\n",
    "p.loc[p.Team=='Devil Rays','Team'] = 'Rays'\n",
    "p.loc[p.Team=='Expos','Team'] = 'Nationals'\n",
    "del(teams_abbr['MON'])\n",
    "del(teams_abbr['TBD'])\n",
    "\n",
    "#delete players from a season if their team is unknown\n",
    "p.drop(p[p.Team=='- - -'].index,inplace=True)\n",
    "del(teams_abbr['- - -'])"
   ]
  },
  {
   "cell_type": "markdown",
   "metadata": {},
   "source": [
    "These two teams, the Rays and the Nationals, changed cities partway through the time period 2002-2016, and their names also changed. To maintain continuity, the orginal names are kept instead of the new names.  \n",
    "\n",
    "The \"- - -\" indicates that the player switched teams partway through a season. Since we don't know which specific team these players belonged to for this season, we remove them. This may be a source of error when we begin modeling, but it is realistic that we have incomplete information for the real problem anyway."
   ]
  },
  {
   "cell_type": "markdown",
   "metadata": {},
   "source": [
    "#### Removing Duplicates Part 2"
   ]
  },
  {
   "cell_type": "code",
   "execution_count": 9,
   "metadata": {},
   "outputs": [
    {
     "name": "stdout",
     "output_type": "stream",
     "text": [
      "Number of records before:    17490\n",
      "Number of records after:     13560\n"
     ]
    }
   ],
   "source": [
    "print(\"Number of records before:    {}\".format(len(p)))\n",
    "p.drop_duplicates(inplace=True)\n",
    "print(\"Number of records after:     {}\".format(len(p)))"
   ]
  },
  {
   "cell_type": "markdown",
   "metadata": {},
   "source": [
    "These duplicates occurred because many of the fielders play multiple positions, and they have a record for every position they played in a given season."
   ]
  },
  {
   "cell_type": "markdown",
   "metadata": {},
   "source": [
    "# Feature Engineering\n",
    "#### Add a new field called Status\n",
    "\n",
    "There isn't much that can or should be done for feature engineering on this dataset. The goal is to use the graph properties and its changes over time to predict future changes. So we want to know, based on previous baseball teams how teams might form and change in the future. With that in mind, it is important to label individuals based on whether they just arrived at a team in a given season or are leaving the team at the end of the season. Sometimes, players will do both.  "
   ]
  },
  {
   "cell_type": "code",
   "execution_count": 10,
   "metadata": {
    "collapsed": true
   },
   "outputs": [],
   "source": [
    "#initialize the new column with value 'Staying'\n",
    "p.insert(1, 'Status', 'Staying')\n",
    "by_player = p.groupby('playerid')\n",
    "\n",
    "#loop through, player by player\n",
    "for g in by_player.groups:\n",
    "    one_p = by_player.get_group(g)\n",
    "    \n",
    "    #loop through the years for each player\n",
    "    for y in sorted(one_p['Season'])[1:]:\n",
    "        \n",
    "        #Case: no change\n",
    "        if sum(one_p.Season==y-1)==0: continue\n",
    "        \n",
    "        #Case: arrive\n",
    "        if (one_p[one_p.Season==y].Team.values[0] != \n",
    "        one_p[one_p.Season==y-1].Team.values[0]):\n",
    "            \n",
    "            #Case: arrive and previous arrive/leave\n",
    "            if (p[(p.Season==y-1)&(p.playerid==g)]['Status'].values[0]\n",
    "            == 'Arrive'):\n",
    "                p.loc[one_p[one_p.Season==y-1].index,'Status'] = 'Arriving Leaving'\n",
    "                p.loc[one_p[one_p.Season==y].index,'Status'] = 'Arriving'\n",
    "            \n",
    "            #Case: arrive and previous leave\n",
    "            else:\n",
    "                p.loc[one_p[one_p.Season==y-1].index,'Status'] = 'Leaving'\n",
    "                p.loc[one_p[one_p.Season==y].index,'Status'] = 'Arriving'"
   ]
  },
  {
   "cell_type": "markdown",
   "metadata": {},
   "source": [
    "Below is the code for creating a dataframe with aggregated team data by each season."
   ]
  },
  {
   "cell_type": "code",
   "execution_count": 11,
   "metadata": {
    "collapsed": true
   },
   "outputs": [],
   "source": [
    "by_season_team = p.groupby(['Season', 'Team'])\n",
    "team_df = pd.DataFrame(index = range(len(by_season_team.groups)))\n",
    "team_df['Season'] = [i[0] for i in by_season_team.groups]\n",
    "team_df['Team'] = [i[1] for i in by_season_team.groups]\n",
    "\n",
    "\n",
    "player_counts = []\n",
    "pitcher_counts = []\n",
    "catcher_counts = []\n",
    "fielder_counts = []\n",
    "for group_key in by_season_team.groups:\n",
    "    cur_group = by_season_team.get_group(group_key)\n",
    "    player_counts.append(len(cur_group))\n",
    "    pitcher_counts.append(sum(cur_group.Pos=='P')) \n",
    "    catcher_counts.append(sum(cur_group.Pos=='C'))\n",
    "    fielder_counts.append(sum(cur_group.Pos=='FD'))\n",
    "\n",
    "team_df.insert(2, 'Players', player_counts)\n",
    "team_df.insert(3, 'Pitchers', pitcher_counts)\n",
    "team_df.insert(4, 'Catchers', catcher_counts)\n",
    "team_df.insert(5, 'Fielders', fielder_counts)"
   ]
  },
  {
   "cell_type": "markdown",
   "metadata": {},
   "source": [
    "# Visualization"
   ]
  },
  {
   "cell_type": "markdown",
   "metadata": {},
   "source": [
    "Visualizing this data is challenging. The only features in this baseball data are the positions, status, seasons, and the graph properties. The focus here will be looking for trends over time, or general differences between teams. Finding patterns with any of these features will aid in predicting future configurations. But since the best link prediction accuracy is around 5 percent, any pattern at all will be helpful."
   ]
  },
  {
   "cell_type": "code",
   "execution_count": 12,
   "metadata": {},
   "outputs": [
    {
     "data": {
      "image/png": "[encoded data removed]",
      "text/plain": [
       "<matplotlib.figure.Figure at 0x7fde12da6588>"
      ]
     },
     "metadata": {},
     "output_type": "display_data"
    }
   ],
   "source": [
    "plt.figure(figsize=(8,4))\n",
    "by_season = p.groupby('Season')\n",
    "by_season['playerid'].count().plot(kind='bar', title='Total Number of players')\n",
    "plt.ylabel('Total Player Count')\n",
    "plt.show()"
   ]
  },
  {
   "cell_type": "code",
   "execution_count": 13,
   "metadata": {},
   "outputs": [
    {
     "data": {
      "image/png": "[encoded data removed]",
      "text/plain": [
       "<matplotlib.figure.Figure at 0x7fde12da68d0>"
      ]
     },
     "metadata": {},
     "output_type": "display_data"
    }
   ],
   "source": [
    "plt.figure(figsize=(15,7))\n",
    "plt.title('Teams Sizes', fontsize=20)\n",
    "sns.boxplot(y = 'Players', x ='Season', data=team_df)\n",
    "\n",
    "plt.show()"
   ]
  },
  {
   "cell_type": "markdown",
   "metadata": {},
   "source": [
    "The previous two figures are significant. The first shows that the total number of players is fairly constant, so the number of players retiring roughly balances the number of rookies. This will be an important aspect for building a model to understand group changes.  \n",
    "\n",
    "The second figure shows boxplots of the number of players per team in a given season. The teams sizes stay close to 29 or 30 players, but every season has a few extremes. So the final model will need to account for variable team sizes. The other challenge is to understand what causes a team to shrink or grow more than the average team."
   ]
  },
  {
   "cell_type": "code",
   "execution_count": 14,
   "metadata": {
    "scrolled": true
   },
   "outputs": [
    {
     "data": {
      "image/png": "[encoded data removed]",
      "text/plain": [
       "<matplotlib.figure.Figure at 0x7f348e9667f0>"
      ]
     },
     "metadata": {},
     "output_type": "display_data"
    }
   ],
   "source": [
    "by_pos = p.groupby('Pos')\n",
    "num_pos = len(p.Pos.unique())\n",
    "\n",
    "plt.figure(figsize=(8,5))\n",
    "plt.title(\"Position Distribution\", fontsize=20)\n",
    "sns.barplot([2,1,0], [len(df) for pos,df in by_pos.groups.items()])\n",
    "pos_dct = {'P':'Pitcher', 'C':'Catcher', 'FD':'Fielder'}\n",
    "plt.xticks([2,1,0], [pos_dct[pos] for pos,df in by_pos.groups.items()])\n",
    "plt.ylabel(\"Number of Records\")\n",
    "plt.show()"
   ]
  },
  {
   "cell_type": "code",
   "execution_count": 15,
   "metadata": {},
   "outputs": [
    {
     "data": {
      "image/png": "[encoded data removed]",
      "text/plain": [
       "<matplotlib.figure.Figure at 0x7f348e8eb9e8>"
      ]
     },
     "metadata": {},
     "output_type": "display_data"
    }
   ],
   "source": [
    "team_df[(team_df.Team=='Rockies')*(team_df.Season<=2010)].sort_values(by=\n",
    "        'Season').plot(kind='barh', y=['Pitchers', 'Catchers', 'Fielders'],\n",
    "        x='Season', figsize=(10,5))\n",
    "plt.title('Rockies Team Compostion (2002-2010)', fontsize=20)\n",
    "plt.show()"
   ]
  },
  {
   "cell_type": "markdown",
   "metadata": {},
   "source": [
    "This visual only examines the composition of one team, the Rockies, over the time period 2002-2010. The most noticeable pattern is that the number of catchers is quite steady, and the fielders almost always outnumber to the pitchers. But beyond this, the numbers and the differences can widely vary. The Rockies had as many as 18 fielders in the 2005 season, and as few as 11 in 2009. And the maximum number of pitchers was 15, with a minimum of 10. But despite this variability, the distribution never looks drastically different from the distribution shown in the previous plot."
   ]
  },
  {
   "cell_type": "code",
   "execution_count": 16,
   "metadata": {
    "collapsed": true
   },
   "outputs": [],
   "source": [
    "p08 = p[p.Season.isin(range(2008,1+2011))]\n",
    "\n",
    "t_dct = {v:k for k,v in enumerate(p08.Team.unique())}\n",
    "num_p = len(p08.playerid.unique())\n",
    "num_t = len(p08.Team.unique())\n",
    "\n",
    "A = np.zeros((num_t, num_p))\n",
    "\n",
    "p08_dct = {v:k for k,v in enumerate(p08.playerid.unique())}\n",
    "\n",
    "t = [0]*len(t_dct)\n",
    "for team,num in t_dct.items():\n",
    "    t[num] = team\n",
    "\n",
    "for idx in p08.index:\n",
    "    i = t_dct[p08.get_value(idx,'Team')]\n",
    "    j = p08_dct[p08.get_value(idx,'playerid')]\n",
    "    \n",
    "    A[i,j] += 1"
   ]
  },
  {
   "cell_type": "markdown",
   "metadata": {},
   "source": [
    "The above code creates the adjacency matrix between players and teams for the years 2008-2011."
   ]
  },
  {
   "cell_type": "markdown",
   "metadata": {},
   "source": [
    "### Adjacency Matrix: Inter-team Connections"
   ]
  },
  {
   "cell_type": "code",
   "execution_count": 17,
   "metadata": {},
   "outputs": [
    {
     "data": {
      "image/png": "[encoded data removed]",
      "text/plain": [
       "<matplotlib.figure.Figure at 0x7f348e7e4940>"
      ]
     },
     "metadata": {},
     "output_type": "display_data"
    },
    {
     "data": {
      "image/png": "[encoded data removed]",
      "text/plain": [
       "<matplotlib.figure.Figure at 0x7f348e822978>"
      ]
     },
     "metadata": {},
     "output_type": "display_data"
    }
   ],
   "source": [
    "plt.figure(figsize=(8,8))\n",
    "plt.subplot(121)\n",
    "team2team = A.dot(A.T)\n",
    "plt.imshow(team2team)\n",
    "plt.axis('off')\n",
    "plt.subplot(122)\n",
    "\n",
    "team2team_no_diag = team2team-np.diag(np.diag(team2team))\n",
    "plt.imshow(team2team_no_diag)\n",
    "plt.axis('off')\n",
    "plt.show()\n",
    "\n",
    "plt.figure(figsize=(10,6))\n",
    "sns.distplot(team2team_no_diag.ravel(), hist=True , bins=14)\n",
    "plt.title(\"Histogram of (right) Matrix Values\", fontsize=20)\n",
    "plt.xlabel('Connection strength')\n",
    "plt.ylabel('Frequency')\n",
    "plt.show()"
   ]
  },
  {
   "cell_type": "code",
   "execution_count": 27,
   "metadata": {},
   "outputs": [
    {
     "name": "stdout",
     "output_type": "stream",
     "text": [
      "Number of Leaving Pitchers: 710\n",
      "Number of Pitchers: 5684\n",
      "Ratio: 0.125\n",
      "Number of Leaving Catchers: 225\n",
      "Number of Catchers: 1268\n",
      "Ratio: 0.177\n",
      "Number of Leaving Fielders: 1204\n",
      "Number of Fielders: 6608\n",
      "Ratio: 0.182\n"
     ]
    }
   ],
   "source": [
    "#P(Leaving|Pitcher)\n",
    "pitchers = p[p.Pos=='P']\n",
    "numer=pitchers.Status[pitchers['Status']=='Leaving'].count(); print('Number of Leaving Pitchers: {}'.format(numer))\n",
    "denom = len(pitchers); print('Number of Pitchers: {}'.format(denom))\n",
    "print('Ratio: {:.3f}'.format(numer/denom))\n",
    "\n",
    "catchers = p[p.Pos=='C']\n",
    "numer=catchers.Status[catchers['Status']=='Leaving'].count();print('Number of Leaving Catchers: {}'.format(numer))\n",
    "denom=len(catchers);print('Number of Catchers: {}'.format(denom))\n",
    "print('Ratio: {:.3f}'.format(numer/denom))\n",
    "\n",
    "fielders = p[p.Pos=='FD']\n",
    "numer=fielders.Status[fielders['Status']=='Leaving'].count();print('Number of Leaving Fielders: {}'.format(numer))\n",
    "denom=len(fielders);print('Number of Fielders: {}'.format(denom))\n",
    "print('Ratio: {:.3f}'.format(numer/denom))\n"
   ]
  },
  {
   "cell_type": "markdown",
   "metadata": {},
   "source": [
    "By multiplying the adjaceny matrix with its transpose, we get a matrix that shows the number of connections from one team to another through players. The left matrix is overpowered by the diagonal since each team is obviously highly connected to itself. After removing the diagonal, the right matrix is the result. This is very interesting in that it is not perfectly uniform. There are two high points. The first one corresponds to the strong connection between Pirates and the Nationals who are connected through 14 different players. The other is between the Rangers and the Angels, who are also connected by 14 players.\n",
    "\n",
    "The histogram plots the frequency of connection strengths, and the very strong connections are in the far right bin. This distribution of connection strengths is very interesting since it appears to be distributed like the a gamma distribution. If player transitions from team to team were uniformly random, then in the limit this curve should become a guassian. As shown above, players appear more likely to switch teams in groups of 2 or 3 going to entirely different team on their own. This is the simplest explanation for the slightly larger values between 2 and 4 where it looks like smaller values would better fit the distribution.\n",
    "\n",
    "## Conclusion\n",
    "\n",
    "The ultimate goal, modeling group formation and changes, is beyond the scope of this project, but several insights from this data project will help. The goal with this aspect of the project has been to search for trends and patterns that will help develop a model. We are searching for anything that gives an improvement over random guessing. A model will need to balance leaving players with entering ones, and this balance will also extend to the sizes of individual teams. The proportion of players per team will also be an important factor, but it is not strict. Numbers of fielders to pitchers can change significantly. But perhaps the most important conclusion, as shown in above visual, is the potential that individuals are slightly more likely to go to a team where they know someone. This would explanation the small bump in the histogram, and it might provide the edge we were looking for."
   ]
  }
 ],
 "metadata": {
  "kernelspec": {
   "display_name": "Python 3",
   "language": "python",
   "name": "python3"
  },
  "language_info": {
   "codemirror_mode": {
    "name": "ipython",
    "version": 3
   },
   "file_extension": ".py",
   "mimetype": "text/x-python",
   "name": "python",
   "nbconvert_exporter": "python",
   "pygments_lexer": "ipython3",
   "version": "3.5.2"
  }
 },
 "nbformat": 4,
 "nbformat_minor": 2
}

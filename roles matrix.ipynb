{
 "cells": [
  {
   "cell_type": "code",
   "execution_count": 1,
   "metadata": {
    "collapsed": true
   },
   "outputs": [],
   "source": [
    "import numpy as np\n",
    "from scipy import linalg as la\n",
    "import pandas as pd\n",
    "from drazin import *\n",
    "from matplotlib import pyplot as plt\n",
    "import networkx as nx\n",
    "from tqdm import tqdm\n",
    "from itertools import product\n",
    "\n",
    "%matplotlib inline"
   ]
  },
  {
   "cell_type": "code",
   "execution_count": 2,
   "metadata": {
    "scrolled": true
   },
   "outputs": [
    {
     "data": {
      "text/html": [
       "<div>\n",
       "<style>\n",
       "    .dataframe thead tr:only-child th {\n",
       "        text-align: right;\n",
       "    }\n",
       "\n",
       "    .dataframe thead th {\n",
       "        text-align: left;\n",
       "    }\n",
       "\n",
       "    .dataframe tbody tr th {\n",
       "        vertical-align: top;\n",
       "    }\n",
       "</style>\n",
       "<table border=\"1\" class=\"dataframe\">\n",
       "  <thead>\n",
       "    <tr style=\"text-align: right;\">\n",
       "      <th></th>\n",
       "      <th>Unnamed: 0</th>\n",
       "      <th>Name</th>\n",
       "      <th>Change_Type</th>\n",
       "      <th>Pos</th>\n",
       "      <th>Season</th>\n",
       "      <th>Team</th>\n",
       "      <th>playerid</th>\n",
       "    </tr>\n",
       "  </thead>\n",
       "  <tbody>\n",
       "    <tr>\n",
       "      <th>0</th>\n",
       "      <td>12749</td>\n",
       "      <td>Alfredo Amezaga</td>\n",
       "      <td>Arrive</td>\n",
       "      <td>FD</td>\n",
       "      <td>2002</td>\n",
       "      <td>Angels</td>\n",
       "      <td>1</td>\n",
       "    </tr>\n",
       "    <tr>\n",
       "      <th>1</th>\n",
       "      <td>11355</td>\n",
       "      <td>Alfredo Amezaga</td>\n",
       "      <td>No Change</td>\n",
       "      <td>FD</td>\n",
       "      <td>2003</td>\n",
       "      <td>Angels</td>\n",
       "      <td>1</td>\n",
       "    </tr>\n",
       "    <tr>\n",
       "      <th>2</th>\n",
       "      <td>7809</td>\n",
       "      <td>Alfredo Amezaga</td>\n",
       "      <td>Leave</td>\n",
       "      <td>FD</td>\n",
       "      <td>2004</td>\n",
       "      <td>Angels</td>\n",
       "      <td>1</td>\n",
       "    </tr>\n",
       "    <tr>\n",
       "      <th>3</th>\n",
       "      <td>6220</td>\n",
       "      <td>Alfredo Amezaga</td>\n",
       "      <td>Arrive</td>\n",
       "      <td>FD</td>\n",
       "      <td>2006</td>\n",
       "      <td>Marlins</td>\n",
       "      <td>1</td>\n",
       "    </tr>\n",
       "    <tr>\n",
       "      <th>4</th>\n",
       "      <td>5311</td>\n",
       "      <td>Alfredo Amezaga</td>\n",
       "      <td>No Change</td>\n",
       "      <td>FD</td>\n",
       "      <td>2007</td>\n",
       "      <td>Marlins</td>\n",
       "      <td>1</td>\n",
       "    </tr>\n",
       "    <tr>\n",
       "      <th>5</th>\n",
       "      <td>6957</td>\n",
       "      <td>Alfredo Amezaga</td>\n",
       "      <td>No Change</td>\n",
       "      <td>FD</td>\n",
       "      <td>2008</td>\n",
       "      <td>Marlins</td>\n",
       "      <td>1</td>\n",
       "    </tr>\n",
       "    <tr>\n",
       "      <th>6</th>\n",
       "      <td>8591</td>\n",
       "      <td>Alfredo Amezaga</td>\n",
       "      <td>Leave</td>\n",
       "      <td>FD</td>\n",
       "      <td>2009</td>\n",
       "      <td>Marlins</td>\n",
       "      <td>1</td>\n",
       "    </tr>\n",
       "    <tr>\n",
       "      <th>8</th>\n",
       "      <td>13197</td>\n",
       "      <td>Garret Anderson</td>\n",
       "      <td>Arrive</td>\n",
       "      <td>FD</td>\n",
       "      <td>2002</td>\n",
       "      <td>Angels</td>\n",
       "      <td>2</td>\n",
       "    </tr>\n",
       "    <tr>\n",
       "      <th>9</th>\n",
       "      <td>6676</td>\n",
       "      <td>Garret Anderson</td>\n",
       "      <td>No Change</td>\n",
       "      <td>FD</td>\n",
       "      <td>2003</td>\n",
       "      <td>Angels</td>\n",
       "      <td>2</td>\n",
       "    </tr>\n",
       "    <tr>\n",
       "      <th>10</th>\n",
       "      <td>17104</td>\n",
       "      <td>Garret Anderson</td>\n",
       "      <td>No Change</td>\n",
       "      <td>FD</td>\n",
       "      <td>2004</td>\n",
       "      <td>Angels</td>\n",
       "      <td>2</td>\n",
       "    </tr>\n",
       "    <tr>\n",
       "      <th>11</th>\n",
       "      <td>17765</td>\n",
       "      <td>Garret Anderson</td>\n",
       "      <td>No Change</td>\n",
       "      <td>FD</td>\n",
       "      <td>2005</td>\n",
       "      <td>Angels</td>\n",
       "      <td>2</td>\n",
       "    </tr>\n",
       "    <tr>\n",
       "      <th>12</th>\n",
       "      <td>16924</td>\n",
       "      <td>Garret Anderson</td>\n",
       "      <td>No Change</td>\n",
       "      <td>FD</td>\n",
       "      <td>2006</td>\n",
       "      <td>Angels</td>\n",
       "      <td>2</td>\n",
       "    </tr>\n",
       "    <tr>\n",
       "      <th>13</th>\n",
       "      <td>16731</td>\n",
       "      <td>Garret Anderson</td>\n",
       "      <td>No Change</td>\n",
       "      <td>FD</td>\n",
       "      <td>2007</td>\n",
       "      <td>Angels</td>\n",
       "      <td>2</td>\n",
       "    </tr>\n",
       "    <tr>\n",
       "      <th>14</th>\n",
       "      <td>7095</td>\n",
       "      <td>Garret Anderson</td>\n",
       "      <td>Leave</td>\n",
       "      <td>FD</td>\n",
       "      <td>2008</td>\n",
       "      <td>Angels</td>\n",
       "      <td>2</td>\n",
       "    </tr>\n",
       "    <tr>\n",
       "      <th>15</th>\n",
       "      <td>17918</td>\n",
       "      <td>Garret Anderson</td>\n",
       "      <td>Arrive Leave</td>\n",
       "      <td>FD</td>\n",
       "      <td>2009</td>\n",
       "      <td>Braves</td>\n",
       "      <td>2</td>\n",
       "    </tr>\n",
       "    <tr>\n",
       "      <th>16</th>\n",
       "      <td>9407</td>\n",
       "      <td>Garret Anderson</td>\n",
       "      <td>Arrive</td>\n",
       "      <td>FD</td>\n",
       "      <td>2010</td>\n",
       "      <td>Dodgers</td>\n",
       "      <td>2</td>\n",
       "    </tr>\n",
       "    <tr>\n",
       "      <th>17</th>\n",
       "      <td>1572</td>\n",
       "      <td>Kevin Appier</td>\n",
       "      <td>Arrive Leave</td>\n",
       "      <td>P</td>\n",
       "      <td>2002</td>\n",
       "      <td>Angels</td>\n",
       "      <td>3</td>\n",
       "    </tr>\n",
       "    <tr>\n",
       "      <th>19</th>\n",
       "      <td>11865</td>\n",
       "      <td>Larry Barnes</td>\n",
       "      <td>Arrive</td>\n",
       "      <td>FD</td>\n",
       "      <td>2003</td>\n",
       "      <td>Dodgers</td>\n",
       "      <td>4</td>\n",
       "    </tr>\n",
       "    <tr>\n",
       "      <th>20</th>\n",
       "      <td>7311</td>\n",
       "      <td>Jamie Burke</td>\n",
       "      <td>Arrive Leave</td>\n",
       "      <td>C</td>\n",
       "      <td>2004</td>\n",
       "      <td>White Sox</td>\n",
       "      <td>6</td>\n",
       "    </tr>\n",
       "    <tr>\n",
       "      <th>21</th>\n",
       "      <td>13810</td>\n",
       "      <td>Jamie Burke</td>\n",
       "      <td>Arrive</td>\n",
       "      <td>C</td>\n",
       "      <td>2007</td>\n",
       "      <td>Mariners</td>\n",
       "      <td>6</td>\n",
       "    </tr>\n",
       "    <tr>\n",
       "      <th>22</th>\n",
       "      <td>11306</td>\n",
       "      <td>Jamie Burke</td>\n",
       "      <td>Leave</td>\n",
       "      <td>C</td>\n",
       "      <td>2008</td>\n",
       "      <td>Mariners</td>\n",
       "      <td>6</td>\n",
       "    </tr>\n",
       "    <tr>\n",
       "      <th>24</th>\n",
       "      <td>18057</td>\n",
       "      <td>Mickey Callaway</td>\n",
       "      <td>Arrive Leave</td>\n",
       "      <td>P</td>\n",
       "      <td>2002</td>\n",
       "      <td>Angels</td>\n",
       "      <td>7</td>\n",
       "    </tr>\n",
       "    <tr>\n",
       "      <th>26</th>\n",
       "      <td>5666</td>\n",
       "      <td>David Eckstein</td>\n",
       "      <td>Arrive</td>\n",
       "      <td>FD</td>\n",
       "      <td>2002</td>\n",
       "      <td>Angels</td>\n",
       "      <td>10</td>\n",
       "    </tr>\n",
       "    <tr>\n",
       "      <th>27</th>\n",
       "      <td>6014</td>\n",
       "      <td>David Eckstein</td>\n",
       "      <td>No Change</td>\n",
       "      <td>FD</td>\n",
       "      <td>2003</td>\n",
       "      <td>Angels</td>\n",
       "      <td>10</td>\n",
       "    </tr>\n",
       "    <tr>\n",
       "      <th>28</th>\n",
       "      <td>5840</td>\n",
       "      <td>David Eckstein</td>\n",
       "      <td>Leave</td>\n",
       "      <td>FD</td>\n",
       "      <td>2004</td>\n",
       "      <td>Angels</td>\n",
       "      <td>10</td>\n",
       "    </tr>\n",
       "    <tr>\n",
       "      <th>29</th>\n",
       "      <td>14277</td>\n",
       "      <td>David Eckstein</td>\n",
       "      <td>Arrive</td>\n",
       "      <td>FD</td>\n",
       "      <td>2005</td>\n",
       "      <td>Cardinals</td>\n",
       "      <td>10</td>\n",
       "    </tr>\n",
       "    <tr>\n",
       "      <th>30</th>\n",
       "      <td>6304</td>\n",
       "      <td>David Eckstein</td>\n",
       "      <td>No Change</td>\n",
       "      <td>FD</td>\n",
       "      <td>2006</td>\n",
       "      <td>Cardinals</td>\n",
       "      <td>10</td>\n",
       "    </tr>\n",
       "    <tr>\n",
       "      <th>31</th>\n",
       "      <td>16582</td>\n",
       "      <td>David Eckstein</td>\n",
       "      <td>Leave</td>\n",
       "      <td>FD</td>\n",
       "      <td>2007</td>\n",
       "      <td>Cardinals</td>\n",
       "      <td>10</td>\n",
       "    </tr>\n",
       "    <tr>\n",
       "      <th>33</th>\n",
       "      <td>16410</td>\n",
       "      <td>David Eckstein</td>\n",
       "      <td>Arrive Leave</td>\n",
       "      <td>FD</td>\n",
       "      <td>2008</td>\n",
       "      <td>Blue Jays</td>\n",
       "      <td>10</td>\n",
       "    </tr>\n",
       "    <tr>\n",
       "      <th>34</th>\n",
       "      <td>12449</td>\n",
       "      <td>David Eckstein</td>\n",
       "      <td>Arrive</td>\n",
       "      <td>FD</td>\n",
       "      <td>2009</td>\n",
       "      <td>Padres</td>\n",
       "      <td>10</td>\n",
       "    </tr>\n",
       "    <tr>\n",
       "      <th>...</th>\n",
       "      <td>...</td>\n",
       "      <td>...</td>\n",
       "      <td>...</td>\n",
       "      <td>...</td>\n",
       "      <td>...</td>\n",
       "      <td>...</td>\n",
       "      <td>...</td>\n",
       "    </tr>\n",
       "    <tr>\n",
       "      <th>14876</th>\n",
       "      <td>7749</td>\n",
       "      <td>Michael Conforto</td>\n",
       "      <td>No Change</td>\n",
       "      <td>FD</td>\n",
       "      <td>2016</td>\n",
       "      <td>Mets</td>\n",
       "      <td>16376</td>\n",
       "    </tr>\n",
       "    <tr>\n",
       "      <th>14877</th>\n",
       "      <td>20510</td>\n",
       "      <td>Reynaldo Lopez</td>\n",
       "      <td>Arrive</td>\n",
       "      <td>P</td>\n",
       "      <td>2016</td>\n",
       "      <td>Nationals</td>\n",
       "      <td>16400</td>\n",
       "    </tr>\n",
       "    <tr>\n",
       "      <th>14878</th>\n",
       "      <td>13113</td>\n",
       "      <td>Kyle Schwarber</td>\n",
       "      <td>Arrive</td>\n",
       "      <td>C</td>\n",
       "      <td>2015</td>\n",
       "      <td>Cubs</td>\n",
       "      <td>16478</td>\n",
       "    </tr>\n",
       "    <tr>\n",
       "      <th>14879</th>\n",
       "      <td>15011</td>\n",
       "      <td>Kyle Schwarber</td>\n",
       "      <td>No Change</td>\n",
       "      <td>FD</td>\n",
       "      <td>2015</td>\n",
       "      <td>Cubs</td>\n",
       "      <td>16478</td>\n",
       "    </tr>\n",
       "    <tr>\n",
       "      <th>14880</th>\n",
       "      <td>11040</td>\n",
       "      <td>Colin Moran</td>\n",
       "      <td>Arrive</td>\n",
       "      <td>FD</td>\n",
       "      <td>2016</td>\n",
       "      <td>Astros</td>\n",
       "      <td>16909</td>\n",
       "    </tr>\n",
       "    <tr>\n",
       "      <th>14881</th>\n",
       "      <td>20511</td>\n",
       "      <td>Luke Weaver</td>\n",
       "      <td>Arrive</td>\n",
       "      <td>P</td>\n",
       "      <td>2016</td>\n",
       "      <td>Cardinals</td>\n",
       "      <td>16918</td>\n",
       "    </tr>\n",
       "    <tr>\n",
       "      <th>14882</th>\n",
       "      <td>1673</td>\n",
       "      <td>Daniel Mengden</td>\n",
       "      <td>Arrive</td>\n",
       "      <td>P</td>\n",
       "      <td>2016</td>\n",
       "      <td>Athletics</td>\n",
       "      <td>16980</td>\n",
       "    </tr>\n",
       "    <tr>\n",
       "      <th>14883</th>\n",
       "      <td>8188</td>\n",
       "      <td>Rusney Castillo</td>\n",
       "      <td>Arrive</td>\n",
       "      <td>FD</td>\n",
       "      <td>2014</td>\n",
       "      <td>Red Sox</td>\n",
       "      <td>17016</td>\n",
       "    </tr>\n",
       "    <tr>\n",
       "      <th>14884</th>\n",
       "      <td>6910</td>\n",
       "      <td>Rusney Castillo</td>\n",
       "      <td>No Change</td>\n",
       "      <td>FD</td>\n",
       "      <td>2015</td>\n",
       "      <td>Red Sox</td>\n",
       "      <td>17016</td>\n",
       "    </tr>\n",
       "    <tr>\n",
       "      <th>14885</th>\n",
       "      <td>559</td>\n",
       "      <td>Raisel Iglesias</td>\n",
       "      <td>Arrive</td>\n",
       "      <td>P</td>\n",
       "      <td>2015</td>\n",
       "      <td>Reds</td>\n",
       "      <td>17130</td>\n",
       "    </tr>\n",
       "    <tr>\n",
       "      <th>14886</th>\n",
       "      <td>20512</td>\n",
       "      <td>Raisel Iglesias</td>\n",
       "      <td>No Change</td>\n",
       "      <td>P</td>\n",
       "      <td>2016</td>\n",
       "      <td>Reds</td>\n",
       "      <td>17130</td>\n",
       "    </tr>\n",
       "    <tr>\n",
       "      <th>14887</th>\n",
       "      <td>15223</td>\n",
       "      <td>Yasmany Tomas</td>\n",
       "      <td>Arrive</td>\n",
       "      <td>FD</td>\n",
       "      <td>2015</td>\n",
       "      <td>Diamondbacks</td>\n",
       "      <td>17171</td>\n",
       "    </tr>\n",
       "    <tr>\n",
       "      <th>14888</th>\n",
       "      <td>17376</td>\n",
       "      <td>Yasmany Tomas</td>\n",
       "      <td>No Change</td>\n",
       "      <td>FD</td>\n",
       "      <td>2016</td>\n",
       "      <td>Diamondbacks</td>\n",
       "      <td>17171</td>\n",
       "    </tr>\n",
       "    <tr>\n",
       "      <th>14889</th>\n",
       "      <td>7925</td>\n",
       "      <td>Jung Ho Kang</td>\n",
       "      <td>Arrive</td>\n",
       "      <td>FD</td>\n",
       "      <td>2015</td>\n",
       "      <td>Pirates</td>\n",
       "      <td>17182</td>\n",
       "    </tr>\n",
       "    <tr>\n",
       "      <th>14890</th>\n",
       "      <td>14466</td>\n",
       "      <td>Jung Ho Kang</td>\n",
       "      <td>No Change</td>\n",
       "      <td>FD</td>\n",
       "      <td>2016</td>\n",
       "      <td>Pirates</td>\n",
       "      <td>17182</td>\n",
       "    </tr>\n",
       "    <tr>\n",
       "      <th>14891</th>\n",
       "      <td>9693</td>\n",
       "      <td>Yoan Moncada</td>\n",
       "      <td>Arrive</td>\n",
       "      <td>FD</td>\n",
       "      <td>2016</td>\n",
       "      <td>Red Sox</td>\n",
       "      <td>17232</td>\n",
       "    </tr>\n",
       "    <tr>\n",
       "      <th>14892</th>\n",
       "      <td>20513</td>\n",
       "      <td>Brian Ellington</td>\n",
       "      <td>Arrive</td>\n",
       "      <td>P</td>\n",
       "      <td>2016</td>\n",
       "      <td>Marlins</td>\n",
       "      <td>17233</td>\n",
       "    </tr>\n",
       "    <tr>\n",
       "      <th>14893</th>\n",
       "      <td>20514</td>\n",
       "      <td>Jeff Hoffman</td>\n",
       "      <td>Arrive</td>\n",
       "      <td>P</td>\n",
       "      <td>2016</td>\n",
       "      <td>Rockies</td>\n",
       "      <td>17432</td>\n",
       "    </tr>\n",
       "    <tr>\n",
       "      <th>14895</th>\n",
       "      <td>15881</td>\n",
       "      <td>Hector Olivera</td>\n",
       "      <td>Arrive</td>\n",
       "      <td>FD</td>\n",
       "      <td>2015</td>\n",
       "      <td>Braves</td>\n",
       "      <td>17528</td>\n",
       "    </tr>\n",
       "    <tr>\n",
       "      <th>14896</th>\n",
       "      <td>11404</td>\n",
       "      <td>Hector Olivera</td>\n",
       "      <td>No Change</td>\n",
       "      <td>FD</td>\n",
       "      <td>2016</td>\n",
       "      <td>Braves</td>\n",
       "      <td>17528</td>\n",
       "    </tr>\n",
       "    <tr>\n",
       "      <th>14897</th>\n",
       "      <td>11525</td>\n",
       "      <td>Alex Bregman</td>\n",
       "      <td>Arrive</td>\n",
       "      <td>FD</td>\n",
       "      <td>2016</td>\n",
       "      <td>Astros</td>\n",
       "      <td>17678</td>\n",
       "    </tr>\n",
       "    <tr>\n",
       "      <th>14898</th>\n",
       "      <td>12153</td>\n",
       "      <td>Andrew Benintendi</td>\n",
       "      <td>Arrive</td>\n",
       "      <td>FD</td>\n",
       "      <td>2016</td>\n",
       "      <td>Red Sox</td>\n",
       "      <td>17901</td>\n",
       "    </tr>\n",
       "    <tr>\n",
       "      <th>14899</th>\n",
       "      <td>9392</td>\n",
       "      <td>Dansby Swanson</td>\n",
       "      <td>Arrive</td>\n",
       "      <td>FD</td>\n",
       "      <td>2016</td>\n",
       "      <td>Braves</td>\n",
       "      <td>18314</td>\n",
       "    </tr>\n",
       "    <tr>\n",
       "      <th>14900</th>\n",
       "      <td>10267</td>\n",
       "      <td>Byung-ho Park</td>\n",
       "      <td>Arrive</td>\n",
       "      <td>FD</td>\n",
       "      <td>2016</td>\n",
       "      <td>Twins</td>\n",
       "      <td>18497</td>\n",
       "    </tr>\n",
       "    <tr>\n",
       "      <th>14901</th>\n",
       "      <td>561</td>\n",
       "      <td>Kenta Maeda</td>\n",
       "      <td>Arrive</td>\n",
       "      <td>P</td>\n",
       "      <td>2016</td>\n",
       "      <td>Dodgers</td>\n",
       "      <td>18498</td>\n",
       "    </tr>\n",
       "    <tr>\n",
       "      <th>14902</th>\n",
       "      <td>17583</td>\n",
       "      <td>Hyun Soo Kim</td>\n",
       "      <td>Arrive</td>\n",
       "      <td>FD</td>\n",
       "      <td>2016</td>\n",
       "      <td>Orioles</td>\n",
       "      <td>18718</td>\n",
       "    </tr>\n",
       "    <tr>\n",
       "      <th>14903</th>\n",
       "      <td>3431</td>\n",
       "      <td>Seung Hwan Oh</td>\n",
       "      <td>Arrive</td>\n",
       "      <td>P</td>\n",
       "      <td>2016</td>\n",
       "      <td>Cardinals</td>\n",
       "      <td>18719</td>\n",
       "    </tr>\n",
       "    <tr>\n",
       "      <th>14904</th>\n",
       "      <td>12007</td>\n",
       "      <td>Guillermo Heredia</td>\n",
       "      <td>Arrive</td>\n",
       "      <td>FD</td>\n",
       "      <td>2016</td>\n",
       "      <td>Mariners</td>\n",
       "      <td>18721</td>\n",
       "    </tr>\n",
       "    <tr>\n",
       "      <th>14905</th>\n",
       "      <td>15967</td>\n",
       "      <td>Dae-Ho Lee</td>\n",
       "      <td>Arrive</td>\n",
       "      <td>FD</td>\n",
       "      <td>2016</td>\n",
       "      <td>Mariners</td>\n",
       "      <td>18722</td>\n",
       "    </tr>\n",
       "    <tr>\n",
       "      <th>14906</th>\n",
       "      <td>9564</td>\n",
       "      <td>Yulieski Gurriel</td>\n",
       "      <td>Arrive</td>\n",
       "      <td>FD</td>\n",
       "      <td>2016</td>\n",
       "      <td>Astros</td>\n",
       "      <td>19198</td>\n",
       "    </tr>\n",
       "  </tbody>\n",
       "</table>\n",
       "<p>13560 rows × 7 columns</p>\n",
       "</div>"
      ],
      "text/plain": [
       "       Unnamed: 0               Name   Change_Type Pos  Season          Team  \\\n",
       "0           12749    Alfredo Amezaga        Arrive  FD    2002        Angels   \n",
       "1           11355    Alfredo Amezaga     No Change  FD    2003        Angels   \n",
       "2            7809    Alfredo Amezaga         Leave  FD    2004        Angels   \n",
       "3            6220    Alfredo Amezaga        Arrive  FD    2006       Marlins   \n",
       "4            5311    Alfredo Amezaga     No Change  FD    2007       Marlins   \n",
       "5            6957    Alfredo Amezaga     No Change  FD    2008       Marlins   \n",
       "6            8591    Alfredo Amezaga         Leave  FD    2009       Marlins   \n",
       "8           13197    Garret Anderson        Arrive  FD    2002        Angels   \n",
       "9            6676    Garret Anderson     No Change  FD    2003        Angels   \n",
       "10          17104    Garret Anderson     No Change  FD    2004        Angels   \n",
       "11          17765    Garret Anderson     No Change  FD    2005        Angels   \n",
       "12          16924    Garret Anderson     No Change  FD    2006        Angels   \n",
       "13          16731    Garret Anderson     No Change  FD    2007        Angels   \n",
       "14           7095    Garret Anderson         Leave  FD    2008        Angels   \n",
       "15          17918    Garret Anderson  Arrive Leave  FD    2009        Braves   \n",
       "16           9407    Garret Anderson        Arrive  FD    2010       Dodgers   \n",
       "17           1572       Kevin Appier  Arrive Leave   P    2002        Angels   \n",
       "19          11865       Larry Barnes        Arrive  FD    2003       Dodgers   \n",
       "20           7311        Jamie Burke  Arrive Leave   C    2004     White Sox   \n",
       "21          13810        Jamie Burke        Arrive   C    2007      Mariners   \n",
       "22          11306        Jamie Burke         Leave   C    2008      Mariners   \n",
       "24          18057    Mickey Callaway  Arrive Leave   P    2002        Angels   \n",
       "26           5666     David Eckstein        Arrive  FD    2002        Angels   \n",
       "27           6014     David Eckstein     No Change  FD    2003        Angels   \n",
       "28           5840     David Eckstein         Leave  FD    2004        Angels   \n",
       "29          14277     David Eckstein        Arrive  FD    2005     Cardinals   \n",
       "30           6304     David Eckstein     No Change  FD    2006     Cardinals   \n",
       "31          16582     David Eckstein         Leave  FD    2007     Cardinals   \n",
       "33          16410     David Eckstein  Arrive Leave  FD    2008     Blue Jays   \n",
       "34          12449     David Eckstein        Arrive  FD    2009        Padres   \n",
       "...           ...                ...           ...  ..     ...           ...   \n",
       "14876        7749   Michael Conforto     No Change  FD    2016          Mets   \n",
       "14877       20510     Reynaldo Lopez        Arrive   P    2016     Nationals   \n",
       "14878       13113     Kyle Schwarber        Arrive   C    2015          Cubs   \n",
       "14879       15011     Kyle Schwarber     No Change  FD    2015          Cubs   \n",
       "14880       11040        Colin Moran        Arrive  FD    2016        Astros   \n",
       "14881       20511        Luke Weaver        Arrive   P    2016     Cardinals   \n",
       "14882        1673     Daniel Mengden        Arrive   P    2016     Athletics   \n",
       "14883        8188    Rusney Castillo        Arrive  FD    2014       Red Sox   \n",
       "14884        6910    Rusney Castillo     No Change  FD    2015       Red Sox   \n",
       "14885         559    Raisel Iglesias        Arrive   P    2015          Reds   \n",
       "14886       20512    Raisel Iglesias     No Change   P    2016          Reds   \n",
       "14887       15223      Yasmany Tomas        Arrive  FD    2015  Diamondbacks   \n",
       "14888       17376      Yasmany Tomas     No Change  FD    2016  Diamondbacks   \n",
       "14889        7925       Jung Ho Kang        Arrive  FD    2015       Pirates   \n",
       "14890       14466       Jung Ho Kang     No Change  FD    2016       Pirates   \n",
       "14891        9693       Yoan Moncada        Arrive  FD    2016       Red Sox   \n",
       "14892       20513    Brian Ellington        Arrive   P    2016       Marlins   \n",
       "14893       20514       Jeff Hoffman        Arrive   P    2016       Rockies   \n",
       "14895       15881     Hector Olivera        Arrive  FD    2015        Braves   \n",
       "14896       11404     Hector Olivera     No Change  FD    2016        Braves   \n",
       "14897       11525       Alex Bregman        Arrive  FD    2016        Astros   \n",
       "14898       12153  Andrew Benintendi        Arrive  FD    2016       Red Sox   \n",
       "14899        9392     Dansby Swanson        Arrive  FD    2016        Braves   \n",
       "14900       10267      Byung-ho Park        Arrive  FD    2016         Twins   \n",
       "14901         561        Kenta Maeda        Arrive   P    2016       Dodgers   \n",
       "14902       17583       Hyun Soo Kim        Arrive  FD    2016       Orioles   \n",
       "14903        3431      Seung Hwan Oh        Arrive   P    2016     Cardinals   \n",
       "14904       12007  Guillermo Heredia        Arrive  FD    2016      Mariners   \n",
       "14905       15967         Dae-Ho Lee        Arrive  FD    2016      Mariners   \n",
       "14906        9564   Yulieski Gurriel        Arrive  FD    2016        Astros   \n",
       "\n",
       "       playerid  \n",
       "0             1  \n",
       "1             1  \n",
       "2             1  \n",
       "3             1  \n",
       "4             1  \n",
       "5             1  \n",
       "6             1  \n",
       "8             2  \n",
       "9             2  \n",
       "10            2  \n",
       "11            2  \n",
       "12            2  \n",
       "13            2  \n",
       "14            2  \n",
       "15            2  \n",
       "16            2  \n",
       "17            3  \n",
       "19            4  \n",
       "20            6  \n",
       "21            6  \n",
       "22            6  \n",
       "24            7  \n",
       "26           10  \n",
       "27           10  \n",
       "28           10  \n",
       "29           10  \n",
       "30           10  \n",
       "31           10  \n",
       "33           10  \n",
       "34           10  \n",
       "...         ...  \n",
       "14876     16376  \n",
       "14877     16400  \n",
       "14878     16478  \n",
       "14879     16478  \n",
       "14880     16909  \n",
       "14881     16918  \n",
       "14882     16980  \n",
       "14883     17016  \n",
       "14884     17016  \n",
       "14885     17130  \n",
       "14886     17130  \n",
       "14887     17171  \n",
       "14888     17171  \n",
       "14889     17182  \n",
       "14890     17182  \n",
       "14891     17232  \n",
       "14892     17233  \n",
       "14893     17432  \n",
       "14895     17528  \n",
       "14896     17528  \n",
       "14897     17678  \n",
       "14898     17901  \n",
       "14899     18314  \n",
       "14900     18497  \n",
       "14901     18498  \n",
       "14902     18718  \n",
       "14903     18719  \n",
       "14904     18721  \n",
       "14905     18722  \n",
       "14906     19198  \n",
       "\n",
       "[13560 rows x 7 columns]"
      ]
     },
     "execution_count": 2,
     "metadata": {},
     "output_type": "execute_result"
    }
   ],
   "source": [
    "p = pd.read_csv('combined_cleaned.csv')\n",
    "\n",
    "p.drop(p[p.Team=='- - -'].index, inplace=True)\n",
    "p"
   ]
  },
  {
   "cell_type": "markdown",
   "metadata": {},
   "source": [
    "## Choose 2008,2009,2010 as a snapshot"
   ]
  },
  {
   "cell_type": "code",
   "execution_count": 3,
   "metadata": {},
   "outputs": [
    {
     "name": "stderr",
     "output_type": "stream",
     "text": [
      "/usr/local/lib/python3.5/dist-packages/ipykernel_launcher.py:2: SettingWithCopyWarning: \n",
      "A value is trying to be set on a copy of a slice from a DataFrame\n",
      "\n",
      "See the caveats in the documentation: http://pandas.pydata.org/pandas-docs/stable/indexing.html#indexing-view-versus-copy\n",
      "  \n"
     ]
    }
   ],
   "source": [
    "p08 = p[p.Season.isin(range(2008,1+2011))]\n",
    "p08.drop(p08[p08.Team=='- - -'].index, inplace=True)"
   ]
  },
  {
   "cell_type": "code",
   "execution_count": 4,
   "metadata": {
    "collapsed": true
   },
   "outputs": [],
   "source": [
    "num_p = len(p08.playerid.unique())\n",
    "num_t = len(p08.Team.unique())\n",
    "\n",
    "A = np.zeros((num_t, num_p))"
   ]
  },
  {
   "cell_type": "code",
   "execution_count": 5,
   "metadata": {
    "collapsed": true
   },
   "outputs": [],
   "source": [
    "p_dct = {v:k for k,v in enumerate(p08.playerid.unique())}\n",
    "t_dct = {v:k for k,v in enumerate(p08.Team.unique())}\n",
    "\n",
    "t = [0]*len(t_dct)\n",
    "for team,num in t_dct.items():\n",
    "    t[num] = team"
   ]
  },
  {
   "cell_type": "code",
   "execution_count": 6,
   "metadata": {
    "collapsed": true
   },
   "outputs": [],
   "source": [
    "for idx in p08.index:\n",
    "    i = t_dct[p08.get_value(idx,'Team')]\n",
    "    j = p_dct[p08.get_value(idx,'playerid')]\n",
    "    \n",
    "    A[i,j] += 1"
   ]
  },
  {
   "cell_type": "code",
   "execution_count": 7,
   "metadata": {
    "collapsed": true
   },
   "outputs": [],
   "source": [
    "p_all_dct = {v:k for k,v in enumerate(p.playerid.unique())}\n",
    "n = len(p_all_dct)\n",
    "p2p_roles = np.zeros((n,n))"
   ]
  },
  {
   "cell_type": "code",
   "execution_count": 8,
   "metadata": {
    "scrolled": true
   },
   "outputs": [
    {
     "name": "stderr",
     "output_type": "stream",
     "text": [
      "390it [00:01, 348.43it/s]\n"
     ]
    }
   ],
   "source": [
    "p_teams = p[p.Team != '- - -']\n",
    "by_season_team_chg = p_teams.groupby(['Season', 'Team', 'Change_Type'])\n",
    "for yi,ti in tqdm(product(range(2003, 1+2015), t)):\n",
    "    arrived = by_season_team_chg.get_group((yi,ti,'Arrive'))\n",
    "    #print(arrived)\n",
    "    if (yi,ti,'Arrive Leave') in by_season_team_chg.groups:\n",
    "        arrived = pd.concat([arrived, by_season_team_chg.get_group((yi,ti,'Arrive Leave'))])\n",
    "        #print(arrived.sample)\n",
    "    try:\n",
    "        leave = by_season_team_chg.get_group((yi-1,ti,'Leave'))\n",
    "    except:\n",
    "        leave = pd.DataFrame()\n",
    "    if (yi-1,ti,'Arrive Leave') in by_season_team_chg.groups:\n",
    "        leave = pd.concat([leave, by_season_team_chg.get_group((yi-1,ti,'Arrive Leave'))])\n",
    "    #print(arrived['playerid'], leave)\n",
    "    #if not arrived or not leave:\n",
    "    #    continue\n",
    "    for pid1, pid2 in product(arrived['playerid'].values, leave['playerid'].values):\n",
    "        #print(\"in loop: \", pid1, pid2, p_all_dct[pid1])\n",
    "        p2p_roles[p_all_dct[pid1], p_all_dct[pid2]] += 1\n",
    "        p2p_roles[p_all_dct[pid2], p_all_dct[pid1]] += 1"
   ]
  },
  {
   "cell_type": "code",
   "execution_count": 9,
   "metadata": {},
   "outputs": [
    {
     "data": {
      "text/plain": [
       "<matplotlib.image.AxesImage at 0x7fc2ace1f710>"
      ]
     },
     "execution_count": 9,
     "metadata": {},
     "output_type": "execute_result"
    },
    {
     "data": {
      "image/png": "[encoded data removed]",
      "text/plain": [
       "<matplotlib.figure.Figure at 0x7fc2b9ab9ef0>"
      ]
     },
     "metadata": {},
     "output_type": "display_data"
    }
   ],
   "source": [
    "r_dct = {v:k for k,v in enumerate(p.Pos.unique())}\n",
    "p2r = np.zeros((n,len(r_dct)))\n",
    "by_player = p.groupby('playerid')\n",
    "for pid,i in p_all_dct.items():\n",
    "    role = p[p.playerid==pid]['Pos'].values[0]\n",
    "    p2r[i, r_dct[role]] = 1\n",
    "orig = p2r.dot(p2r.T)\n",
    "\n",
    "plt.figure(figsize=(10,20))\n",
    "plt.subplot(121)\n",
    "plt.imshow(p2p_roles)\n",
    "plt.subplot(122)\n",
    "plt.imshow(orig)"
   ]
  },
  {
   "cell_type": "code",
   "execution_count": 10,
   "metadata": {},
   "outputs": [
    {
     "name": "stdout",
     "output_type": "stream",
     "text": [
      "(3399, 3399) (3399,) (3399, 3399)\n"
     ]
    }
   ],
   "source": [
    "u,s,vt = np.linalg.svd(p2p_roles)\n",
    "print(u.shape,s.shape, vt.shape )"
   ]
  },
  {
   "cell_type": "code",
   "execution_count": 11,
   "metadata": {
    "collapsed": true
   },
   "outputs": [],
   "source": [
    "uc, sc, vtc = u.copy(), s.copy(), vt.copy()\n"
   ]
  },
  {
   "cell_type": "code",
   "execution_count": 12,
   "metadata": {
    "collapsed": true
   },
   "outputs": [],
   "source": [
    "sc[4:] = 0\n"
   ]
  },
  {
   "cell_type": "code",
   "execution_count": 13,
   "metadata": {
    "collapsed": true
   },
   "outputs": [],
   "source": [
    "img = uc.dot(np.diag(sc).dot(vtc))"
   ]
  },
  {
   "cell_type": "code",
   "execution_count": 14,
   "metadata": {},
   "outputs": [
    {
     "data": {
      "text/plain": [
       "<matplotlib.image.AxesImage at 0x7f8a80a0d7b8>"
      ]
     },
     "execution_count": 14,
     "metadata": {},
     "output_type": "execute_result"
    },
    {
     "data": {
      "image/png": "[encoded data removed]",
      "text/plain": [
       "<matplotlib.figure.Figure at 0x7f8ab5b07e10>"
      ]
     },
     "metadata": {},
     "output_type": "display_data"
    }
   ],
   "source": [
    "imgc = img[:500,:500].copy()\n",
    "imgc[imgc>0.02] = 1\n",
    "imgc[imgc<0.02] = 0\n",
    "plt.figure(figsize=(15,20))\n",
    "plt.subplot(131)\n",
    "plt.imshow(imgc)\n",
    "plt.subplot(132)\n",
    "plt.imshow(orig[:500,:500])\n",
    "plt.subplot(133)\n",
    "plt.imshow(orig[:500,:500]-imgc)"
   ]
  },
  {
   "cell_type": "code",
   "execution_count": 15,
   "metadata": {},
   "outputs": [
    {
     "data": {
      "text/plain": [
       "Counter({-1.0: 41602, 0.0: 131534, 1.0: 76864})"
      ]
     },
     "execution_count": 15,
     "metadata": {},
     "output_type": "execute_result"
    }
   ],
   "source": [
    "from collections import Counter\n",
    "Counter((orig[:500,:500]-imgc).ravel())"
   ]
  },
  {
   "cell_type": "code",
   "execution_count": 16,
   "metadata": {},
   "outputs": [
    {
     "data": {
      "text/plain": [
       "Counter({0.0: 145416, 1.0: 104584})"
      ]
     },
     "execution_count": 16,
     "metadata": {},
     "output_type": "execute_result"
    }
   ],
   "source": [
    "Counter((orig[:500,:500]).ravel())"
   ]
  },
  {
   "cell_type": "markdown",
   "metadata": {},
   "source": [
    "## SVD Stuff"
   ]
  },
  {
   "cell_type": "code",
   "execution_count": 55,
   "metadata": {
    "collapsed": true
   },
   "outputs": [],
   "source": [
    "u, s, vT = np.linalg.svd(A)"
   ]
  },
  {
   "cell_type": "code",
   "execution_count": 57,
   "metadata": {
    "collapsed": true
   },
   "outputs": [],
   "source": [
    "s[6:] = 0"
   ]
  },
  {
   "cell_type": "code",
   "execution_count": 59,
   "metadata": {
    "collapsed": true
   },
   "outputs": [],
   "source": [
    "idx = np.diag_indices(min(A.shape))\n",
    "sigma = np.zeros_like(A)\n",
    "sigma[idx] = s"
   ]
  },
  {
   "cell_type": "code",
   "execution_count": 66,
   "metadata": {},
   "outputs": [
    {
     "data": {
      "text/plain": [
       "-0.005383913329110571"
      ]
     },
     "execution_count": 66,
     "metadata": {},
     "output_type": "execute_result"
    }
   ],
   "source": [
    "np.average(u.dot(sigma.dot(vT)) - A)"
   ]
  },
  {
   "cell_type": "code",
   "execution_count": 74,
   "metadata": {
    "collapsed": true
   },
   "outputs": [],
   "source": [
    "roles_v = 6\n",
    "fingerprint = np.ones((num_t, roles_v))\n",
    "rank = 5"
   ]
  },
  {
   "cell_type": "code",
   "execution_count": 76,
   "metadata": {
    "collapsed": true
   },
   "outputs": [],
   "source": [
    "u_trunc = u[:,:rank]\n",
    "s_trunc = s[:rank]\n",
    "vT_trunc = vT[:rank]"
   ]
  },
  {
   "cell_type": "code",
   "execution_count": 84,
   "metadata": {},
   "outputs": [
    {
     "data": {
      "text/plain": [
       "array([[  3.21003366e-02,   6.14385073e-02,   2.36294758e-01, ...,\n",
       "          1.34895795e-02,   6.54038574e-02,  -4.36840794e-04],\n",
       "       [  2.04795024e-02,   6.54166965e-02,   5.89241355e-02, ...,\n",
       "          1.27336418e-02,   5.21588320e-02,   4.44101072e-03],\n",
       "       [  7.87649194e-02,   5.89241355e-02,   1.05354548e+00, ...,\n",
       "          2.22945673e-02,  -9.24581599e-03,   4.51280091e-02],\n",
       "       ..., \n",
       "       [ -4.36840794e-04,   1.33230322e-02,   1.35384027e-01, ...,\n",
       "          1.48973929e-02,  -5.50748339e-02,   1.24352171e-01],\n",
       "       [  3.13915722e-02,   6.62612491e-02,   2.51709063e-01, ...,\n",
       "          1.46301025e-02,   4.28259717e-03,   1.79171238e-02],\n",
       "       [  2.20620599e-02,   4.21882255e-02,   1.83685438e-01, ...,\n",
       "          9.66047559e-03,   2.52630029e-02,   7.78016709e-03]])"
      ]
     },
     "execution_count": 84,
     "metadata": {},
     "output_type": "execute_result"
    }
   ],
   "source": [
    "u_trunc.dot(np.diag(s_trunc).dot(vT_trunc))"
   ]
  },
  {
   "cell_type": "code",
   "execution_count": 105,
   "metadata": {
    "collapsed": true
   },
   "outputs": [],
   "source": [
    "s_inv = np.linalg.inv(np.diag(s_trunc))\n",
    "roles = vT_trunc.T.dot(s_inv.dot(u_trunc.T.dot(fingerprint)))"
   ]
  },
  {
   "cell_type": "code",
   "execution_count": 99,
   "metadata": {},
   "outputs": [
    {
     "data": {
      "text/plain": [
       "(1357, 5)"
      ]
     },
     "execution_count": 99,
     "metadata": {},
     "output_type": "execute_result"
    }
   ],
   "source": [
    "vT_trunc.T.shape"
   ]
  },
  {
   "cell_type": "code",
   "execution_count": 103,
   "metadata": {},
   "outputs": [
    {
     "data": {
      "text/plain": [
       "array([[ 0.06771039,  0.        ,  0.        ,  0.        ,  0.        ],\n",
       "       [ 0.        ,  0.06992739,  0.        ,  0.        ,  0.        ],\n",
       "       [ 0.        ,  0.        ,  0.07071974,  0.        ,  0.        ],\n",
       "       [ 0.        ,  0.        ,  0.        ,  0.07089596,  0.        ],\n",
       "       [ 0.        ,  0.        ,  0.        ,  0.        ,  0.07125405]])"
      ]
     },
     "execution_count": 103,
     "metadata": {},
     "output_type": "execute_result"
    }
   ],
   "source": [
    "np.linalg.inv(np.diag(s_trunc))"
   ]
  },
  {
   "cell_type": "code",
   "execution_count": 104,
   "metadata": {},
   "outputs": [
    {
     "data": {
      "text/plain": [
       "(5, 6)"
      ]
     },
     "execution_count": 104,
     "metadata": {},
     "output_type": "execute_result"
    }
   ],
   "source": [
    "u_trunc.T.dot(fingerprint).shape"
   ]
  },
  {
   "cell_type": "code",
   "execution_count": 106,
   "metadata": {},
   "outputs": [
    {
     "data": {
      "text/plain": [
       "array([[ 0.00346089,  0.00346089,  0.00346089,  0.00346089,  0.00346089,\n",
       "         0.00346089],\n",
       "       [ 0.00914008,  0.00914008,  0.00914008,  0.00914008,  0.00914008,\n",
       "         0.00914008],\n",
       "       [ 0.02321023,  0.02321023,  0.02321023,  0.02321023,  0.02321023,\n",
       "         0.02321023],\n",
       "       ..., \n",
       "       [ 0.00220765,  0.00220765,  0.00220765,  0.00220765,  0.00220765,\n",
       "         0.00220765],\n",
       "       [ 0.00565527,  0.00565527,  0.00565527,  0.00565527,  0.00565527,\n",
       "         0.00565527],\n",
       "       [ 0.00404481,  0.00404481,  0.00404481,  0.00404481,  0.00404481,\n",
       "         0.00404481]])"
      ]
     },
     "execution_count": 106,
     "metadata": {},
     "output_type": "execute_result"
    }
   ],
   "source": [
    "roles"
   ]
  },
  {
   "cell_type": "code",
   "execution_count": null,
   "metadata": {
    "collapsed": true
   },
   "outputs": [],
   "source": [
    "for k,v in p_dct.items():\n",
    "    if v==:\n",
    "        print(k)\n",
    "        break"
   ]
  },
  {
   "cell_type": "markdown",
   "metadata": {},
   "source": [
    "## Graphs"
   ]
  },
  {
   "cell_type": "code",
   "execution_count": 7,
   "metadata": {},
   "outputs": [
    {
     "data": {
      "image/png": "[encoded data removed]",
      "text/plain": [
       "<matplotlib.figure.Figure at 0x7fda0c852278>"
      ]
     },
     "metadata": {},
     "output_type": "display_data"
    }
   ],
   "source": [
    "plt.figure(figsize=(10,10))\n",
    "plt.imshow(A)\n",
    "plt.show()"
   ]
  },
  {
   "cell_type": "code",
   "execution_count": 8,
   "metadata": {},
   "outputs": [
    {
     "data": {
      "image/png": "[encoded data removed]",
      "text/plain": [
       "<matplotlib.figure.Figure at 0x7fda0c899710>"
      ]
     },
     "metadata": {},
     "output_type": "display_data"
    }
   ],
   "source": [
    "plt.figure(figsize=(10,10))\n",
    "p2p = A.T.dot(A)\n",
    "plt.imshow(p2p)\n",
    "plt.show()"
   ]
  },
  {
   "cell_type": "code",
   "execution_count": 34,
   "metadata": {},
   "outputs": [
    {
     "data": {
      "image/png": "[encoded data removed]",
      "text/plain": [
       "<matplotlib.figure.Figure at 0x7fc2945e89e8>"
      ]
     },
     "metadata": {},
     "output_type": "display_data"
    }
   ],
   "source": [
    "eig, vec = np.linalg.eig(A.T.dot(A))\n",
    "order = np.argsort(np.real(eig))[::-1]\n",
    "plt.bar(np.argsort(order), np.real(eig))\n",
    "plt.show()"
   ]
  },
  {
   "cell_type": "code",
   "execution_count": 30,
   "metadata": {},
   "outputs": [
    {
     "data": {
      "image/png": "[encoded data removed]",
      "text/plain": [
       "<matplotlib.figure.Figure at 0x7fc294f0b160>"
      ]
     },
     "metadata": {},
     "output_type": "display_data"
    }
   ],
   "source": [
    "eig, vec = np.linalg.eig(A.dot(A.T))\n",
    "order = np.argsort(np.abs(eig))[::-1]\n",
    "plt.bar(np.argsort(order), np.abs(eig))\n",
    "plt.show()"
   ]
  },
  {
   "cell_type": "code",
   "execution_count": 9,
   "metadata": {
    "scrolled": true
   },
   "outputs": [
    {
     "data": {
      "image/png": "[encoded data removed]",
      "text/plain": [
       "<matplotlib.figure.Figure at 0x7fda07e5f860>"
      ]
     },
     "metadata": {},
     "output_type": "display_data"
    }
   ],
   "source": [
    "plt.figure(figsize=(10,10))\n",
    "t2t = A.dot(A.T)\n",
    "t2t[t2t>100] = 0\n",
    "plt.imshow(t2t)\n",
    "plt.show()"
   ]
  },
  {
   "cell_type": "code",
   "execution_count": 10,
   "metadata": {},
   "outputs": [
    {
     "name": "stdout",
     "output_type": "stream",
     "text": [
      "0 of 30\n",
      "1 of 30\n",
      "2 of 30\n",
      "3 of 30\n",
      "4 of 30\n",
      "5 of 30\n",
      "6 of 30\n",
      "7 of 30\n",
      "8 of 30\n",
      "9 of 30\n",
      "10 of 30\n",
      "11 of 30\n",
      "12 of 30\n",
      "13 of 30\n",
      "14 of 30\n",
      "15 of 30\n",
      "16 of 30\n",
      "17 of 30\n",
      "18 of 30\n",
      "19 of 30\n",
      "20 of 30\n",
      "21 of 30\n",
      "22 of 30\n",
      "23 of 30\n",
      "24 of 30\n",
      "25 of 30\n",
      "26 of 30\n",
      "27 of 30\n",
      "28 of 30\n",
      "29 of 30\n"
     ]
    }
   ],
   "source": [
    "d_t = drazin_inverse(t2t)\n",
    "er = effective_res(t2t)"
   ]
  },
  {
   "cell_type": "code",
   "execution_count": 11,
   "metadata": {},
   "outputs": [
    {
     "data": {
      "image/png": "[encoded data removed]",
      "text/plain": [
       "<matplotlib.figure.Figure at 0x7fda07de86a0>"
      ]
     },
     "metadata": {},
     "output_type": "display_data"
    }
   ],
   "source": [
    "plt.figure(figsize=(10,10))\n",
    "plt.imshow(t2t>0)\n",
    "plt.show()"
   ]
  },
  {
   "cell_type": "code",
   "execution_count": 12,
   "metadata": {},
   "outputs": [
    {
     "data": {
      "image/png": "[encoded data removed]",
      "text/plain": [
       "<matplotlib.figure.Figure at 0x7fda07d7e780>"
      ]
     },
     "metadata": {},
     "output_type": "display_data"
    },
    {
     "name": "stdout",
     "output_type": "stream",
     "text": [
      "0.0251771506288 0.0294476142987\n"
     ]
    }
   ],
   "source": [
    "plt.figure(figsize=(10,10))\n",
    "plt.imshow(er)\n",
    "plt.show()\n",
    "print(er[11,9], er[7,6])"
   ]
  },
  {
   "cell_type": "code",
   "execution_count": 13,
   "metadata": {
    "collapsed": true
   },
   "outputs": [],
   "source": [
    "LP = LinkPredictor()\n",
    "LP.res = er\n",
    "LP.A = t2t\n",
    "LP.names = [t_dct[i] for i in t]"
   ]
  },
  {
   "cell_type": "code",
   "execution_count": 14,
   "metadata": {},
   "outputs": [
    {
     "data": {
      "text/plain": [
       "(4, 14)"
      ]
     },
     "execution_count": 14,
     "metadata": {},
     "output_type": "execute_result"
    }
   ],
   "source": [
    "LP.predict_link()"
   ]
  },
  {
   "cell_type": "code",
   "execution_count": 15,
   "metadata": {},
   "outputs": [
    {
     "data": {
      "image/png": "[encoded data removed]",
      "text/plain": [
       "<matplotlib.figure.Figure at 0x7fda07d3e5c0>"
      ]
     },
     "metadata": {},
     "output_type": "display_data"
    },
    {
     "name": "stdout",
     "output_type": "stream",
     "text": [
      "0 0.0 0.0\n"
     ]
    }
   ],
   "source": [
    "plt.figure(figsize=(10,10))\n",
    "dif = t2t-er\n",
    "dif[t2t<0.02] = 0\n",
    "plt.imshow(dif)\n",
    "plt.show()\n",
    "midx = dif.argmin()\n",
    "print(midx, dif.ravel()[midx], dif[12][12])\n",
    "#dif.ravel()[midx]"
   ]
  },
  {
   "cell_type": "code",
   "execution_count": 16,
   "metadata": {
    "scrolled": true
   },
   "outputs": [
    {
     "data": {
      "text/plain": [
       "array(['Arrive', 'No Change', 'Leave', 'Arrive Leave'], dtype=object)"
      ]
     },
     "execution_count": 16,
     "metadata": {},
     "output_type": "execute_result"
    }
   ],
   "source": [
    "p.Change_Type.unique()"
   ]
  },
  {
   "cell_type": "code",
   "execution_count": 17,
   "metadata": {
    "collapsed": true
   },
   "outputs": [],
   "source": [
    "p.sort_values(by=['playerid', 'Season'], inplace=True)"
   ]
  },
  {
   "cell_type": "code",
   "execution_count": null,
   "metadata": {
    "collapsed": true
   },
   "outputs": [],
   "source": []
  },
  {
   "cell_type": "code",
   "execution_count": null,
   "metadata": {
    "collapsed": true
   },
   "outputs": [],
   "source": []
  },
  {
   "cell_type": "code",
   "execution_count": null,
   "metadata": {
    "collapsed": true
   },
   "outputs": [],
   "source": []
  }
 ],
 "metadata": {
  "kernelspec": {
   "display_name": "Python 3",
   "language": "python",
   "name": "python3"
  },
  "language_info": {
   "codemirror_mode": {
    "name": "ipython",
    "version": 3
   },
   "file_extension": ".py",
   "mimetype": "text/x-python",
   "name": "python",
   "nbconvert_exporter": "python",
   "pygments_lexer": "ipython3",
   "version": "3.5.2"
  }
 },
 "nbformat": 4,
 "nbformat_minor": 2
}

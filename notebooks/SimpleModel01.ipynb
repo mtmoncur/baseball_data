{
 "cells": [
  {
   "cell_type": "code",
   "execution_count": 1,
   "metadata": {
    "collapsed": true
   },
   "outputs": [],
   "source": [
    "import numpy as np\n",
    "from copy import deepcopy\n",
    "import gc\n",
    "from matplotlib import pyplot as plt\n",
    "from itertools import product\n",
    "gc.collect()\n",
    "%matplotlib inline"
   ]
  },
  {
   "cell_type": "code",
   "execution_count": 2,
   "metadata": {},
   "outputs": [
    {
     "name": "stdout",
     "output_type": "stream",
     "text": [
      "[0, 1, 2, 3, 4, 5, 6, 7, 8, 9, 10, 11, 12, 13, 14, 15, 16, 17, 18, 19]\n",
      "[20, 21, 22, 23, 24, 25, 26, 27, 28, 29, 30, 31, 32, 33, 34, 35, 36, 37, 38, 39]\n",
      "[40, 41, 42, 43, 44, 45, 46, 47, 48, 49, 50, 51, 52, 53, 54, 55, 56, 57, 58, 59]\n",
      "[60, 61, 62, 63, 64, 65, 66, 67, 68, 69, 70, 71, 72, 73, 74, 75, 76, 77, 78, 79]\n",
      "[80, 81, 82, 83, 84, 85, 86, 87, 88, 89, 90, 91, 92, 93, 94, 95, 96, 97, 98, 99]\n"
     ]
    }
   ],
   "source": [
    "per_g = 20\n",
    "num_groups = 5\n",
    "partition = [list(range(per_g*i,per_g*(i+1))) for i in range(num_groups)]\n",
    "print(*partition, sep='\\n')"
   ]
  },
  {
   "cell_type": "code",
   "execution_count": 3,
   "metadata": {
    "collapsed": true
   },
   "outputs": [],
   "source": [
    "def leave(i):\n",
    "    #probability of leaving if 1/(i%4+2)^2\n",
    "    if np.random.rand() < [0.18, 0.15, 0.12, 0.015][i%4]:#(2*(i%4)+1)**(-3):\n",
    "        return True\n",
    "    else:\n",
    "        return False\n",
    "    \n",
    "def iterate(partition, fixed=False):\n",
    "    \"\"\"\n",
    "    Argument: \n",
    "        p(list) - partition of individuals\n",
    "    Returns:\n",
    "        the next generation based on probability rules determined by mod 4\n",
    "    \"\"\"\n",
    "    p = deepcopy(partition)\n",
    "    num_groups = len(p)\n",
    "    new_comers = [[] for i in range(num_groups)]\n",
    "    \n",
    "    for i,group in enumerate(p):\n",
    "        for indiv in group:\n",
    "            is_leaving = leave(indiv)\n",
    "            if is_leaving:\n",
    "                group.remove(indiv) #####\n",
    "                new_group = np.random.randint(num_groups-1)\n",
    "                new_group = new_group if new_group < i else new_group + 1\n",
    "                new_comers[new_group].append(indiv)\n",
    "    for i in range(num_groups):\n",
    "        p[i].extend(new_comers[i])\n",
    "    return p"
   ]
  },
  {
   "cell_type": "code",
   "execution_count": 4,
   "metadata": {
    "collapsed": true
   },
   "outputs": [],
   "source": [
    "generations = [partition]\n",
    "for i in range(50):\n",
    "    generations.append(iterate(generations[-1]))"
   ]
  },
  {
   "cell_type": "code",
   "execution_count": 5,
   "metadata": {
    "collapsed": true
   },
   "outputs": [],
   "source": [
    "def similar(generations, indiv):\n",
    "    return [i*4+indiv%4 for i in range(25)]\n",
    "\n",
    "def markov_maker(generations, indiv):\n",
    "    similar_indiv = similar(generations, indiv)\n",
    "    tran = np.zeros((num_groups**3,num_groups**3)) ## we will look at the previous three states to predict\n",
    "    \n",
    "    num_p = {p:i for i,p in enumerate(product(range(5),repeat=3))}\n",
    "    p_num = {i:p for i,p in enumerate(product(range(5),repeat=3))}\n",
    "    #print(num_p)\n",
    "    for i in similar_indiv:\n",
    "        g1 = sum(i*(indiv in group) for i,group in enumerate(generations[0]))\n",
    "        g2 = sum(i*(indiv in group) for i,group in enumerate(generations[1]))\n",
    "        g3 = sum(i*(indiv in group) for i,group in enumerate(generations[2]))\n",
    "        #print(g1,g2,g3)\n",
    "        k = 1\n",
    "        if i == indiv:\n",
    "            k = 3 ##weighting factor\n",
    "            \n",
    "        for g_ind in range(3, len(generations)):\n",
    "            g4 = sum(i*(indiv in group) for i,group in enumerate(generations[g_ind]))\n",
    "            j = num_p[(g1,g2,g3)]\n",
    "            i = num_p[(g2,g3,g4)]\n",
    "            #print((g1,g2,g3,g4),i,j)\n",
    "            tran[i,j] += k\n",
    "            g1,g2,g3 = g2,g3,g4\n",
    "    \n",
    "    #tran = 0.999*tran\n",
    "    tran += 0.0001\n",
    "    tran = tran/np.sum(tran,axis=0)\n",
    "    return tran"
   ]
  },
  {
   "cell_type": "code",
   "execution_count": 6,
   "metadata": {},
   "outputs": [
    {
     "name": "stdout",
     "output_type": "stream",
     "text": [
      "24\n"
     ]
    },
    {
     "data": {
      "image/png": "[encoded data removed]",
      "text/plain": [
       "<matplotlib.figure.Figure at 0x7fa2163fc1d0>"
      ]
     },
     "metadata": {},
     "output_type": "display_data"
    }
   ],
   "source": [
    "t = markov_maker(generations, 40)\n",
    "print(np.sum(t>0.009))\n",
    "num_p = {p:i for i,p in enumerate(product(range(5),repeat=3))}\n",
    "p_num = {i:p for i,p in enumerate(product(range(5),repeat=3))}\n",
    "#print(num_p[(1,1,1)])\n",
    "n,m = t.shape\n",
    "x = np.arange(n)\n",
    "y = np.arange(m)\n",
    "plt.figure(figsize=(15,15))\n",
    "X,Y = np.meshgrid(x,y)\n",
    "plt.pcolormesh(X,Y,t)\n",
    "plt.colorbar()\n",
    "plt.show()"
   ]
  },
  {
   "cell_type": "code",
   "execution_count": 7,
   "metadata": {},
   "outputs": [
    {
     "name": "stdout",
     "output_type": "stream",
     "text": [
      "[[0, 1, 2, 3, 4, 5, 6, 7, 8, 9, 10, 11, 12, 13, 14, 15, 16, 17, 18, 19], [20, 21, 22, 23, 24, 25, 26, 27, 28, 29, 30, 31, 32, 33, 34, 35, 36, 37, 38, 39], [40, 41, 42, 43, 44, 45, 46, 47, 48, 49, 50, 51, 52, 53, 54, 55, 56, 57, 58, 59], [60, 61, 62, 63, 64, 65, 66, 67, 68, 69, 70, 71, 72, 73, 74, 75, 76, 77, 78, 79], [80, 81, 82, 83, 84, 85, 86, 87, 88, 89, 90, 91, 92, 93, 94, 95, 96, 97, 98, 99]]\n",
      "\n",
      "[[0, 1, 2, 3, 4, 5, 6, 7, 8, 9, 10, 11, 12, 13, 14, 15, 16, 17, 18, 19, 28], [20, 21, 22, 23, 24, 25, 26, 27, 29, 30, 31, 32, 33, 34, 35, 36, 37, 38, 39, 64, 66, 80, 85], [40, 41, 42, 43, 44, 45, 46, 47, 48, 50, 51, 52, 53, 54, 55, 56, 57, 58, 59, 60, 62], [61, 63, 65, 67, 68, 69, 70, 71, 72, 73, 74, 75, 76, 77, 78, 79], [81, 82, 83, 84, 86, 87, 88, 89, 90, 91, 92, 93, 94, 95, 96, 97, 98, 99, 49]]\n",
      "\n",
      "[[0, 1, 2, 3, 4, 5, 7, 8, 9, 10, 11, 12, 14, 15, 16, 17, 18, 19, 28], [20, 21, 22, 23, 24, 25, 26, 27, 29, 30, 31, 32, 33, 34, 35, 36, 38, 39, 64, 66, 80, 85, 6, 50, 92], [40, 41, 42, 43, 44, 45, 46, 47, 48, 51, 52, 53, 54, 55, 56, 57, 58, 59, 60, 62], [61, 63, 65, 67, 68, 70, 71, 72, 73, 74, 75, 76, 77, 78, 79, 13], [81, 82, 83, 84, 86, 87, 88, 89, 90, 91, 93, 94, 95, 96, 97, 98, 99, 49, 37, 69]]\n",
      "\n",
      "[[0, 1, 2, 3, 4, 5, 7, 8, 9, 11, 12, 14, 15, 17, 18, 19, 28, 48, 52], [21, 22, 23, 25, 26, 27, 29, 30, 31, 32, 33, 34, 35, 36, 38, 39, 64, 80, 85, 6, 50, 16, 74, 77], [40, 41, 42, 43, 44, 45, 46, 47, 51, 53, 54, 55, 56, 57, 58, 59, 62, 66, 93], [61, 63, 65, 67, 68, 70, 71, 72, 73, 75, 76, 78, 79, 13, 24, 60, 84, 98], [81, 82, 83, 86, 87, 88, 89, 90, 91, 94, 95, 96, 97, 99, 49, 37, 69, 10, 20, 92]]\n",
      "\n",
      "[[0, 1, 2, 3, 4, 5, 7, 8, 11, 14, 15, 17, 18, 19, 28, 48, 52, 24, 89, 94, 37], [21, 22, 23, 25, 26, 27, 30, 31, 32, 33, 34, 35, 36, 38, 39, 64, 80, 85, 6, 50, 16, 77, 12, 81, 97], [40, 41, 42, 43, 44, 45, 46, 47, 51, 53, 54, 55, 56, 57, 58, 59, 62, 66, 93, 9], [61, 63, 67, 68, 70, 71, 72, 73, 75, 76, 78, 79, 13, 60, 84, 98, 29, 10], [82, 83, 86, 87, 88, 90, 91, 95, 96, 99, 49, 69, 20, 92, 74, 65]]\n",
      "\n",
      "[[0, 1, 2, 3, 4, 7, 8, 11, 15, 17, 18, 28, 48, 52, 24, 89, 94, 26, 68, 72, 49], [21, 22, 23, 25, 27, 30, 31, 32, 33, 34, 35, 38, 39, 64, 80, 85, 6, 50, 16, 77, 12, 81, 97, 14, 37, 95], [40, 41, 42, 43, 44, 45, 46, 47, 51, 53, 54, 55, 56, 57, 58, 59, 62, 66, 93, 9, 5], [63, 67, 70, 71, 73, 75, 76, 78, 79, 13, 60, 84, 29, 10, 19, 20], [82, 83, 86, 87, 88, 90, 91, 96, 99, 69, 92, 74, 65, 36, 61, 98]]\n",
      "\n",
      "[[0, 1, 2, 3, 4, 7, 8, 11, 15, 18, 28, 48, 52, 24, 89, 26, 68, 72, 49, 41, 88], [21, 22, 23, 25, 27, 30, 31, 32, 33, 34, 35, 38, 39, 80, 6, 50, 16, 12, 81, 97, 14, 37, 95, 44], [40, 42, 43, 45, 46, 47, 51, 53, 54, 55, 56, 57, 58, 59, 62, 66, 93, 9, 5, 94, 64], [63, 67, 70, 71, 73, 75, 76, 78, 79, 13, 60, 84, 29, 10, 19, 20, 77, 92], [82, 83, 86, 87, 90, 91, 96, 99, 69, 74, 65, 36, 61, 98, 17, 85]]\n",
      "\n",
      "[[0, 1, 2, 3, 4, 7, 11, 15, 18, 48, 52, 24, 89, 26, 68, 72, 49, 41, 88, 44], [21, 22, 23, 25, 27, 31, 32, 33, 34, 35, 38, 39, 80, 6, 50, 16, 12, 81, 97, 14, 37, 95, 28, 45, 29, 90], [40, 42, 43, 46, 47, 51, 53, 54, 55, 56, 57, 58, 59, 62, 66, 93, 9, 5, 94, 64, 8, 30], [63, 67, 70, 71, 73, 75, 78, 79, 13, 60, 84, 10, 19, 20, 77, 92, 98], [82, 83, 86, 87, 91, 96, 99, 69, 74, 65, 36, 61, 17, 85, 76]]\n",
      "\n",
      "[[0, 1, 2, 3, 4, 7, 15, 48, 52, 89, 26, 68, 72, 49, 41, 44, 38, 58, 70], [21, 22, 23, 25, 27, 31, 32, 33, 34, 35, 39, 80, 6, 50, 16, 12, 81, 97, 14, 37, 95, 45, 29, 90, 24, 42, 92], [40, 43, 46, 47, 51, 53, 54, 55, 56, 57, 59, 62, 66, 93, 9, 94, 64, 8, 30, 65, 61], [63, 67, 71, 73, 75, 78, 79, 13, 60, 84, 10, 19, 20, 77, 98, 11, 18, 28, 5, 82], [83, 86, 87, 91, 96, 99, 69, 74, 36, 17, 85, 76, 88]]\n",
      "\n",
      "[[0, 1, 2, 3, 4, 7, 15, 48, 52, 89, 26, 68, 72, 41, 44, 38, 70, 45, 46, 9, 13], [21, 22, 23, 25, 27, 31, 32, 34, 35, 39, 80, 6, 50, 16, 81, 97, 14, 37, 95, 29, 90, 24, 42, 92, 58, 57], [40, 43, 47, 51, 53, 54, 55, 56, 59, 66, 93, 94, 64, 8, 30, 65, 61], [63, 67, 71, 73, 75, 78, 79, 60, 84, 10, 19, 20, 77, 98, 11, 18, 28, 5, 82, 62], [83, 86, 87, 91, 96, 99, 69, 74, 36, 17, 85, 76, 88, 49, 33, 12]]\n",
      "\n",
      "[[0, 1, 2, 3, 4, 7, 15, 48, 52, 89, 26, 68, 72, 41, 38, 70, 45, 46, 9, 13, 54], [21, 22, 23, 25, 27, 31, 32, 34, 35, 39, 6, 50, 16, 81, 97, 14, 37, 95, 29, 90, 24, 42, 92, 58, 57, 11], [40, 43, 47, 51, 53, 55, 56, 59, 66, 93, 94, 64, 8, 30, 65, 61, 44, 77], [63, 67, 71, 73, 75, 78, 79, 60, 84, 10, 19, 20, 98, 18, 28, 5, 82, 62, 80], [83, 86, 87, 91, 96, 99, 69, 74, 36, 17, 85, 76, 88, 49, 33, 12]]\n",
      "\n",
      "[[0, 2, 3, 4, 7, 15, 48, 52, 89, 26, 68, 72, 38, 70, 45, 46, 9, 13, 54, 32, 50, 84], [21, 23, 25, 27, 31, 34, 35, 39, 6, 16, 81, 14, 37, 95, 29, 90, 42, 92, 58, 57, 11, 1], [43, 47, 51, 53, 55, 56, 59, 93, 94, 64, 8, 65, 61, 44, 77, 41, 22, 71], [63, 67, 73, 75, 78, 79, 60, 10, 19, 20, 98, 18, 28, 5, 82, 62, 80, 12], [83, 86, 87, 91, 96, 99, 69, 74, 36, 17, 85, 76, 88, 49, 33, 97, 24, 40, 66, 30]]\n",
      "\n",
      "[[2, 3, 4, 7, 15, 48, 52, 26, 72, 38, 70, 45, 9, 13, 54, 32, 50, 84, 49], [21, 23, 25, 27, 31, 35, 39, 6, 16, 81, 14, 37, 95, 29, 90, 42, 92, 58, 57, 11, 1, 68, 60, 69], [43, 47, 51, 53, 55, 56, 59, 93, 94, 64, 8, 65, 61, 44, 77, 41, 22, 71, 89, 46, 85], [63, 67, 73, 75, 78, 79, 10, 19, 20, 98, 18, 28, 5, 82, 62, 80, 12, 0, 34], [83, 86, 87, 91, 96, 99, 74, 36, 17, 76, 88, 33, 97, 24, 40, 66, 30]]\n",
      "\n",
      "[[2, 3, 7, 15, 48, 52, 26, 72, 38, 70, 45, 9, 13, 54, 32, 50, 84, 49, 41, 24], [21, 23, 25, 27, 31, 35, 39, 6, 16, 81, 14, 37, 95, 29, 90, 42, 92, 58, 57, 11, 1, 68, 69, 4, 8, 89, 85, 20], [43, 47, 51, 53, 55, 56, 59, 93, 94, 64, 65, 61, 44, 77, 22, 71, 46, 10], [63, 67, 73, 75, 78, 79, 19, 98, 18, 28, 5, 82, 62, 80, 12, 0, 34], [83, 86, 87, 91, 96, 99, 74, 36, 17, 76, 88, 33, 97, 40, 66, 30, 60]]\n",
      "\n",
      "[[2, 3, 7, 15, 52, 72, 38, 70, 45, 9, 13, 54, 32, 50, 49, 41, 17], [21, 23, 25, 27, 31, 35, 39, 6, 16, 81, 14, 37, 95, 29, 90, 42, 92, 58, 57, 11, 1, 68, 69, 4, 8, 89, 85, 20, 24, 61, 40], [43, 47, 51, 53, 55, 56, 59, 93, 94, 64, 65, 44, 77, 22, 71, 46, 10], [63, 67, 73, 75, 78, 79, 19, 98, 18, 28, 5, 82, 62, 12, 0, 34, 48, 84], [83, 86, 87, 91, 96, 99, 74, 36, 76, 88, 33, 97, 66, 30, 60, 26, 80]]\n",
      "\n",
      "[[2, 3, 7, 15, 52, 72, 38, 70, 45, 9, 13, 32, 50, 49, 41, 17], [21, 23, 25, 27, 31, 35, 39, 6, 16, 14, 37, 95, 29, 90, 92, 58, 57, 11, 1, 68, 69, 4, 89, 85, 20, 24, 61, 40, 44], [43, 47, 51, 53, 55, 59, 93, 94, 64, 65, 77, 71, 46, 10], [63, 67, 73, 75, 78, 79, 19, 98, 18, 28, 5, 82, 62, 12, 0, 34, 84, 81, 8, 22, 33, 60], [83, 86, 87, 91, 96, 99, 74, 36, 76, 88, 97, 66, 30, 26, 80, 54, 42, 56, 48]]\n",
      "\n",
      "[[2, 3, 7, 15, 52, 72, 38, 70, 45, 9, 13, 32, 50, 49, 41, 17, 4, 64, 5, 12, 60], [21, 23, 25, 27, 31, 35, 39, 6, 16, 14, 37, 95, 29, 90, 92, 58, 57, 11, 1, 68, 69, 89, 85, 20, 61, 40, 44, 8], [43, 47, 51, 53, 55, 93, 94, 65, 77, 71, 46, 10], [63, 67, 73, 75, 78, 79, 19, 98, 18, 28, 82, 62, 0, 34, 84, 81, 22, 33, 48], [83, 86, 87, 91, 96, 99, 74, 36, 76, 88, 97, 66, 30, 26, 80, 54, 42, 56, 24, 59]]\n",
      "\n",
      "[[3, 7, 15, 72, 38, 70, 45, 9, 13, 50, 49, 41, 17, 4, 64, 5, 60, 97, 56], [21, 23, 25, 27, 31, 35, 39, 6, 16, 37, 95, 29, 90, 92, 58, 57, 11, 1, 69, 85, 20, 40, 44, 81, 30], [43, 47, 51, 53, 55, 93, 65, 77, 71, 46, 10, 52, 32, 68, 8, 33], [63, 67, 73, 75, 79, 19, 98, 18, 28, 82, 62, 0, 34, 84, 22, 48, 12, 61], [83, 86, 87, 91, 96, 99, 74, 36, 76, 88, 66, 26, 80, 54, 42, 24, 59, 2, 14, 89, 94, 78]]\n",
      "\n",
      "[[3, 7, 15, 72, 70, 45, 13, 50, 49, 41, 4, 64, 5, 60, 97, 56, 92, 76], [21, 23, 25, 27, 31, 35, 39, 6, 16, 37, 95, 29, 90, 58, 57, 11, 1, 69, 85, 20, 44, 81, 30, 38, 17, 54], [43, 47, 51, 53, 55, 93, 65, 77, 71, 46, 10, 52, 32, 68, 8, 33, 86], [63, 67, 73, 75, 79, 19, 98, 18, 28, 82, 62, 0, 34, 22, 48, 12, 61], [83, 87, 91, 96, 99, 74, 36, 88, 66, 26, 80, 42, 24, 59, 2, 14, 89, 94, 78, 9, 40, 84]]\n",
      "\n",
      "[[3, 7, 15, 72, 70, 45, 13, 49, 41, 4, 64, 5, 60, 56, 92, 76, 80], [21, 23, 25, 27, 31, 35, 39, 6, 16, 37, 95, 90, 58, 57, 11, 69, 85, 20, 44, 30, 38, 17], [43, 47, 51, 53, 55, 93, 65, 77, 71, 10, 52, 32, 68, 8, 33, 86, 1, 81, 36, 24], [63, 67, 75, 79, 19, 98, 18, 28, 82, 0, 34, 48, 12, 61, 54, 46], [83, 87, 91, 96, 99, 74, 88, 66, 26, 42, 59, 2, 14, 89, 94, 78, 9, 40, 84, 50, 97, 29, 73, 62, 22]]\n",
      "\n",
      "[[3, 7, 15, 72, 70, 45, 13, 49, 41, 64, 5, 56, 92, 76, 80, 77, 33, 96, 26, 29], [21, 23, 25, 27, 31, 35, 39, 6, 16, 37, 95, 90, 58, 57, 69, 85, 44, 30, 38, 17, 4, 22], [43, 47, 51, 53, 55, 93, 65, 71, 10, 52, 32, 68, 8, 86, 1, 81, 36, 24, 11, 20], [63, 67, 75, 79, 19, 98, 18, 28, 82, 0, 34, 12, 61, 54, 60, 89], [83, 87, 91, 99, 74, 88, 66, 42, 59, 2, 14, 94, 78, 9, 40, 84, 50, 97, 73, 62, 48, 46]]\n",
      "\n",
      "[[7, 15, 72, 70, 45, 13, 49, 41, 5, 56, 92, 76, 77, 33, 96, 26, 29, 21, 53, 61], [23, 25, 27, 31, 35, 39, 6, 37, 95, 90, 58, 57, 69, 85, 44, 30, 38, 17, 4, 22, 3, 80, 40, 73], [43, 47, 51, 55, 93, 65, 71, 10, 52, 32, 8, 86, 1, 81, 36, 24, 11, 16, 88], [63, 67, 75, 79, 19, 98, 18, 28, 82, 34, 12, 54, 60, 89, 64, 20, 2], [83, 87, 91, 99, 74, 66, 42, 59, 14, 94, 78, 9, 84, 50, 97, 62, 48, 46, 68, 0]]\n",
      "\n",
      "[[7, 15, 72, 70, 45, 13, 49, 41, 5, 56, 76, 77, 33, 26, 29, 21, 53, 61, 58, 69, 80, 68], [23, 25, 27, 31, 35, 39, 6, 37, 95, 90, 57, 85, 44, 30, 38, 17, 4, 22, 3, 40, 73, 96], [43, 47, 51, 55, 93, 65, 71, 10, 52, 32, 8, 86, 1, 81, 36, 24, 11, 16, 88], [63, 67, 75, 79, 19, 98, 18, 28, 82, 34, 12, 54, 60, 89, 64, 20, 2], [83, 87, 91, 99, 74, 66, 42, 59, 14, 94, 78, 9, 84, 50, 97, 62, 48, 46, 0, 92]]\n",
      "\n",
      "[[7, 15, 70, 45, 13, 49, 41, 5, 56, 76, 77, 33, 29, 21, 53, 61, 69, 80, 40, 42, 78], [23, 25, 27, 31, 35, 39, 6, 37, 95, 90, 57, 44, 38, 17, 4, 22, 3, 73, 96, 52, 50, 62], [43, 47, 51, 55, 93, 71, 10, 32, 8, 86, 1, 36, 24, 11, 16, 88, 30, 18], [63, 67, 75, 79, 19, 98, 28, 82, 34, 12, 54, 60, 89, 64, 2, 72, 26, 85, 81, 74], [83, 87, 91, 99, 66, 59, 14, 94, 9, 84, 97, 48, 46, 0, 92, 58, 68, 65, 20]]\n",
      "\n",
      "[[7, 15, 70, 13, 49, 41, 5, 76, 77, 33, 29, 21, 53, 69, 80, 40, 42, 78, 62, 58], [23, 25, 27, 31, 35, 39, 6, 37, 95, 57, 44, 38, 17, 4, 22, 3, 73, 96, 52, 50, 8], [43, 47, 51, 55, 93, 71, 10, 32, 86, 1, 36, 24, 11, 88, 30, 18, 61, 98, 9], [63, 67, 75, 79, 19, 28, 82, 34, 12, 60, 89, 64, 2, 72, 26, 85, 81, 74, 56, 16, 66], [83, 87, 91, 99, 59, 14, 94, 84, 97, 48, 46, 0, 92, 68, 65, 20, 45, 90, 54]]\n",
      "\n",
      "[[7, 15, 70, 13, 49, 41, 5, 76, 77, 33, 29, 21, 53, 69, 80, 40, 42, 78, 58, 9, 12, 81, 14], [23, 25, 27, 31, 35, 39, 6, 37, 95, 57, 44, 38, 17, 4, 22, 3, 73, 96, 52, 50, 8, 62, 89], [43, 47, 51, 55, 93, 71, 32, 86, 1, 36, 24, 11, 88, 30, 18, 61, 98, 28], [63, 67, 75, 19, 82, 34, 60, 64, 2, 72, 26, 85, 74, 56, 16, 66, 10, 20, 90], [83, 87, 91, 99, 59, 94, 84, 97, 48, 46, 0, 92, 68, 65, 45, 54, 79]]\n",
      "\n",
      "[[7, 15, 70, 13, 49, 5, 77, 33, 29, 21, 69, 80, 40, 42, 78, 58, 9, 12, 81, 14], [23, 25, 27, 31, 35, 39, 6, 95, 57, 38, 17, 4, 22, 3, 73, 96, 52, 50, 8, 62, 89, 76], [43, 47, 51, 55, 93, 71, 32, 86, 1, 36, 24, 11, 88, 30, 18, 61, 98, 28, 64], [63, 67, 75, 19, 82, 34, 60, 2, 72, 26, 85, 74, 56, 16, 66, 10, 20, 90, 41, 37, 44, 68], [83, 87, 91, 99, 59, 94, 84, 97, 48, 46, 0, 92, 65, 45, 54, 79, 53]]\n",
      "\n",
      "[[7, 15, 70, 13, 49, 77, 33, 29, 21, 69, 40, 42, 78, 58, 9, 12, 81, 14, 2], [23, 25, 27, 31, 35, 39, 6, 95, 57, 38, 17, 4, 3, 73, 96, 52, 50, 8, 62, 89, 76, 36, 74, 0], [43, 47, 51, 55, 93, 71, 86, 1, 24, 11, 88, 30, 18, 61, 98, 28, 64, 5, 22, 44], [63, 67, 75, 19, 82, 34, 60, 72, 26, 85, 56, 16, 66, 10, 20, 90, 41, 37, 68, 80, 32], [83, 87, 91, 99, 59, 94, 84, 97, 48, 46, 92, 65, 45, 54, 79, 53]]\n",
      "\n",
      "[[7, 15, 13, 77, 33, 29, 21, 40, 42, 78, 58, 9, 12, 81, 14, 2, 73, 72, 80], [23, 27, 31, 35, 39, 6, 95, 57, 38, 17, 4, 3, 96, 52, 50, 8, 62, 89, 76, 36, 74, 0], [43, 47, 51, 55, 93, 86, 1, 24, 11, 88, 30, 61, 98, 28, 64, 5, 22, 44, 70, 25, 82, 20], [63, 67, 75, 19, 34, 60, 26, 85, 56, 16, 66, 10, 90, 41, 37, 68, 32, 71], [83, 87, 91, 99, 59, 94, 84, 97, 48, 46, 92, 65, 45, 54, 79, 53, 49, 69, 18]]\n",
      "\n",
      "[[7, 15, 13, 77, 33, 29, 40, 42, 78, 58, 12, 81, 14, 73, 72, 80, 74, 86], [23, 27, 35, 39, 6, 95, 38, 17, 4, 3, 96, 52, 50, 8, 62, 89, 76, 36, 0, 21], [43, 47, 51, 55, 93, 1, 24, 11, 88, 30, 61, 98, 28, 64, 5, 22, 44, 25, 82, 20, 9, 2, 65], [63, 67, 75, 19, 34, 60, 26, 85, 56, 16, 66, 10, 90, 41, 37, 68, 32, 71, 57, 70, 49], [83, 87, 91, 99, 59, 94, 84, 97, 48, 46, 92, 45, 54, 79, 53, 69, 18, 31]]\n",
      "\n",
      "[[7, 15, 13, 77, 33, 29, 42, 78, 58, 81, 14, 72, 80, 86], [23, 27, 35, 39, 6, 95, 38, 17, 3, 96, 52, 50, 8, 62, 89, 36, 21, 40, 74], [43, 47, 51, 55, 93, 1, 24, 11, 88, 30, 61, 98, 28, 64, 5, 22, 44, 82, 20, 9, 2, 65, 12, 4, 0], [63, 67, 75, 19, 34, 60, 26, 85, 56, 16, 66, 90, 41, 37, 68, 32, 71, 57, 70, 49, 73, 76], [83, 87, 91, 99, 59, 94, 84, 97, 48, 46, 92, 45, 54, 79, 53, 69, 18, 31, 25, 10]]\n",
      "\n",
      "[[7, 15, 13, 77, 29, 42, 78, 58, 81, 14, 72, 80, 86, 34, 90, 68, 76], [23, 27, 35, 39, 6, 95, 38, 17, 3, 96, 52, 50, 8, 89, 36, 21, 40, 74, 65], [43, 47, 51, 55, 93, 1, 11, 88, 30, 61, 98, 28, 64, 5, 22, 44, 82, 20, 9, 2, 12, 4, 0, 69], [63, 67, 75, 19, 60, 26, 85, 56, 16, 66, 41, 37, 32, 71, 57, 70, 49, 73], [83, 87, 91, 99, 59, 94, 84, 97, 48, 46, 92, 45, 54, 79, 53, 18, 31, 25, 10, 33, 62, 24]]\n",
      "\n",
      "[[7, 15, 77, 29, 42, 78, 81, 14, 72, 80, 34, 90, 76, 28], [23, 27, 35, 39, 6, 95, 38, 17, 3, 96, 52, 50, 8, 89, 36, 21, 40, 74, 65], [43, 47, 51, 93, 11, 88, 30, 98, 64, 5, 22, 44, 82, 20, 9, 2, 12, 4, 0, 69, 58, 85], [63, 67, 75, 19, 60, 26, 56, 16, 66, 41, 37, 32, 71, 57, 70, 49, 73, 13, 68, 1, 61], [83, 87, 91, 99, 59, 94, 84, 97, 48, 46, 92, 45, 54, 79, 53, 18, 31, 25, 10, 33, 62, 24, 86, 55]]\n",
      "\n",
      "[[7, 15, 77, 29, 42, 78, 81, 14, 80, 34, 90, 76, 28, 6, 21, 68], [23, 27, 35, 39, 95, 38, 17, 3, 96, 52, 50, 8, 89, 36, 40, 74, 82, 56, 18], [43, 47, 51, 93, 11, 30, 98, 64, 5, 22, 44, 20, 2, 12, 4, 0, 69, 58, 92], [63, 67, 75, 19, 60, 26, 16, 66, 41, 37, 32, 71, 57, 70, 49, 73, 13, 1, 61, 72, 65, 97], [83, 87, 91, 99, 59, 94, 84, 48, 46, 45, 54, 79, 53, 31, 25, 10, 33, 62, 24, 86, 55, 88, 9, 85]]\n",
      "\n",
      "[[7, 15, 77, 29, 42, 78, 81, 14, 80, 34, 90, 76, 28, 6, 21, 69], [23, 27, 35, 39, 95, 38, 17, 3, 96, 52, 50, 8, 36, 40, 74, 82, 56, 18, 68], [43, 47, 51, 93, 11, 30, 98, 64, 22, 44, 20, 2, 12, 4, 0, 58, 92, 45], [63, 67, 75, 60, 16, 66, 41, 37, 32, 71, 57, 70, 49, 73, 13, 1, 61, 72, 65, 97, 89, 5, 85], [83, 87, 91, 99, 59, 94, 84, 48, 46, 54, 79, 53, 31, 25, 10, 33, 62, 24, 86, 55, 88, 9, 19, 26]]\n",
      "\n",
      "[[7, 15, 77, 42, 78, 81, 14, 80, 34, 90, 76, 28, 6, 69, 45, 97, 84, 24], [23, 27, 35, 39, 95, 38, 17, 3, 96, 52, 50, 8, 40, 74, 82, 56, 18, 68, 0], [43, 47, 51, 93, 11, 30, 98, 64, 22, 44, 20, 2, 12, 4, 58, 92, 36], [63, 67, 75, 60, 16, 66, 41, 37, 32, 71, 57, 70, 49, 73, 13, 1, 61, 72, 65, 89, 5, 85, 29], [83, 87, 91, 99, 59, 94, 48, 46, 54, 79, 53, 31, 25, 10, 33, 62, 86, 55, 88, 9, 19, 26, 21]]\n",
      "\n",
      "[[7, 15, 42, 78, 14, 34, 90, 76, 28, 6, 69, 45, 97, 24, 40, 93], [23, 27, 35, 39, 95, 38, 17, 3, 96, 52, 50, 8, 74, 82, 56, 18, 68, 0, 80, 89], [43, 47, 51, 11, 30, 98, 64, 22, 44, 20, 2, 12, 4, 58, 92, 77, 81, 13], [63, 67, 75, 60, 16, 66, 41, 37, 32, 71, 57, 70, 49, 73, 1, 61, 72, 65, 5, 85, 29, 84, 36], [83, 87, 91, 99, 59, 94, 48, 46, 54, 79, 53, 31, 25, 10, 33, 62, 86, 55, 88, 9, 19, 26, 21]]\n",
      "\n",
      "[[7, 15, 42, 78, 14, 34, 90, 28, 6, 69, 45, 97, 24, 40, 93], [23, 27, 35, 39, 95, 38, 17, 3, 96, 52, 50, 8, 74, 82, 56, 18, 68, 0, 80, 89, 57], [43, 47, 51, 11, 30, 98, 22, 44, 20, 2, 12, 4, 58, 92, 77, 13, 61], [63, 67, 75, 60, 66, 41, 37, 32, 71, 70, 49, 73, 1, 72, 65, 85, 29, 84, 36], [83, 87, 91, 99, 59, 94, 48, 46, 54, 79, 53, 31, 25, 10, 33, 62, 86, 55, 88, 9, 19, 26, 21, 76, 64, 81, 16, 5]]\n",
      "\n",
      "[[7, 15, 42, 78, 34, 90, 28, 6, 69, 45, 97, 24, 40, 93, 18], [23, 27, 35, 39, 95, 17, 3, 96, 52, 50, 8, 74, 82, 56, 68, 0, 89, 57, 1, 36], [43, 47, 51, 11, 30, 98, 22, 44, 20, 2, 12, 4, 58, 92, 77, 13, 61, 48, 5], [63, 67, 75, 60, 66, 41, 37, 32, 71, 70, 49, 73, 72, 65, 85, 29, 84, 38, 80], [83, 87, 91, 99, 59, 94, 46, 54, 79, 53, 31, 25, 10, 33, 62, 86, 55, 88, 9, 19, 26, 21, 76, 64, 81, 16, 14]]\n",
      "\n",
      "[[7, 15, 42, 78, 34, 90, 6, 69, 45, 97, 24, 40, 93, 18, 96, 98, 84, 88], [23, 27, 35, 39, 95, 17, 3, 52, 50, 74, 82, 56, 68, 0, 89, 57, 36, 16], [43, 47, 51, 11, 30, 22, 44, 20, 2, 12, 58, 77, 13, 61, 48, 5, 1, 53, 76], [63, 67, 75, 60, 66, 41, 37, 32, 71, 70, 49, 73, 72, 65, 85, 29, 38, 80, 28, 8, 92, 10], [83, 87, 91, 99, 59, 94, 46, 54, 79, 31, 25, 33, 62, 86, 55, 9, 19, 26, 21, 64, 81, 14, 4]]\n",
      "\n",
      "[[7, 15, 42, 78, 34, 90, 6, 69, 97, 24, 40, 93, 18, 98, 84, 88, 35, 21], [23, 27, 39, 95, 17, 3, 52, 50, 74, 82, 56, 68, 0, 57, 16, 44, 58, 85], [43, 47, 51, 11, 30, 22, 20, 2, 12, 77, 13, 61, 5, 1, 53, 76, 37, 73, 79, 25], [63, 67, 75, 60, 66, 41, 32, 71, 70, 49, 72, 65, 29, 38, 80, 28, 8, 92, 10, 89, 36], [83, 87, 91, 99, 59, 94, 46, 54, 31, 33, 62, 86, 55, 9, 19, 26, 64, 81, 14, 4, 45, 96, 48]]\n",
      "\n",
      "[[7, 15, 42, 78, 34, 90, 6, 69, 24, 40, 93, 18, 98, 84, 35, 21, 58, 8, 33], [23, 27, 39, 95, 17, 3, 50, 82, 56, 68, 0, 57, 16, 44, 85, 97, 94, 81], [43, 47, 51, 11, 30, 22, 20, 2, 12, 77, 13, 61, 5, 1, 53, 76, 37, 73, 79, 52], [63, 67, 75, 60, 66, 41, 71, 49, 72, 65, 29, 38, 80, 28, 92, 10, 89, 36, 25], [83, 87, 91, 99, 59, 46, 54, 31, 62, 86, 55, 9, 19, 26, 64, 14, 4, 45, 96, 48, 88, 74, 32, 70]]\n",
      "\n",
      "[[7, 15, 42, 78, 90, 6, 69, 24, 40, 93, 18, 98, 35, 21, 58, 8, 33, 46], [23, 27, 39, 95, 17, 3, 50, 82, 56, 68, 0, 57, 16, 44, 85, 97, 94, 81, 52, 48], [43, 47, 51, 11, 30, 22, 20, 2, 12, 77, 13, 61, 5, 1, 76, 37, 73, 79], [63, 67, 75, 60, 41, 71, 49, 72, 65, 29, 38, 28, 92, 10, 89, 36, 25, 34, 84, 14], [83, 87, 91, 99, 59, 54, 31, 62, 86, 55, 9, 19, 26, 64, 4, 45, 96, 88, 74, 32, 70, 53, 66, 80]]\n",
      "\n",
      "[[7, 15, 42, 78, 6, 69, 24, 93, 18, 98, 35, 21, 58, 8, 46, 56, 2], [23, 27, 39, 95, 17, 3, 50, 82, 68, 0, 57, 16, 44, 85, 97, 94, 81, 48, 90], [43, 47, 51, 11, 30, 22, 20, 12, 77, 13, 61, 5, 1, 76, 73, 79], [63, 67, 75, 60, 41, 71, 49, 72, 65, 29, 38, 28, 92, 10, 89, 36, 25, 34, 84, 14, 40, 52, 37, 62, 96], [83, 87, 91, 99, 59, 54, 31, 86, 55, 9, 19, 26, 64, 4, 45, 88, 74, 32, 70, 53, 66, 80, 33]]\n",
      "\n",
      "[[7, 15, 42, 6, 69, 93, 18, 98, 35, 58, 8, 46, 56, 2, 96], [23, 27, 95, 17, 3, 50, 82, 0, 16, 85, 97, 94, 81, 48, 90, 38, 70], [43, 47, 51, 11, 30, 22, 20, 12, 77, 13, 61, 5, 1, 76, 73, 79, 24, 39, 68, 57, 65, 37], [63, 67, 75, 41, 71, 49, 72, 29, 28, 92, 10, 89, 36, 25, 34, 84, 14, 40, 52, 62, 64], [83, 87, 91, 99, 59, 54, 31, 86, 55, 9, 19, 26, 4, 45, 88, 74, 32, 53, 66, 80, 33, 78, 21, 44, 60]]\n",
      "\n",
      "[[7, 15, 42, 6, 69, 93, 18, 35, 8, 46, 56, 96, 82, 70, 29], [23, 27, 95, 3, 50, 0, 16, 85, 97, 94, 81, 48, 90, 38, 98, 21], [43, 47, 51, 11, 30, 22, 20, 12, 77, 13, 61, 5, 1, 76, 73, 79, 24, 39, 68, 57, 65, 37, 58, 17], [63, 67, 75, 41, 71, 49, 72, 28, 92, 10, 89, 36, 25, 34, 84, 14, 40, 52, 62, 64], [83, 87, 91, 99, 59, 54, 31, 86, 55, 9, 19, 26, 4, 45, 88, 74, 32, 53, 66, 80, 33, 78, 44, 60, 2]]\n",
      "\n",
      "[[7, 15, 42, 6, 69, 93, 18, 35, 8, 56, 96, 82, 70, 30], [23, 27, 95, 3, 50, 16, 85, 97, 94, 81, 48, 90, 38, 21, 45, 53, 33], [43, 47, 51, 11, 22, 20, 12, 77, 13, 61, 5, 1, 76, 73, 79, 24, 39, 68, 57, 65, 37, 58, 29, 0, 98, 52], [63, 67, 75, 41, 71, 49, 72, 28, 92, 10, 89, 36, 25, 34, 84, 14, 40, 62, 64, 46], [83, 87, 91, 99, 59, 54, 31, 86, 55, 9, 19, 26, 4, 88, 74, 32, 66, 80, 78, 44, 60, 2, 17]]\n",
      "\n",
      "[[7, 15, 42, 6, 93, 18, 35, 8, 96, 82, 70, 30, 57], [23, 27, 95, 3, 50, 16, 85, 97, 94, 81, 90, 38, 21, 45, 53, 33, 69, 56], [43, 47, 51, 11, 22, 20, 12, 77, 13, 61, 5, 1, 76, 79, 24, 39, 68, 65, 37, 58, 29, 0, 98, 52, 89], [63, 67, 75, 41, 71, 49, 72, 28, 92, 10, 36, 25, 34, 84, 14, 40, 62, 64, 46], [83, 87, 91, 99, 59, 54, 31, 86, 55, 9, 19, 26, 4, 88, 74, 32, 66, 80, 78, 44, 60, 2, 17, 48, 73]]\n",
      "\n",
      "[[7, 15, 42, 93, 18, 35, 8, 96, 82, 30, 57, 85], [23, 27, 95, 3, 50, 16, 97, 94, 81, 90, 38, 45, 53, 33, 69, 56, 46], [43, 47, 51, 11, 22, 20, 12, 77, 13, 61, 1, 76, 79, 39, 68, 65, 37, 58, 29, 0, 98, 89, 6, 70, 10], [63, 67, 75, 41, 71, 72, 28, 92, 36, 25, 34, 84, 14, 40, 62, 64, 21, 24, 52], [83, 87, 91, 99, 59, 54, 31, 86, 55, 9, 19, 26, 4, 88, 74, 32, 66, 80, 78, 44, 60, 2, 17, 48, 73, 5, 49]]\n",
      "\n",
      "[[7, 15, 42, 93, 18, 35, 8, 96, 82, 30, 57, 61], [23, 27, 95, 3, 50, 16, 97, 94, 81, 90, 38, 45, 33, 56, 46, 29, 28], [43, 47, 51, 11, 22, 20, 12, 77, 13, 1, 76, 79, 39, 68, 65, 58, 0, 98, 89, 6, 70, 53, 69, 25, 62, 32, 73, 49], [63, 67, 75, 41, 71, 72, 92, 36, 34, 84, 14, 40, 64, 21, 24, 52, 10], [83, 87, 91, 99, 59, 54, 31, 86, 55, 9, 19, 26, 4, 88, 74, 66, 80, 78, 44, 60, 2, 17, 48, 5, 85, 37]]\n",
      "\n",
      "[[7, 15, 42, 18, 8, 96, 82, 30, 61, 40], [23, 27, 95, 3, 50, 16, 97, 94, 90, 38, 45, 33, 56, 46, 29, 28, 93, 35, 57, 85], [43, 47, 51, 11, 22, 20, 12, 77, 13, 1, 76, 79, 39, 68, 65, 58, 0, 98, 89, 6, 70, 53, 69, 25, 62, 32, 73, 49, 81], [63, 67, 75, 41, 71, 72, 92, 36, 34, 84, 14, 64, 21, 24, 52, 10], [83, 87, 91, 99, 59, 54, 31, 86, 55, 9, 19, 26, 4, 88, 74, 66, 80, 78, 44, 60, 2, 17, 48, 5, 37]]\n"
     ]
    }
   ],
   "source": [
    "print(*generations,sep='\\n\\n')"
   ]
  },
  {
   "cell_type": "code",
   "execution_count": 8,
   "metadata": {
    "scrolled": false
   },
   "outputs": [
    {
     "name": "stdout",
     "output_type": "stream",
     "text": [
      "(100, 51)\n"
     ]
    },
    {
     "data": {
      "image/png": "[encoded data removed]",
      "text/plain": [
       "<matplotlib.figure.Figure at 0x7fa2142e0b38>"
      ]
     },
     "metadata": {},
     "output_type": "display_data"
    }
   ],
   "source": [
    "num_groups = len(generations[0])\n",
    "x = np.arange(len(generations))\n",
    "y = np.arange(per_g*num_groups)\n",
    "X,Y = np.meshgrid(x, y)\n",
    "Z = np.zeros_like(X)\n",
    "print(Z.shape)\n",
    "for i,p in enumerate(generations):\n",
    "    for j,group in enumerate(p):\n",
    "        for indiv in group:\n",
    "            #print(i,indiv)\n",
    "            Z[ (indiv%5) + 5*(indiv%4)+20*(indiv//20), i] = j\n",
    "            #print((indiv%20//5)+4*(indiv%5)+20*(indiv//20))\n",
    "            #print(indiv, (indiv%5) + 5*(indiv%4)+20*(indiv//20))\n",
    "            #Z[indiv,i] = j\n",
    "plt.figure(figsize=(15,5))\n",
    "plt.pcolormesh(X,Y,Z,cmap=\"rainbow\")\n",
    "plt.colorbar()\n",
    "plt.show()"
   ]
  },
  {
   "cell_type": "code",
   "execution_count": 9,
   "metadata": {},
   "outputs": [
    {
     "name": "stdout",
     "output_type": "stream",
     "text": [
      "10\n",
      "20\n",
      "29\n",
      "16\n",
      "25\n"
     ]
    }
   ],
   "source": [
    "for i in generations[-1]:\n",
    "    print(len(i))"
   ]
  },
  {
   "cell_type": "code",
   "execution_count": 10,
   "metadata": {
    "collapsed": true
   },
   "outputs": [],
   "source": [
    "def predict_indiv(generations, indiv, num_pred=50):\n",
    "    t = markov_maker(generations, indiv)\n",
    "    #find the group that the individual belonged to in three previous generations\n",
    "    g1 = sum(i*(indiv in group) for i,group in enumerate(generations[-3]))\n",
    "    g2 = sum(i*(indiv in group) for i,group in enumerate(generations[-2]))    \n",
    "    g3 = sum(i*(indiv in group) for i,group in enumerate(generations[-1]))\n",
    "    group_movement = []\n",
    "    for i in range(num_pred):\n",
    "        col = num_p[(g1,g2,g3)]\n",
    "        outcome = np.random.multinomial(1, t[:, col])\n",
    "        k = outcome.argmax()\n",
    "        g1,g2,g3 = g2,g3,p_num[k][2]\n",
    "        group_movement.append(g3)\n",
    "    return group_movement"
   ]
  },
  {
   "cell_type": "code",
   "execution_count": 11,
   "metadata": {
    "scrolled": false
   },
   "outputs": [
    {
     "data": {
      "text/plain": [
       "[]"
      ]
     },
     "execution_count": 11,
     "metadata": {},
     "output_type": "execute_result"
    },
    {
     "data": {
      "image/png": "[encoded data removed]",
      "text/plain": [
       "<matplotlib.figure.Figure at 0x7fa2142edfd0>"
      ]
     },
     "metadata": {},
     "output_type": "display_data"
    }
   ],
   "source": [
    "number_to_predict = 50\n",
    "P = np.zeros((num_groups*per_g,number_to_predict))\n",
    "for i in range(num_groups*per_g):\n",
    "    P[(i%5)+5*(i%4)+20*(i//20)] = predict_indiv(generations,i)\n",
    "\n",
    "x = np.arange(number_to_predict)\n",
    "y = np.arange(num_groups*per_g)\n",
    "X,Y = np.meshgrid(x,y)\n",
    "\n",
    "plt.figure(figsize=(20,15))\n",
    "plt.imshow(P, cmap='rainbow')\n",
    "#plt.colorbar()\n",
    "plt.plot()"
   ]
  },
  {
   "cell_type": "markdown",
   "metadata": {},
   "source": [
    "## Global Model"
   ]
  },
  {
   "cell_type": "code",
   "execution_count": 12,
   "metadata": {
    "collapsed": true
   },
   "outputs": [],
   "source": [
    "def make_data(num_gen, num_groups, num_indiv):\n",
    "    partition = [[] for i in range(num_groups)]\n",
    "    per_g = max(1, num_indiv//num_groups)\n",
    "    for i in range(num_indiv):\n",
    "        partition[i//per_g%num_groups].append(i)\n",
    "    gen = [partition]\n",
    "    for i in range(num_gen):\n",
    "        gen.append(iterate(gen[-1]))\n",
    "        \n",
    "    return gen\n",
    "\n",
    "#generations = [[[0],[1],[]],[ [0],[],[1] ],[ [1],[0],[] ],[ [0,1],[],[] ],[ [],[1],[0] ],[ [1],[],[0] ],[ [1],[0],[] ],[ [],[],[0,1] ]]\n",
    "#print(*make_data(50,3,4),sep='\\n')"
   ]
  },
  {
   "cell_type": "code",
   "execution_count": 13,
   "metadata": {},
   "outputs": [
    {
     "ename": "IndentationError",
     "evalue": "expected an indented block (<ipython-input-13-03d71ca2c767>, line 44)",
     "output_type": "error",
     "traceback": [
      "\u001b[0;36m  File \u001b[0;32m\"<ipython-input-13-03d71ca2c767>\"\u001b[0;36m, line \u001b[0;32m44\u001b[0m\n\u001b[0;31m    num_gen = 50\u001b[0m\n\u001b[0m          ^\u001b[0m\n\u001b[0;31mIndentationError\u001b[0m\u001b[0;31m:\u001b[0m expected an indented block\n"
     ]
    }
   ],
   "source": [
    "def group_markov(gen, num_groups, num_indiv):\n",
    "    #network stuff(group to group analysis)\n",
    "    tran = np.zeros((num_groups,num_groups))\n",
    "    for indiv in range(num_indiv):\n",
    "        g1 = sum(i*(indiv in group) for i,group in enumerate(gen[0]))\n",
    "        for g_ind in range(1,len(gen)):\n",
    "            g2 = sum(i*(indiv in group) for i,group in enumerate(gen[g_ind]))\n",
    "            #print(g1,g2,gen[g_ind])\n",
    "            tran[g1,g2] += 1\n",
    "            g1 = g2\n",
    "    \n",
    "    #tran = 0.999*tran\n",
    "    tran += 0.0001\n",
    "    #print(tran)\n",
    "    tran = tran/np.sum(tran,axis=0)\n",
    "    return tran\n",
    "\n",
    "def partition_difference(p1,p2,tran, num_indiv):\n",
    "    total = 1\n",
    "    for i in range(num_indiv):\n",
    "        total *= tran[p1[i],p2[i]]\n",
    "    return total+0.001\n",
    "\n",
    "def markov_global(gen, num_groups, num_indiv, num_predictions=20):\n",
    "    '''\n",
    "    This is being designed to handle 3 labeled groups and 8 distinct \n",
    "    individuals. Already, that requires a 6561x6561 matrix or \n",
    "    43,046,721 elements to make the complete Markov chain.\n",
    "    '''\n",
    "    index_partition = {p:i for i,p in enumerate(product(range(num_groups),repeat=num_indiv))}\n",
    "    \n",
    "    group_tran = group_markov(gen, num_groups, num_indiv)\n",
    "    global_tran = np.zeros((num_groups**num_indiv, num_groups**num_indiv), dtype=np.float16)\n",
    "    \n",
    "    #print(index_partition)\n",
    "    for (p1,i1),(p2,i2) in product(index_partition.items(),repeat=2):\n",
    "        #print(p1,i1)\n",
    "        global_tran[i1,i2] = partition_difference(p1,p2,group_tran, num_indiv)\n",
    "\n",
    "    return global_tran/np.sum(global_tran, axis=0)\n",
    "\n",
    "def predict_global():\n",
    "    \n",
    "num_gen = 50\n",
    "num_groups = 3\n",
    "num_indiv = 6\n",
    "\n",
    "generations = make_data(num_gen, num_groups, num_indiv)\n",
    "tran = markov_global(generations, num_groups, num_indiv)"
   ]
  },
  {
   "cell_type": "code",
   "execution_count": 14,
   "metadata": {},
   "outputs": [],
   "source": [
    "def predict_indiv(gen, tran, num_indiv, num_pred=50):\n",
    "    #find the group that the individual belonged to in three previous generations\n",
    "    index_partition = {p:i for i,p in enumerate(product(range(num_groups),repeat=num_indiv))}\n",
    "    \n",
    "    #convert from list of lists to tuple indexed by indiv\n",
    "    group_indiv = tuple(sum(i*(indiv in group) for i,group in enumerate(gen[-1])) for indiv in range(num_indiv))\n",
    "    \n",
    "    p = index_partition[group_indiv]\n",
    "    group_movement = []\n",
    "    for i in range(num_pred):\n",
    "        col = num_p[(g1,g2,g3)]\n",
    "        outcome = np.random.multinomial(1, t[:, col])\n",
    "        k = outcome.argmax()\n",
    "        g1,g2,g3 = g2,g3,p_num[k][2]\n",
    "        group_movement.append(g3)\n",
    "    return group_movement"
   ]
  },
  {
   "cell_type": "code",
   "execution_count": null,
   "metadata": {
    "collapsed": true
   },
   "outputs": [],
   "source": []
  }
 ],
 "metadata": {
  "kernelspec": {
   "display_name": "Python 3",
   "language": "python",
   "name": "python3"
  },
  "language_info": {
   "codemirror_mode": {
    "name": "ipython",
    "version": 3
   },
   "file_extension": ".py",
   "mimetype": "text/x-python",
   "name": "python",
   "nbconvert_exporter": "python",
   "pygments_lexer": "ipython3",
   "version": "3.5.2"
  }
 },
 "nbformat": 4,
 "nbformat_minor": 2
}

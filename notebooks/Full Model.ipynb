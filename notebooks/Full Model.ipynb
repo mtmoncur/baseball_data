{
 "cells": [
  {
   "cell_type": "code",
   "execution_count": 1,
   "metadata": {},
   "outputs": [],
   "source": [
    "import numpy as np\n",
    "import pandas as pd\n",
    "import matplotlib.pyplot as plt\n",
    "import seaborn as sns\n",
    "from collections import Counter\n",
    "\n",
    "import warnings\n",
    "warnings.filterwarnings(\"ignore\")\n",
    "\n",
    "plt.style.use(\"ggplot\")\n",
    "%matplotlib inline\n",
    "\n",
    "from boostaroota import BoostARoota\n",
    "from sklearn.ensemble import RandomForestClassifier, ExtraTreesClassifier, AdaBoostClassifier\n",
    "from sklearn import svm\n",
    "from sklearn.linear_model import LogisticRegression\n",
    "from sklearn.metrics import accuracy_score, make_scorer, confusion_matrix\n",
    "from sklearn.model_selection import train_test_split\n",
    "from sklearn.model_selection import GridSearchCV\n",
    "from sklearn import datasets\n",
    "from sklearn.decomposition import PCA\n",
    "import xgboost as xgb"
   ]
  },
  {
   "cell_type": "code",
   "execution_count": 2,
   "metadata": {},
   "outputs": [],
   "source": [
    "data = pd.read_csv('../data/data_numerical.csv')\n",
    "data_2017 = data[data.Season == 2017]\n",
    "\n",
    "#data_leave = data[data.Leave == 1]\n",
    "#data_no_retire = data_leave[data_leave.target != 30]\n",
    "#data = data_no_retire"
   ]
  },
  {
   "cell_type": "code",
   "execution_count": 3,
   "metadata": {
    "scrolled": true
   },
   "outputs": [
    {
     "data": {
      "text/html": [
       "<div>\n",
       "<style scoped>\n",
       "    .dataframe tbody tr th:only-of-type {\n",
       "        vertical-align: middle;\n",
       "    }\n",
       "\n",
       "    .dataframe tbody tr th {\n",
       "        vertical-align: top;\n",
       "    }\n",
       "\n",
       "    .dataframe thead th {\n",
       "        text-align: right;\n",
       "    }\n",
       "</style>\n",
       "<table border=\"1\" class=\"dataframe\">\n",
       "  <thead>\n",
       "    <tr style=\"text-align: right;\">\n",
       "      <th></th>\n",
       "      <th>RP</th>\n",
       "      <th>C</th>\n",
       "      <th>SP</th>\n",
       "      <th>FD</th>\n",
       "      <th>Avg_Team_G</th>\n",
       "      <th>Avg_Team_Career_Length</th>\n",
       "      <th>Avg_Team_Stay_Length</th>\n",
       "      <th>Player_Trade_Freq</th>\n",
       "      <th>target</th>\n",
       "      <th>Career_Length</th>\n",
       "      <th>Stay_Length</th>\n",
       "      <th>GS</th>\n",
       "      <th>Inn</th>\n",
       "      <th>playerid</th>\n",
       "      <th>G</th>\n",
       "      <th>Team</th>\n",
       "      <th>Season</th>\n",
       "      <th>Leave</th>\n",
       "    </tr>\n",
       "  </thead>\n",
       "  <tbody>\n",
       "    <tr>\n",
       "      <th>0</th>\n",
       "      <td>0</td>\n",
       "      <td>0</td>\n",
       "      <td>0</td>\n",
       "      <td>1</td>\n",
       "      <td>103.666667</td>\n",
       "      <td>1.703704</td>\n",
       "      <td>1.666667</td>\n",
       "      <td>0.000000</td>\n",
       "      <td>0</td>\n",
       "      <td>1</td>\n",
       "      <td>1</td>\n",
       "      <td>0</td>\n",
       "      <td>287.1</td>\n",
       "      <td>1</td>\n",
       "      <td>74</td>\n",
       "      <td>0</td>\n",
       "      <td>2003</td>\n",
       "      <td>0.0</td>\n",
       "    </tr>\n",
       "    <tr>\n",
       "      <th>1</th>\n",
       "      <td>0</td>\n",
       "      <td>0</td>\n",
       "      <td>0</td>\n",
       "      <td>1</td>\n",
       "      <td>105.280000</td>\n",
       "      <td>2.560000</td>\n",
       "      <td>2.120000</td>\n",
       "      <td>0.000000</td>\n",
       "      <td>13</td>\n",
       "      <td>2</td>\n",
       "      <td>2</td>\n",
       "      <td>0</td>\n",
       "      <td>167.0</td>\n",
       "      <td>1</td>\n",
       "      <td>73</td>\n",
       "      <td>0</td>\n",
       "      <td>2004</td>\n",
       "      <td>1.0</td>\n",
       "    </tr>\n",
       "    <tr>\n",
       "      <th>2</th>\n",
       "      <td>0</td>\n",
       "      <td>0</td>\n",
       "      <td>0</td>\n",
       "      <td>1</td>\n",
       "      <td>112.086957</td>\n",
       "      <td>2.086957</td>\n",
       "      <td>1.434783</td>\n",
       "      <td>0.500000</td>\n",
       "      <td>13</td>\n",
       "      <td>3</td>\n",
       "      <td>1</td>\n",
       "      <td>0</td>\n",
       "      <td>656.0</td>\n",
       "      <td>1</td>\n",
       "      <td>264</td>\n",
       "      <td>13</td>\n",
       "      <td>2006</td>\n",
       "      <td>0.0</td>\n",
       "    </tr>\n",
       "    <tr>\n",
       "      <th>3</th>\n",
       "      <td>0</td>\n",
       "      <td>0</td>\n",
       "      <td>0</td>\n",
       "      <td>1</td>\n",
       "      <td>97.080000</td>\n",
       "      <td>2.680000</td>\n",
       "      <td>1.880000</td>\n",
       "      <td>0.333333</td>\n",
       "      <td>13</td>\n",
       "      <td>4</td>\n",
       "      <td>2</td>\n",
       "      <td>0</td>\n",
       "      <td>765.2</td>\n",
       "      <td>1</td>\n",
       "      <td>266</td>\n",
       "      <td>13</td>\n",
       "      <td>2007</td>\n",
       "      <td>0.0</td>\n",
       "    </tr>\n",
       "    <tr>\n",
       "      <th>4</th>\n",
       "      <td>0</td>\n",
       "      <td>0</td>\n",
       "      <td>0</td>\n",
       "      <td>1</td>\n",
       "      <td>118.173913</td>\n",
       "      <td>3.304348</td>\n",
       "      <td>2.000000</td>\n",
       "      <td>0.250000</td>\n",
       "      <td>13</td>\n",
       "      <td>5</td>\n",
       "      <td>3</td>\n",
       "      <td>0</td>\n",
       "      <td>655.2</td>\n",
       "      <td>1</td>\n",
       "      <td>375</td>\n",
       "      <td>13</td>\n",
       "      <td>2008</td>\n",
       "      <td>0.0</td>\n",
       "    </tr>\n",
       "  </tbody>\n",
       "</table>\n",
       "</div>"
      ],
      "text/plain": [
       "   RP  C  SP  FD  Avg_Team_G  Avg_Team_Career_Length  Avg_Team_Stay_Length  \\\n",
       "0   0  0   0   1  103.666667                1.703704              1.666667   \n",
       "1   0  0   0   1  105.280000                2.560000              2.120000   \n",
       "2   0  0   0   1  112.086957                2.086957              1.434783   \n",
       "3   0  0   0   1   97.080000                2.680000              1.880000   \n",
       "4   0  0   0   1  118.173913                3.304348              2.000000   \n",
       "\n",
       "   Player_Trade_Freq  target  Career_Length  Stay_Length  GS    Inn  playerid  \\\n",
       "0           0.000000       0              1            1   0  287.1         1   \n",
       "1           0.000000      13              2            2   0  167.0         1   \n",
       "2           0.500000      13              3            1   0  656.0         1   \n",
       "3           0.333333      13              4            2   0  765.2         1   \n",
       "4           0.250000      13              5            3   0  655.2         1   \n",
       "\n",
       "     G  Team  Season  Leave  \n",
       "0   74     0    2003    0.0  \n",
       "1   73     0    2004    1.0  \n",
       "2  264    13    2006    0.0  \n",
       "3  266    13    2007    0.0  \n",
       "4  375    13    2008    0.0  "
      ]
     },
     "execution_count": 3,
     "metadata": {},
     "output_type": "execute_result"
    }
   ],
   "source": [
    "data.head()"
   ]
  },
  {
   "cell_type": "code",
   "execution_count": 4,
   "metadata": {
    "scrolled": true
   },
   "outputs": [],
   "source": [
    "X = data.drop(['Leave', 'target'], axis=1)\n",
    "X.drop(data[data.Season==2017].index, inplace=True)\n",
    "y = data['Leave']\n",
    "y.drop(data[data.Season==2017].index, inplace=True)\n",
    "u = data['target']\n",
    "u.drop(data[data.Season==2017].index, inplace=True)"
   ]
  },
  {
   "cell_type": "code",
   "execution_count": 5,
   "metadata": {},
   "outputs": [
    {
     "data": {
      "text/html": [
       "<div>\n",
       "<style scoped>\n",
       "    .dataframe tbody tr th:only-of-type {\n",
       "        vertical-align: middle;\n",
       "    }\n",
       "\n",
       "    .dataframe tbody tr th {\n",
       "        vertical-align: top;\n",
       "    }\n",
       "\n",
       "    .dataframe thead th {\n",
       "        text-align: right;\n",
       "    }\n",
       "</style>\n",
       "<table border=\"1\" class=\"dataframe\">\n",
       "  <thead>\n",
       "    <tr style=\"text-align: right;\">\n",
       "      <th></th>\n",
       "      <th>RP</th>\n",
       "      <th>C</th>\n",
       "      <th>SP</th>\n",
       "      <th>FD</th>\n",
       "      <th>Avg_Team_G</th>\n",
       "      <th>Avg_Team_Career_Length</th>\n",
       "      <th>Avg_Team_Stay_Length</th>\n",
       "      <th>Player_Trade_Freq</th>\n",
       "      <th>Career_Length</th>\n",
       "      <th>Stay_Length</th>\n",
       "      <th>GS</th>\n",
       "      <th>Inn</th>\n",
       "      <th>playerid</th>\n",
       "      <th>G</th>\n",
       "      <th>Team</th>\n",
       "      <th>Season</th>\n",
       "    </tr>\n",
       "  </thead>\n",
       "  <tbody>\n",
       "    <tr>\n",
       "      <th>0</th>\n",
       "      <td>0</td>\n",
       "      <td>0</td>\n",
       "      <td>0</td>\n",
       "      <td>1</td>\n",
       "      <td>103.666667</td>\n",
       "      <td>1.703704</td>\n",
       "      <td>1.666667</td>\n",
       "      <td>0.000000</td>\n",
       "      <td>1</td>\n",
       "      <td>1</td>\n",
       "      <td>0</td>\n",
       "      <td>287.1</td>\n",
       "      <td>1</td>\n",
       "      <td>74</td>\n",
       "      <td>0</td>\n",
       "      <td>2003</td>\n",
       "    </tr>\n",
       "    <tr>\n",
       "      <th>1</th>\n",
       "      <td>0</td>\n",
       "      <td>0</td>\n",
       "      <td>0</td>\n",
       "      <td>1</td>\n",
       "      <td>105.280000</td>\n",
       "      <td>2.560000</td>\n",
       "      <td>2.120000</td>\n",
       "      <td>0.000000</td>\n",
       "      <td>2</td>\n",
       "      <td>2</td>\n",
       "      <td>0</td>\n",
       "      <td>167.0</td>\n",
       "      <td>1</td>\n",
       "      <td>73</td>\n",
       "      <td>0</td>\n",
       "      <td>2004</td>\n",
       "    </tr>\n",
       "    <tr>\n",
       "      <th>2</th>\n",
       "      <td>0</td>\n",
       "      <td>0</td>\n",
       "      <td>0</td>\n",
       "      <td>1</td>\n",
       "      <td>112.086957</td>\n",
       "      <td>2.086957</td>\n",
       "      <td>1.434783</td>\n",
       "      <td>0.500000</td>\n",
       "      <td>3</td>\n",
       "      <td>1</td>\n",
       "      <td>0</td>\n",
       "      <td>656.0</td>\n",
       "      <td>1</td>\n",
       "      <td>264</td>\n",
       "      <td>13</td>\n",
       "      <td>2006</td>\n",
       "    </tr>\n",
       "    <tr>\n",
       "      <th>3</th>\n",
       "      <td>0</td>\n",
       "      <td>0</td>\n",
       "      <td>0</td>\n",
       "      <td>1</td>\n",
       "      <td>97.080000</td>\n",
       "      <td>2.680000</td>\n",
       "      <td>1.880000</td>\n",
       "      <td>0.333333</td>\n",
       "      <td>4</td>\n",
       "      <td>2</td>\n",
       "      <td>0</td>\n",
       "      <td>765.2</td>\n",
       "      <td>1</td>\n",
       "      <td>266</td>\n",
       "      <td>13</td>\n",
       "      <td>2007</td>\n",
       "    </tr>\n",
       "    <tr>\n",
       "      <th>4</th>\n",
       "      <td>0</td>\n",
       "      <td>0</td>\n",
       "      <td>0</td>\n",
       "      <td>1</td>\n",
       "      <td>118.173913</td>\n",
       "      <td>3.304348</td>\n",
       "      <td>2.000000</td>\n",
       "      <td>0.250000</td>\n",
       "      <td>5</td>\n",
       "      <td>3</td>\n",
       "      <td>0</td>\n",
       "      <td>655.2</td>\n",
       "      <td>1</td>\n",
       "      <td>375</td>\n",
       "      <td>13</td>\n",
       "      <td>2008</td>\n",
       "    </tr>\n",
       "  </tbody>\n",
       "</table>\n",
       "</div>"
      ],
      "text/plain": [
       "   RP  C  SP  FD  Avg_Team_G  Avg_Team_Career_Length  Avg_Team_Stay_Length  \\\n",
       "0   0  0   0   1  103.666667                1.703704              1.666667   \n",
       "1   0  0   0   1  105.280000                2.560000              2.120000   \n",
       "2   0  0   0   1  112.086957                2.086957              1.434783   \n",
       "3   0  0   0   1   97.080000                2.680000              1.880000   \n",
       "4   0  0   0   1  118.173913                3.304348              2.000000   \n",
       "\n",
       "   Player_Trade_Freq  Career_Length  Stay_Length  GS    Inn  playerid    G  \\\n",
       "0           0.000000              1            1   0  287.1         1   74   \n",
       "1           0.000000              2            2   0  167.0         1   73   \n",
       "2           0.500000              3            1   0  656.0         1  264   \n",
       "3           0.333333              4            2   0  765.2         1  266   \n",
       "4           0.250000              5            3   0  655.2         1  375   \n",
       "\n",
       "   Team  Season  \n",
       "0     0    2003  \n",
       "1     0    2004  \n",
       "2    13    2006  \n",
       "3    13    2007  \n",
       "4    13    2008  "
      ]
     },
     "execution_count": 5,
     "metadata": {},
     "output_type": "execute_result"
    }
   ],
   "source": [
    "X.head()"
   ]
  },
  {
   "cell_type": "code",
   "execution_count": 6,
   "metadata": {},
   "outputs": [
    {
     "name": "stdout",
     "output_type": "stream",
     "text": [
      "2015 2016\n"
     ]
    }
   ],
   "source": [
    "y1, y2 = 2015, 2016\n",
    "#y1, y2 = np.random.randint(2006, high=1+2016, size=2)\n",
    "print(y1, y2)\n",
    "train_mask = (X.Season > 2004)&(X.Season != y1)&(X.Season != y2)\n",
    "test_mask = (X.Season == y1)|(X.Season == y2)\n",
    "X_train = X[train_mask]\n",
    "X_test = X[test_mask]\n",
    "y_train =y[train_mask]\n",
    "y_test = y[test_mask]\n",
    "u_train = u[train_mask]\n",
    "u_test = u[test_mask]\n"
   ]
  },
  {
   "cell_type": "code",
   "execution_count": 7,
   "metadata": {
    "scrolled": false
   },
   "outputs": [],
   "source": [
    "#pca = PCA(n_components=15)\n",
    "#pca.fit(X_train)\n",
    "#X_train = pca.transform(X_train)\n",
    "#X_test = pca.transform(X_test)"
   ]
  },
  {
   "cell_type": "code",
   "execution_count": 8,
   "metadata": {
    "scrolled": true
   },
   "outputs": [
    {
     "name": "stderr",
     "output_type": "stream",
     "text": [
      "/home/mtmoncur/.virtualenvs/general/lib/python3.5/site-packages/sklearn/preprocessing/label.py:151: DeprecationWarning: The truth value of an empty array is ambiguous. Returning False, but in future this will result in an error. Use `array.size > 0` to check that an array is not empty.\n",
      "  if diff:\n"
     ]
    },
    {
     "data": {
      "text/plain": [
       "0.7032348804500703"
      ]
     },
     "execution_count": 8,
     "metadata": {},
     "output_type": "execute_result"
    }
   ],
   "source": [
    "xmodel = xgb.XGBClassifier()\n",
    "xmodel.fit(X_train, y_train)\n",
    "xmodel.score(X_test, y_test)"
   ]
  },
  {
   "cell_type": "code",
   "execution_count": 9,
   "metadata": {
    "scrolled": true
   },
   "outputs": [
    {
     "name": "stdout",
     "output_type": "stream",
     "text": [
      "Round:  1  iteration:  1\n",
      "Round:  1  iteration:  2\n",
      "Round:  1  iteration:  3\n",
      "Round:  1  iteration:  4\n",
      "Round:  1  iteration:  5\n",
      "Round:  1  iteration:  6\n",
      "Round:  1  iteration:  7\n",
      "Round:  1  iteration:  8\n",
      "Round:  1  iteration:  9\n",
      "Round:  1  iteration:  10\n",
      "Round:  2  iteration:  1\n",
      "Round:  2  iteration:  2\n",
      "Round:  2  iteration:  3\n",
      "Round:  2  iteration:  4\n",
      "Round:  2  iteration:  5\n",
      "Round:  2  iteration:  6\n",
      "Round:  2  iteration:  7\n",
      "Round:  2  iteration:  8\n",
      "Round:  2  iteration:  9\n",
      "Round:  2  iteration:  10\n",
      "BoostARoota ran successfully! Algorithm went through  2  rounds.\n"
     ]
    },
    {
     "data": {
      "text/plain": [
       "0                 Avg_Team_G\n",
       "1     Avg_Team_Career_Length\n",
       "2       Avg_Team_Stay_Length\n",
       "3          Player_Trade_Freq\n",
       "4              Career_Length\n",
       "5                Stay_Length\n",
       "6                         GS\n",
       "7                        Inn\n",
       "8                   playerid\n",
       "9                          G\n",
       "10                      Team\n",
       "11                    Season\n",
       "Name: feature, dtype: object"
      ]
     },
     "execution_count": 9,
     "metadata": {},
     "output_type": "execute_result"
    }
   ],
   "source": [
    "bmodel = BoostARoota(metric='logloss')\n",
    "bmodel.fit(X_train, y_train)\n",
    "bmodel.keep_vars_\n",
    "#X_train = bmodel.transform(X_train)\n",
    "#X_test = bmodel.transform(X_test)"
   ]
  },
  {
   "cell_type": "code",
   "execution_count": 10,
   "metadata": {
    "scrolled": false
   },
   "outputs": [
    {
     "name": "stderr",
     "output_type": "stream",
     "text": [
      "/home/mtmoncur/.virtualenvs/general/lib/python3.5/site-packages/sklearn/preprocessing/label.py:151: DeprecationWarning: The truth value of an empty array is ambiguous. Returning False, but in future this will result in an error. Use `array.size > 0` to check that an array is not empty.\n",
      "  if diff:\n"
     ]
    },
    {
     "data": {
      "text/plain": [
       "0.7032348804500703"
      ]
     },
     "execution_count": 10,
     "metadata": {},
     "output_type": "execute_result"
    }
   ],
   "source": [
    "xmodel = xgb.XGBClassifier()\n",
    "xmodel.fit(X_train, y_train)\n",
    "xmodel.score(X_test, y_test)"
   ]
  },
  {
   "cell_type": "code",
   "execution_count": 11,
   "metadata": {},
   "outputs": [
    {
     "data": {
      "text/plain": [
       "0.6434599156118144"
      ]
     },
     "execution_count": 11,
     "metadata": {},
     "output_type": "execute_result"
    }
   ],
   "source": [
    "et = ExtraTreesClassifier()\n",
    "et.fit(X_train, y_train)\n",
    "et.score(X_test, y_test)"
   ]
  },
  {
   "cell_type": "code",
   "execution_count": 12,
   "metadata": {},
   "outputs": [
    {
     "data": {
      "text/plain": [
       "0.6870604781997187"
      ]
     },
     "execution_count": 12,
     "metadata": {},
     "output_type": "execute_result"
    }
   ],
   "source": [
    "logreg = LogisticRegression()\n",
    "logreg.fit(X_train, y_train)\n",
    "logreg.score(X_test, y_test)"
   ]
  },
  {
   "cell_type": "code",
   "execution_count": 13,
   "metadata": {
    "scrolled": true
   },
   "outputs": [
    {
     "name": "stderr",
     "output_type": "stream",
     "text": [
      "/home/mtmoncur/.virtualenvs/general/lib/python3.5/site-packages/sklearn/preprocessing/label.py:151: DeprecationWarning: The truth value of an empty array is ambiguous. Returning False, but in future this will result in an error. Use `array.size > 0` to check that an array is not empty.\n",
      "  if diff:\n",
      "/home/mtmoncur/.virtualenvs/general/lib/python3.5/site-packages/sklearn/preprocessing/label.py:151: DeprecationWarning: The truth value of an empty array is ambiguous. Returning False, but in future this will result in an error. Use `array.size > 0` to check that an array is not empty.\n",
      "  if diff:\n"
     ]
    }
   ],
   "source": [
    "leave_predictions_train = xmodel.predict(X_train)\n",
    "leave_predictions_test = xmodel.predict(X_test)"
   ]
  },
  {
   "cell_type": "markdown",
   "metadata": {},
   "source": [
    "# Multi model stuff"
   ]
  },
  {
   "cell_type": "code",
   "execution_count": 14,
   "metadata": {},
   "outputs": [],
   "source": [
    "#data_multi = pd.read_csv('../data/hayden_cleaned_data.csv')"
   ]
  },
  {
   "cell_type": "code",
   "execution_count": 15,
   "metadata": {},
   "outputs": [],
   "source": [
    "#team_names = data_multi.target.unique()\n",
    "#id_team = {names:i for i,names in enumerate (team_names)}\n",
    "#data_multi.target = data_multi.target.apply(lambda x : id_team[x])"
   ]
  },
  {
   "cell_type": "code",
   "execution_count": 16,
   "metadata": {},
   "outputs": [],
   "source": [
    "#X = data.drop(['Leave', 'playerid','Team'], axis=1)\n",
    "#X.drop(data[data.Season==2017].index, inplace=True)\n",
    "#u = data['Team']\n",
    "#u.drop(data[data.Season==2017].index, inplace=True)"
   ]
  },
  {
   "cell_type": "code",
   "execution_count": 17,
   "metadata": {},
   "outputs": [],
   "source": [
    "X_train['Leave_pred'] = leave_predictions_train\n",
    "X_test['Leave_pred'] = leave_predictions_test\n"
   ]
  },
  {
   "cell_type": "code",
   "execution_count": 18,
   "metadata": {},
   "outputs": [
    {
     "name": "stdout",
     "output_type": "stream",
     "text": [
      "Round:  1  iteration:  1\n",
      "Round:  1  iteration:  2\n",
      "Round:  1  iteration:  3\n",
      "Round:  1  iteration:  4\n",
      "Round:  1  iteration:  5\n",
      "Round:  1  iteration:  6\n",
      "Round:  1  iteration:  7\n",
      "Round:  1  iteration:  8\n",
      "Round:  1  iteration:  9\n",
      "Round:  1  iteration:  10\n",
      "Round:  2  iteration:  1\n",
      "Round:  2  iteration:  2\n",
      "Round:  2  iteration:  3\n",
      "Round:  2  iteration:  4\n",
      "Round:  2  iteration:  5\n",
      "Round:  2  iteration:  6\n",
      "Round:  2  iteration:  7\n",
      "Round:  2  iteration:  8\n",
      "Round:  2  iteration:  9\n",
      "Round:  2  iteration:  10\n",
      "BoostARoota ran successfully! Algorithm went through  2  rounds.\n"
     ]
    },
    {
     "data": {
      "text/plain": [
       "1                 Avg_Team_G\n",
       "2     Avg_Team_Career_Length\n",
       "3       Avg_Team_Stay_Length\n",
       "4          Player_Trade_Freq\n",
       "5              Career_Length\n",
       "6                Stay_Length\n",
       "7                         GS\n",
       "8                        Inn\n",
       "9                   playerid\n",
       "10                         G\n",
       "11                      Team\n",
       "12                    Season\n",
       "13                Leave_pred\n",
       "Name: feature, dtype: object"
      ]
     },
     "execution_count": 18,
     "metadata": {},
     "output_type": "execute_result"
    }
   ],
   "source": [
    "bmodel = BoostARoota(metric='logloss')\n",
    "bmodel.fit(X_train, u_train)\n",
    "X_train = bmodel.transform(X_train)\n",
    "X_test = bmodel.transform(X_test)\n",
    "bmodel.keep_vars_"
   ]
  },
  {
   "cell_type": "code",
   "execution_count": 19,
   "metadata": {
    "scrolled": true
   },
   "outputs": [
    {
     "data": {
      "text/html": [
       "<div>\n",
       "<style scoped>\n",
       "    .dataframe tbody tr th:only-of-type {\n",
       "        vertical-align: middle;\n",
       "    }\n",
       "\n",
       "    .dataframe tbody tr th {\n",
       "        vertical-align: top;\n",
       "    }\n",
       "\n",
       "    .dataframe thead th {\n",
       "        text-align: right;\n",
       "    }\n",
       "</style>\n",
       "<table border=\"1\" class=\"dataframe\">\n",
       "  <thead>\n",
       "    <tr style=\"text-align: right;\">\n",
       "      <th></th>\n",
       "      <th>Avg_Team_G</th>\n",
       "      <th>Avg_Team_Career_Length</th>\n",
       "      <th>Avg_Team_Stay_Length</th>\n",
       "      <th>Player_Trade_Freq</th>\n",
       "      <th>Career_Length</th>\n",
       "      <th>Stay_Length</th>\n",
       "      <th>GS</th>\n",
       "      <th>Inn</th>\n",
       "      <th>playerid</th>\n",
       "      <th>G</th>\n",
       "      <th>Team</th>\n",
       "      <th>Season</th>\n",
       "      <th>Leave_pred</th>\n",
       "    </tr>\n",
       "  </thead>\n",
       "  <tbody>\n",
       "    <tr>\n",
       "      <th>2</th>\n",
       "      <td>112.086957</td>\n",
       "      <td>2.086957</td>\n",
       "      <td>1.434783</td>\n",
       "      <td>0.500000</td>\n",
       "      <td>3</td>\n",
       "      <td>1</td>\n",
       "      <td>0</td>\n",
       "      <td>656.0</td>\n",
       "      <td>1</td>\n",
       "      <td>264</td>\n",
       "      <td>13</td>\n",
       "      <td>2006</td>\n",
       "      <td>0.0</td>\n",
       "    </tr>\n",
       "    <tr>\n",
       "      <th>3</th>\n",
       "      <td>97.080000</td>\n",
       "      <td>2.680000</td>\n",
       "      <td>1.880000</td>\n",
       "      <td>0.333333</td>\n",
       "      <td>4</td>\n",
       "      <td>2</td>\n",
       "      <td>0</td>\n",
       "      <td>765.2</td>\n",
       "      <td>1</td>\n",
       "      <td>266</td>\n",
       "      <td>13</td>\n",
       "      <td>2007</td>\n",
       "      <td>1.0</td>\n",
       "    </tr>\n",
       "    <tr>\n",
       "      <th>4</th>\n",
       "      <td>118.173913</td>\n",
       "      <td>3.304348</td>\n",
       "      <td>2.000000</td>\n",
       "      <td>0.250000</td>\n",
       "      <td>5</td>\n",
       "      <td>3</td>\n",
       "      <td>0</td>\n",
       "      <td>655.2</td>\n",
       "      <td>1</td>\n",
       "      <td>375</td>\n",
       "      <td>13</td>\n",
       "      <td>2008</td>\n",
       "      <td>0.0</td>\n",
       "    </tr>\n",
       "    <tr>\n",
       "      <th>5</th>\n",
       "      <td>105.958333</td>\n",
       "      <td>2.958333</td>\n",
       "      <td>2.041667</td>\n",
       "      <td>0.200000</td>\n",
       "      <td>6</td>\n",
       "      <td>4</td>\n",
       "      <td>0</td>\n",
       "      <td>81.1</td>\n",
       "      <td>1</td>\n",
       "      <td>27</td>\n",
       "      <td>13</td>\n",
       "      <td>2009</td>\n",
       "      <td>1.0</td>\n",
       "    </tr>\n",
       "    <tr>\n",
       "      <th>9</th>\n",
       "      <td>121.000000</td>\n",
       "      <td>3.208333</td>\n",
       "      <td>2.458333</td>\n",
       "      <td>0.000000</td>\n",
       "      <td>4</td>\n",
       "      <td>4</td>\n",
       "      <td>0</td>\n",
       "      <td>920.0</td>\n",
       "      <td>2</td>\n",
       "      <td>142</td>\n",
       "      <td>0</td>\n",
       "      <td>2005</td>\n",
       "      <td>0.0</td>\n",
       "    </tr>\n",
       "  </tbody>\n",
       "</table>\n",
       "</div>"
      ],
      "text/plain": [
       "   Avg_Team_G  Avg_Team_Career_Length  Avg_Team_Stay_Length  \\\n",
       "2  112.086957                2.086957              1.434783   \n",
       "3   97.080000                2.680000              1.880000   \n",
       "4  118.173913                3.304348              2.000000   \n",
       "5  105.958333                2.958333              2.041667   \n",
       "9  121.000000                3.208333              2.458333   \n",
       "\n",
       "   Player_Trade_Freq  Career_Length  Stay_Length  GS    Inn  playerid    G  \\\n",
       "2           0.500000              3            1   0  656.0         1  264   \n",
       "3           0.333333              4            2   0  765.2         1  266   \n",
       "4           0.250000              5            3   0  655.2         1  375   \n",
       "5           0.200000              6            4   0   81.1         1   27   \n",
       "9           0.000000              4            4   0  920.0         2  142   \n",
       "\n",
       "   Team  Season  Leave_pred  \n",
       "2    13    2006         0.0  \n",
       "3    13    2007         1.0  \n",
       "4    13    2008         0.0  \n",
       "5    13    2009         1.0  \n",
       "9     0    2005         0.0  "
      ]
     },
     "execution_count": 19,
     "metadata": {},
     "output_type": "execute_result"
    }
   ],
   "source": [
    "X_train.head()"
   ]
  },
  {
   "cell_type": "code",
   "execution_count": 20,
   "metadata": {},
   "outputs": [],
   "source": [
    "#from keras.utils import np_utils"
   ]
  },
  {
   "cell_type": "code",
   "execution_count": 21,
   "metadata": {},
   "outputs": [],
   "source": [
    "#mask_retire = (data.target == 0)\n",
    "#data_noretire = data[~mask_retire]\n",
    "#mask_gs = (data.G >= 1)\n",
    "#data_noretire = (data[mask_gs])\n",
    "#mask_length = (data_leave.Stay_Length >= 2)\n",
    "#data_noretire = (data_leave[mask_length])\n",
    "#data_noretire"
   ]
  },
  {
   "cell_type": "code",
   "execution_count": 22,
   "metadata": {},
   "outputs": [],
   "source": [
    "#X = data[['SP','RP','FD','C','Stay_Length', 'Career_Length', 'GS', 'G', 'Inn']]#list(p.Team.unique())+\n",
    "\n",
    "\n",
    "#y = data[['Diamondbacks','Royals','Dodgers','Phillies','Brewers','Cubs','Tigers','Giants','Red Sox','Indians','Twins','Blue Jays','White Sox','Padres','Cardinals','Mets','Braves','Expos','Rockies','Marlins','Astros','Nationals','Yankees','Mariners','Angels','Athletics','Reds','Pirates','Rays','Orioles','Rangers','Devil Rays']]\n",
    "#y = np_utils.to_categorical(data_noretire.target,33)\n",
    "#u = data_noretire.target "
   ]
  },
  {
   "cell_type": "code",
   "execution_count": null,
   "metadata": {
    "scrolled": true
   },
   "outputs": [],
   "source": []
  },
  {
   "cell_type": "code",
   "execution_count": 23,
   "metadata": {},
   "outputs": [
    {
     "data": {
      "text/plain": [
       "ExtraTreesClassifier(bootstrap=False, class_weight=None, criterion='gini',\n",
       "           max_depth=None, max_features='auto', max_leaf_nodes=None,\n",
       "           min_impurity_decrease=0.0, min_impurity_split=None,\n",
       "           min_samples_leaf=1, min_samples_split=2,\n",
       "           min_weight_fraction_leaf=0.0, n_estimators=10, n_jobs=1,\n",
       "           oob_score=False, random_state=None, verbose=0, warm_start=False)"
      ]
     },
     "execution_count": 23,
     "metadata": {},
     "output_type": "execute_result"
    }
   ],
   "source": [
    "et = ExtraTreesClassifier()\n",
    "et.fit(X_train, u_train)"
   ]
  },
  {
   "cell_type": "code",
   "execution_count": 24,
   "metadata": {},
   "outputs": [
    {
     "data": {
      "text/plain": [
       "0.37834036568213786"
      ]
     },
     "execution_count": 24,
     "metadata": {},
     "output_type": "execute_result"
    }
   ],
   "source": [
    "et.score(X_test, u_test)"
   ]
  },
  {
   "cell_type": "code",
   "execution_count": 25,
   "metadata": {},
   "outputs": [
    {
     "data": {
      "text/plain": [
       "XGBClassifier(base_score=0.5, booster='gbtree', colsample_bylevel=1,\n",
       "       colsample_bytree=1, gamma=0, learning_rate=0.1, max_delta_step=0,\n",
       "       max_depth=3, min_child_weight=1, missing=None, n_estimators=100,\n",
       "       n_jobs=1, nthread=None, objective='multi:softprob', random_state=0,\n",
       "       reg_alpha=0, reg_lambda=1, scale_pos_weight=1, seed=None,\n",
       "       silent=True, subsample=1)"
      ]
     },
     "execution_count": 25,
     "metadata": {},
     "output_type": "execute_result"
    }
   ],
   "source": [
    "xmodel = xgb.XGBClassifier()\n",
    "xmodel.fit(X_train, u_train)"
   ]
  },
  {
   "cell_type": "code",
   "execution_count": 26,
   "metadata": {},
   "outputs": [
    {
     "name": "stderr",
     "output_type": "stream",
     "text": [
      "/home/mtmoncur/.virtualenvs/general/lib/python3.5/site-packages/sklearn/preprocessing/label.py:151: DeprecationWarning: The truth value of an empty array is ambiguous. Returning False, but in future this will result in an error. Use `array.size > 0` to check that an array is not empty.\n",
      "  if diff:\n"
     ]
    },
    {
     "data": {
      "text/plain": [
       "0.6033755274261603"
      ]
     },
     "execution_count": 26,
     "metadata": {},
     "output_type": "execute_result"
    }
   ],
   "source": [
    "xmodel.score(X_test, u_test)"
   ]
  },
  {
   "cell_type": "code",
   "execution_count": 27,
   "metadata": {},
   "outputs": [
    {
     "data": {
      "image/png": "[encoded data removed]",
      "text/plain": [
       "<matplotlib.figure.Figure at 0x7f033a1b0438>"
      ]
     },
     "metadata": {},
     "output_type": "display_data"
    }
   ],
   "source": [
    "ind = np.argsort(xmodel.feature_importances_)\n",
    "plt.figure(figsize=(10,12))\n",
    "\n",
    "plt.barh(range(len(xmodel.feature_importances_)),xmodel.feature_importances_[ind])\n",
    "# It is very important that you use the same columns that you fit your model with, or else this will be wrong!\n",
    "plt.yticks(range(len(xmodel.feature_importances_)),X_train.columns[ind])\n",
    "plt.title(\"Variable Importance\")\n",
    "plt.show()"
   ]
  },
  {
   "cell_type": "code",
   "execution_count": 28,
   "metadata": {},
   "outputs": [
    {
     "data": {
      "text/plain": [
       "LogisticRegression(C=1.0, class_weight=None, dual=False, fit_intercept=True,\n",
       "          intercept_scaling=1, max_iter=100, multi_class='ovr', n_jobs=1,\n",
       "          penalty='l2', random_state=None, solver='liblinear', tol=0.0001,\n",
       "          verbose=0, warm_start=False)"
      ]
     },
     "execution_count": 28,
     "metadata": {},
     "output_type": "execute_result"
    }
   ],
   "source": [
    "logreg = LogisticRegression()\n",
    "logreg.fit(X_train, u_train)"
   ]
  },
  {
   "cell_type": "code",
   "execution_count": 29,
   "metadata": {},
   "outputs": [
    {
     "data": {
      "text/plain": [
       "0.29043600562587907"
      ]
     },
     "execution_count": 29,
     "metadata": {},
     "output_type": "execute_result"
    }
   ],
   "source": [
    "logreg.score(X_test, u_test)"
   ]
  },
  {
   "cell_type": "code",
   "execution_count": 30,
   "metadata": {},
   "outputs": [
    {
     "data": {
      "text/plain": [
       "RandomForestClassifier(bootstrap=True, class_weight=None, criterion='gini',\n",
       "            max_depth=None, max_features='auto', max_leaf_nodes=None,\n",
       "            min_impurity_decrease=0.0, min_impurity_split=None,\n",
       "            min_samples_leaf=1, min_samples_split=2,\n",
       "            min_weight_fraction_leaf=0.0, n_estimators=10, n_jobs=1,\n",
       "            oob_score=False, random_state=None, verbose=0,\n",
       "            warm_start=False)"
      ]
     },
     "execution_count": 30,
     "metadata": {},
     "output_type": "execute_result"
    }
   ],
   "source": [
    "rf = RandomForestClassifier()\n",
    "rf.fit(X_train, u_train)"
   ]
  },
  {
   "cell_type": "code",
   "execution_count": 31,
   "metadata": {},
   "outputs": [
    {
     "data": {
      "text/plain": [
       "0.33263009845288327"
      ]
     },
     "execution_count": 31,
     "metadata": {},
     "output_type": "execute_result"
    }
   ],
   "source": [
    "rf.score(X_test, u_test)"
   ]
  },
  {
   "cell_type": "code",
   "execution_count": 32,
   "metadata": {
    "scrolled": true
   },
   "outputs": [
    {
     "data": {
      "image/png": "[encoded data removed]",
      "text/plain": [
       "<matplotlib.figure.Figure at 0x7f033a242c50>"
      ]
     },
     "metadata": {},
     "output_type": "display_data"
    }
   ],
   "source": [
    "ind = np.argsort(xmodel.feature_importances_)\n",
    "plt.figure(figsize=(10,12))\n",
    "\n",
    "plt.barh(range(len(xmodel.feature_importances_)),xmodel.feature_importances_[ind])\n",
    "# It is very important that you use the same columns that you fit your model with, or else this will be wrong!\n",
    "plt.yticks(range(len(xmodel.feature_importances_)),X_train.columns[ind])\n",
    "plt.title(\"Variable Importance\")\n",
    "plt.show()"
   ]
  },
  {
   "cell_type": "code",
   "execution_count": 33,
   "metadata": {
    "scrolled": true
   },
   "outputs": [
    {
     "name": "stderr",
     "output_type": "stream",
     "text": [
      "/home/mtmoncur/.virtualenvs/general/lib/python3.5/site-packages/sklearn/preprocessing/label.py:151: DeprecationWarning: The truth value of an empty array is ambiguous. Returning False, but in future this will result in an error. Use `array.size > 0` to check that an array is not empty.\n",
      "  if diff:\n"
     ]
    },
    {
     "data": {
      "text/plain": [
       "Counter({0: 36,\n",
       "         1: 38,\n",
       "         2: 35,\n",
       "         3: 40,\n",
       "         4: 24,\n",
       "         5: 39,\n",
       "         6: 46,\n",
       "         7: 25,\n",
       "         8: 39,\n",
       "         9: 37,\n",
       "         10: 33,\n",
       "         11: 34,\n",
       "         12: 41,\n",
       "         13: 14,\n",
       "         14: 40,\n",
       "         15: 42,\n",
       "         16: 42,\n",
       "         17: 35,\n",
       "         18: 28,\n",
       "         19: 34,\n",
       "         20: 32,\n",
       "         21: 37,\n",
       "         22: 32,\n",
       "         23: 36,\n",
       "         24: 37,\n",
       "         25: 34,\n",
       "         26: 37,\n",
       "         27: 39,\n",
       "         28: 32,\n",
       "         29: 30,\n",
       "         30: 374})"
      ]
     },
     "execution_count": 33,
     "metadata": {},
     "output_type": "execute_result"
    }
   ],
   "source": [
    "Counter(xmodel.predict(X_test))"
   ]
  },
  {
   "cell_type": "code",
   "execution_count": 34,
   "metadata": {},
   "outputs": [
    {
     "name": "stderr",
     "output_type": "stream",
     "text": [
      "/home/mtmoncur/.virtualenvs/general/lib/python3.5/site-packages/sklearn/preprocessing/label.py:151: DeprecationWarning: The truth value of an empty array is ambiguous. Returning False, but in future this will result in an error. Use `array.size > 0` to check that an array is not empty.\n",
      "  if diff:\n"
     ]
    },
    {
     "data": {
      "image/png": "[encoded data removed]",
      "text/plain": [
       "<matplotlib.figure.Figure at 0x7f033a1ae4e0>"
      ]
     },
     "metadata": {},
     "output_type": "display_data"
    }
   ],
   "source": [
    "plt.figure(figsize=(10,10))\n",
    "conf_mat = confusion_matrix(u_test, xmodel.predict(X_test))\n",
    "ind = np.diag_indices(len(conf_mat))\n",
    "conf_mat[ind] = 0\n",
    "plt.imshow(conf_mat)\n",
    "plt.show()"
   ]
  },
  {
   "cell_type": "code",
   "execution_count": 35,
   "metadata": {},
   "outputs": [
    {
     "name": "stderr",
     "output_type": "stream",
     "text": [
      "/home/mtmoncur/.virtualenvs/general/lib/python3.5/site-packages/sklearn/preprocessing/label.py:151: DeprecationWarning: The truth value of an empty array is ambiguous. Returning False, but in future this will result in an error. Use `array.size > 0` to check that an array is not empty.\n",
      "  if diff:\n"
     ]
    },
    {
     "data": {
      "image/png": "[encoded data removed]",
      "text/plain": [
       "<matplotlib.figure.Figure at 0x7f03380c4ef0>"
      ]
     },
     "metadata": {},
     "output_type": "display_data"
    }
   ],
   "source": [
    "plt.figure(figsize=(10,10))\n",
    "conf_mat = confusion_matrix(u_train, xmodel.predict(X_train))\n",
    "ind = np.diag_indices(len(conf_mat))\n",
    "conf_mat[ind] = 0\n",
    "plt.imshow(conf_mat)\n",
    "plt.show()"
   ]
  }
 ],
 "metadata": {
  "kernelspec": {
   "display_name": "general",
   "language": "python",
   "name": "general"
  },
  "language_info": {
   "codemirror_mode": {
    "name": "ipython",
    "version": 3
   },
   "file_extension": ".py",
   "mimetype": "text/x-python",
   "name": "python",
   "nbconvert_exporter": "python",
   "pygments_lexer": "ipython3",
   "version": "3.5.2"
  }
 },
 "nbformat": 4,
 "nbformat_minor": 2
}

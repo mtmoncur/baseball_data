{
 "cells": [
  {
   "cell_type": "code",
   "execution_count": 1,
   "metadata": {},
   "outputs": [
    {
     "name": "stderr",
     "output_type": "stream",
     "text": [
      "C:\\Users\\Joseph\\Anaconda3\\lib\\site-packages\\statsmodels\\compat\\pandas.py:56: FutureWarning: The pandas.core.datetools module is deprecated and will be removed in a future version. Please use the pandas.tseries module instead.\n",
      "  from pandas.core import datetools\n"
     ]
    }
   ],
   "source": [
    "import numpy as np\n",
    "import pandas as pd\n",
    "import statsmodels.api as sm\n",
    "import statsmodels.formula.api as smf\n",
    "from scipy import stats\n",
    "from itertools import combinations\n",
    "import matplotlib.pyplot as plt\n",
    "import seaborn as sns\n",
    "\n",
    "%matplotlib inline"
   ]
  },
  {
   "cell_type": "code",
   "execution_count": 2,
   "metadata": {
    "collapsed": true
   },
   "outputs": [],
   "source": [
    "teams_abbr = {'- - -': '- - -', 'ANA': 'Angels', 'ARI': 'Diamondbacks', \n",
    " 'ATL': 'Braves', 'BAL': 'Orioles', 'BOS': 'Red Sox', 'CHC': 'Cubs', \n",
    " 'CHW': 'White Sox', 'CIN': 'Reds', 'CLE': 'Indians', 'COL': 'Rockies',\n",
    " 'DET': 'Tigers', 'FLA': 'Marlins', 'HOU': 'Astros', 'KCR': 'Royals', \n",
    " 'LAA': 'Angels', 'LAD': 'Dodgers', 'MIA': 'Marlins', 'MIL': 'Brewers',\n",
    " 'MIN': 'Twins', 'MON': 'Expos', 'NYM': 'Mets', 'NYY': 'Yankees',\n",
    " 'OAK': 'Athletics', 'PHI': 'Phillies', 'PIT': 'Pirates', 'SDP': 'Padres',\n",
    " 'SEA': 'Mariners', 'SFG': 'Giants', 'STL': 'Cardinals', 'TBD': 'Devil Rays', \n",
    " 'TBR': 'Rays', 'TEX': 'Rangers', 'TOR': 'Blue Jays', 'WSN': 'Nationals'}"
   ]
  },
  {
   "cell_type": "code",
   "execution_count": 3,
   "metadata": {},
   "outputs": [
    {
     "name": "stdout",
     "output_type": "stream",
     "text": [
      "Number of starter pitchers:\t2741\n",
      "Number of relief pitchers:\t1265\n",
      "Number of fielders:\t\t16122\n",
      "-------------------------------------\n",
      "Total number of records:\t20128\n"
     ]
    }
   ],
   "source": [
    "#read in all data\n",
    "sp = pd.read_csv('FanGraphs_Starters (2).csv')\n",
    "rp = pd.read_csv('FanGraphs_Relievers (2).csv')\n",
    "fd = pd.read_csv('FanGraphs_Fielders (2).csv')\n",
    "bt = pd.read_csv('FanGraphs_Batting (2).csv')\n",
    "\n",
    "a, b, c = len(sp),len(rp),len(fd)\n",
    "print(\"\"\"Number of starter pitchers:\\t{}\n",
    "Number of relief pitchers:\\t{}\n",
    "Number of fielders:\\t\\t{}\n",
    "-------------------------------------\n",
    "Total number of records:\\t{}\"\"\".format(a, b, c, a+b+c))\n",
    "\n",
    "#change abbreviation to full team name\n",
    "fd.loc[[True]*len(fd),'Team'] = [teams_abbr[k] for k in fd.Team]\n",
    "\n"
   ]
  },
  {
   "cell_type": "code",
   "execution_count": 4,
   "metadata": {},
   "outputs": [
    {
     "data": {
      "text/plain": [
       "Index(['Season', 'Name', 'Team', 'G', 'PA', 'HR', 'R', 'RBI', 'SB', 'BB%',\n",
       "       'K%', 'ISO', 'BABIP', 'AVG', 'OBP', 'SLG', 'wOBA', 'wRC+', 'BsR', 'Off',\n",
       "       'Def', 'WAR', 'playerid'],\n",
       "      dtype='object')"
      ]
     },
     "execution_count": 4,
     "metadata": {},
     "output_type": "execute_result"
    }
   ],
   "source": [
    "bt.columns"
   ]
  },
  {
   "cell_type": "code",
   "execution_count": 5,
   "metadata": {},
   "outputs": [
    {
     "data": {
      "text/plain": [
       "Index(['Season', 'Name', 'Team', 'W', 'L', 'SV', 'G', 'GS', 'IP', 'K/9',\n",
       "       'BB/9', 'HR/9', 'BABIP', 'LOB%', 'GB%', 'HR/FB', 'ERA', 'FIP', 'xFIP',\n",
       "       'WAR', 'playerid'],\n",
       "      dtype='object')"
      ]
     },
     "execution_count": 5,
     "metadata": {},
     "output_type": "execute_result"
    }
   ],
   "source": [
    "rp.columns"
   ]
  },
  {
   "cell_type": "code",
   "execution_count": 6,
   "metadata": {},
   "outputs": [
    {
     "data": {
      "text/plain": [
       "Index(['Season', 'Name', 'Team', 'W', 'L', 'SV', 'G', 'GS', 'IP', 'K/9',\n",
       "       'BB/9', 'HR/9', 'BABIP', 'LOB%', 'GB%', 'HR/FB', 'ERA', 'FIP', 'xFIP',\n",
       "       'WAR', 'playerid'],\n",
       "      dtype='object')"
      ]
     },
     "execution_count": 6,
     "metadata": {},
     "output_type": "execute_result"
    }
   ],
   "source": [
    "sp.columns"
   ]
  },
  {
   "cell_type": "code",
   "execution_count": 7,
   "metadata": {},
   "outputs": [
    {
     "name": "stdout",
     "output_type": "stream",
     "text": [
      "Index(['Season', 'Name', 'Team', 'Pos', 'Inn', 'rSB', 'rGDP', 'rARM', 'rGFP',\n",
      "       'rPM', 'DRS', 'BIZ', 'Plays', 'RZR', 'OOZ', 'CPP', 'RPP', 'TZL', 'FSR',\n",
      "       'ARM', 'DPR', 'RngR', 'ErrR', 'UZR', 'UZR/150', 'Def', 'playerid'],\n",
      "      dtype='object')\n"
     ]
    },
    {
     "data": {
      "text/html": [
       "<div>\n",
       "<style>\n",
       "    .dataframe thead tr:only-child th {\n",
       "        text-align: right;\n",
       "    }\n",
       "\n",
       "    .dataframe thead th {\n",
       "        text-align: left;\n",
       "    }\n",
       "\n",
       "    .dataframe tbody tr th {\n",
       "        vertical-align: top;\n",
       "    }\n",
       "</style>\n",
       "<table border=\"1\" class=\"dataframe\">\n",
       "  <thead>\n",
       "    <tr style=\"text-align: right;\">\n",
       "      <th></th>\n",
       "      <th>Season</th>\n",
       "      <th>Name</th>\n",
       "      <th>Team</th>\n",
       "      <th>Pos</th>\n",
       "      <th>Inn</th>\n",
       "      <th>rSB</th>\n",
       "      <th>rGDP</th>\n",
       "      <th>rARM</th>\n",
       "      <th>rGFP</th>\n",
       "      <th>rPM</th>\n",
       "      <th>...</th>\n",
       "      <th>TZL</th>\n",
       "      <th>FSR</th>\n",
       "      <th>ARM</th>\n",
       "      <th>DPR</th>\n",
       "      <th>RngR</th>\n",
       "      <th>ErrR</th>\n",
       "      <th>UZR</th>\n",
       "      <th>UZR/150</th>\n",
       "      <th>Def</th>\n",
       "      <th>playerid</th>\n",
       "    </tr>\n",
       "  </thead>\n",
       "  <tbody>\n",
       "    <tr>\n",
       "      <th>14107</th>\n",
       "      <td>2010</td>\n",
       "      <td>Ervin Santana</td>\n",
       "      <td>Angels</td>\n",
       "      <td>P</td>\n",
       "      <td>222.2</td>\n",
       "      <td>-4.0</td>\n",
       "      <td>NaN</td>\n",
       "      <td>NaN</td>\n",
       "      <td>0</td>\n",
       "      <td>-3.0</td>\n",
       "      <td>...</td>\n",
       "      <td>NaN</td>\n",
       "      <td>NaN</td>\n",
       "      <td>NaN</td>\n",
       "      <td>NaN</td>\n",
       "      <td>NaN</td>\n",
       "      <td>NaN</td>\n",
       "      <td>NaN</td>\n",
       "      <td>NaN</td>\n",
       "      <td>NaN</td>\n",
       "      <td>3200</td>\n",
       "    </tr>\n",
       "    <tr>\n",
       "      <th>5264</th>\n",
       "      <td>2012</td>\n",
       "      <td>Adeiny Hechavarria</td>\n",
       "      <td>Blue Jays</td>\n",
       "      <td>3B</td>\n",
       "      <td>156.0</td>\n",
       "      <td>NaN</td>\n",
       "      <td>0.0</td>\n",
       "      <td>NaN</td>\n",
       "      <td>1</td>\n",
       "      <td>-2.0</td>\n",
       "      <td>...</td>\n",
       "      <td>NaN</td>\n",
       "      <td>2.0</td>\n",
       "      <td>NaN</td>\n",
       "      <td>0.3</td>\n",
       "      <td>-1.3</td>\n",
       "      <td>1.1</td>\n",
       "      <td>0.1</td>\n",
       "      <td>-0.1</td>\n",
       "      <td>0.4</td>\n",
       "      <td>10459</td>\n",
       "    </tr>\n",
       "    <tr>\n",
       "      <th>15813</th>\n",
       "      <td>2016</td>\n",
       "      <td>Joe Ross</td>\n",
       "      <td>Nationals</td>\n",
       "      <td>P</td>\n",
       "      <td>105.0</td>\n",
       "      <td>0.0</td>\n",
       "      <td>NaN</td>\n",
       "      <td>NaN</td>\n",
       "      <td>1</td>\n",
       "      <td>-2.0</td>\n",
       "      <td>...</td>\n",
       "      <td>NaN</td>\n",
       "      <td>NaN</td>\n",
       "      <td>NaN</td>\n",
       "      <td>NaN</td>\n",
       "      <td>NaN</td>\n",
       "      <td>NaN</td>\n",
       "      <td>NaN</td>\n",
       "      <td>NaN</td>\n",
       "      <td>NaN</td>\n",
       "      <td>12972</td>\n",
       "    </tr>\n",
       "    <tr>\n",
       "      <th>13760</th>\n",
       "      <td>2009</td>\n",
       "      <td>Tomo Ohka</td>\n",
       "      <td>Indians</td>\n",
       "      <td>P</td>\n",
       "      <td>71.0</td>\n",
       "      <td>0.0</td>\n",
       "      <td>NaN</td>\n",
       "      <td>NaN</td>\n",
       "      <td>0</td>\n",
       "      <td>2.0</td>\n",
       "      <td>...</td>\n",
       "      <td>NaN</td>\n",
       "      <td>NaN</td>\n",
       "      <td>NaN</td>\n",
       "      <td>NaN</td>\n",
       "      <td>NaN</td>\n",
       "      <td>NaN</td>\n",
       "      <td>NaN</td>\n",
       "      <td>NaN</td>\n",
       "      <td>NaN</td>\n",
       "      <td>788</td>\n",
       "    </tr>\n",
       "    <tr>\n",
       "      <th>4208</th>\n",
       "      <td>2011</td>\n",
       "      <td>Donnie Murphy</td>\n",
       "      <td>Marlins</td>\n",
       "      <td>3B</td>\n",
       "      <td>79.2</td>\n",
       "      <td>NaN</td>\n",
       "      <td>0.0</td>\n",
       "      <td>NaN</td>\n",
       "      <td>0</td>\n",
       "      <td>0.0</td>\n",
       "      <td>...</td>\n",
       "      <td>NaN</td>\n",
       "      <td>0.0</td>\n",
       "      <td>NaN</td>\n",
       "      <td>-0.1</td>\n",
       "      <td>1.2</td>\n",
       "      <td>0.0</td>\n",
       "      <td>1.0</td>\n",
       "      <td>14.2</td>\n",
       "      <td>1.2</td>\n",
       "      <td>4704</td>\n",
       "    </tr>\n",
       "  </tbody>\n",
       "</table>\n",
       "<p>5 rows × 27 columns</p>\n",
       "</div>"
      ],
      "text/plain": [
       "       Season                Name       Team Pos    Inn  rSB  rGDP  rARM  \\\n",
       "14107    2010       Ervin Santana     Angels   P  222.2 -4.0   NaN   NaN   \n",
       "5264     2012  Adeiny Hechavarria  Blue Jays  3B  156.0  NaN   0.0   NaN   \n",
       "15813    2016            Joe Ross  Nationals   P  105.0  0.0   NaN   NaN   \n",
       "13760    2009           Tomo Ohka    Indians   P   71.0  0.0   NaN   NaN   \n",
       "4208     2011       Donnie Murphy    Marlins  3B   79.2  NaN   0.0   NaN   \n",
       "\n",
       "       rGFP  rPM    ...     TZL  FSR  ARM  DPR  RngR  ErrR  UZR  UZR/150  Def  \\\n",
       "14107     0 -3.0    ...     NaN  NaN  NaN  NaN   NaN   NaN  NaN      NaN  NaN   \n",
       "5264      1 -2.0    ...     NaN  2.0  NaN  0.3  -1.3   1.1  0.1     -0.1  0.4   \n",
       "15813     1 -2.0    ...     NaN  NaN  NaN  NaN   NaN   NaN  NaN      NaN  NaN   \n",
       "13760     0  2.0    ...     NaN  NaN  NaN  NaN   NaN   NaN  NaN      NaN  NaN   \n",
       "4208      0  0.0    ...     NaN  0.0  NaN -0.1   1.2   0.0  1.0     14.2  1.2   \n",
       "\n",
       "       playerid  \n",
       "14107      3200  \n",
       "5264      10459  \n",
       "15813     12972  \n",
       "13760       788  \n",
       "4208       4704  \n",
       "\n",
       "[5 rows x 27 columns]"
      ]
     },
     "execution_count": 7,
     "metadata": {},
     "output_type": "execute_result"
    }
   ],
   "source": [
    "print(fd.columns)\n",
    "fd.sample(5)"
   ]
  },
  {
   "cell_type": "code",
   "execution_count": 8,
   "metadata": {},
   "outputs": [
    {
     "name": "stdout",
     "output_type": "stream",
     "text": [
      "Only counting players once per season.\n",
      "\n",
      "Number of starter pitchers:\t2675\n",
      "Number of relief pitchers:\t1265\n",
      "Number of fielders:\t\t12253\n",
      "-------------------------------------\n",
      "Total number of records:\t12254\n"
     ]
    }
   ],
   "source": [
    "#create a 3 sets containing tuples of playerids with the season for each record\n",
    "fd_season_id = set([tuple(row) for row in fd[['playerid','Season']].values])\n",
    "rp_season_id = set([tuple(row) for row in rp[['playerid','Season']].values])\n",
    "sp_season_id = set([tuple(row) for row in sp[['playerid','Season']].values])\n",
    "bt_season_id = set([tuple(row) for row in bt[['playerid','Season']].values])\n",
    "\n",
    "a, b, c = len(sp_season_id), len(rp_season_id), len(fd_season_id)\n",
    "total = set()\n",
    "total.update(sp_season_id);total.update(rp_season_id);total.update(fd_season_id)\n",
    "\n",
    "print(\"Only counting players once per season.\\n\")\n",
    "print(\"\"\"Number of starter pitchers:\\t{}\n",
    "Number of relief pitchers:\\t{}\n",
    "Number of fielders:\\t\\t{}\n",
    "-------------------------------------\n",
    "Total number of records:\\t{}\"\"\".format(a, b, c, len(total)))\n"
   ]
  },
  {
   "cell_type": "code",
   "execution_count": 9,
   "metadata": {},
   "outputs": [
    {
     "name": "stdout",
     "output_type": "stream",
     "text": [
      "8157\n",
      "0\n",
      "590\n",
      "1264\n",
      "3\n",
      "2675\n"
     ]
    }
   ],
   "source": [
    "print(len(bt_season_id.intersection(fd_season_id)))\n",
    "print(len(bt_season_id.intersection(rp_season_id)))\n",
    "print(len(bt_season_id.intersection(sp_season_id)))\n",
    "print(len(rp_season_id.intersection(fd_season_id)))\n",
    "print(len(rp_season_id.intersection(sp_season_id)))\n",
    "print(len(sp_season_id.intersection(fd_season_id)))\n"
   ]
  },
  {
   "cell_type": "code",
   "execution_count": 10,
   "metadata": {},
   "outputs": [
    {
     "ename": "ValueError",
     "evalue": "Buffer has wrong number of dimensions (expected 1, got 2)",
     "output_type": "error",
     "traceback": [
      "\u001b[1;31m---------------------------------------------------------------------------\u001b[0m",
      "\u001b[1;31mValueError\u001b[0m                                Traceback (most recent call last)",
      "\u001b[1;32m<ipython-input-10-e4725754cd7e>\u001b[0m in \u001b[0;36m<module>\u001b[1;34m()\u001b[0m\n\u001b[0;32m     11\u001b[0m \u001b[1;31m#fd.drop(fd[mask].index,inplace=True)\u001b[0m\u001b[1;33m\u001b[0m\u001b[1;33m\u001b[0m\u001b[0m\n\u001b[0;32m     12\u001b[0m \u001b[1;33m\u001b[0m\u001b[0m\n\u001b[1;32m---> 13\u001b[1;33m \u001b[0mmask\u001b[0m \u001b[1;33m=\u001b[0m \u001b[0mrp\u001b[0m\u001b[1;33m.\u001b[0m\u001b[0mSeasonid\u001b[0m\u001b[1;33m.\u001b[0m\u001b[0misin\u001b[0m\u001b[1;33m(\u001b[0m\u001b[0msp_season_id\u001b[0m\u001b[1;33m)\u001b[0m\u001b[1;33m\u001b[0m\u001b[0m\n\u001b[0m\u001b[0;32m     14\u001b[0m \u001b[0mrp\u001b[0m\u001b[1;33m.\u001b[0m\u001b[0mdrop\u001b[0m\u001b[1;33m(\u001b[0m\u001b[0mrp\u001b[0m\u001b[1;33m[\u001b[0m\u001b[0mmask\u001b[0m\u001b[1;33m]\u001b[0m\u001b[1;33m.\u001b[0m\u001b[0mindex\u001b[0m\u001b[1;33m,\u001b[0m\u001b[0minplace\u001b[0m\u001b[1;33m=\u001b[0m\u001b[1;32mTrue\u001b[0m\u001b[1;33m)\u001b[0m\u001b[1;33m\u001b[0m\u001b[0m\n\u001b[0;32m     15\u001b[0m \u001b[1;33m\u001b[0m\u001b[0m\n",
      "\u001b[1;32mC:\\Users\\Joseph\\Anaconda3\\lib\\site-packages\\pandas\\core\\series.py\u001b[0m in \u001b[0;36misin\u001b[1;34m(self, values)\u001b[0m\n\u001b[0;32m   2553\u001b[0m \u001b[1;33m\u001b[0m\u001b[0m\n\u001b[0;32m   2554\u001b[0m         \"\"\"\n\u001b[1;32m-> 2555\u001b[1;33m         \u001b[0mresult\u001b[0m \u001b[1;33m=\u001b[0m \u001b[0malgorithms\u001b[0m\u001b[1;33m.\u001b[0m\u001b[0misin\u001b[0m\u001b[1;33m(\u001b[0m\u001b[0m_values_from_object\u001b[0m\u001b[1;33m(\u001b[0m\u001b[0mself\u001b[0m\u001b[1;33m)\u001b[0m\u001b[1;33m,\u001b[0m \u001b[0mvalues\u001b[0m\u001b[1;33m)\u001b[0m\u001b[1;33m\u001b[0m\u001b[0m\n\u001b[0m\u001b[0;32m   2556\u001b[0m         \u001b[1;32mreturn\u001b[0m \u001b[0mself\u001b[0m\u001b[1;33m.\u001b[0m\u001b[0m_constructor\u001b[0m\u001b[1;33m(\u001b[0m\u001b[0mresult\u001b[0m\u001b[1;33m,\u001b[0m \u001b[0mindex\u001b[0m\u001b[1;33m=\u001b[0m\u001b[0mself\u001b[0m\u001b[1;33m.\u001b[0m\u001b[0mindex\u001b[0m\u001b[1;33m)\u001b[0m\u001b[1;33m.\u001b[0m\u001b[0m__finalize__\u001b[0m\u001b[1;33m(\u001b[0m\u001b[0mself\u001b[0m\u001b[1;33m)\u001b[0m\u001b[1;33m\u001b[0m\u001b[0m\n\u001b[0;32m   2557\u001b[0m \u001b[1;33m\u001b[0m\u001b[0m\n",
      "\u001b[1;32mC:\\Users\\Joseph\\Anaconda3\\lib\\site-packages\\pandas\\core\\algorithms.py\u001b[0m in \u001b[0;36misin\u001b[1;34m(comps, values)\u001b[0m\n\u001b[0;32m    419\u001b[0m             \u001b[0mcomps\u001b[0m \u001b[1;33m=\u001b[0m \u001b[0mcomps\u001b[0m\u001b[1;33m.\u001b[0m\u001b[0mastype\u001b[0m\u001b[1;33m(\u001b[0m\u001b[0mobject\u001b[0m\u001b[1;33m)\u001b[0m\u001b[1;33m\u001b[0m\u001b[0m\n\u001b[0;32m    420\u001b[0m \u001b[1;33m\u001b[0m\u001b[0m\n\u001b[1;32m--> 421\u001b[1;33m     \u001b[1;32mreturn\u001b[0m \u001b[0mf\u001b[0m\u001b[1;33m(\u001b[0m\u001b[0mcomps\u001b[0m\u001b[1;33m,\u001b[0m \u001b[0mvalues\u001b[0m\u001b[1;33m)\u001b[0m\u001b[1;33m\u001b[0m\u001b[0m\n\u001b[0m\u001b[0;32m    422\u001b[0m \u001b[1;33m\u001b[0m\u001b[0m\n\u001b[0;32m    423\u001b[0m \u001b[1;33m\u001b[0m\u001b[0m\n",
      "\u001b[1;32mC:\\Users\\Joseph\\Anaconda3\\lib\\site-packages\\pandas\\core\\algorithms.py\u001b[0m in \u001b[0;36m<lambda>\u001b[1;34m(x, y)\u001b[0m\n\u001b[0;32m    397\u001b[0m     \u001b[1;31m# work-around for numpy < 1.8 and comparisions on py3\u001b[0m\u001b[1;33m\u001b[0m\u001b[1;33m\u001b[0m\u001b[0m\n\u001b[0;32m    398\u001b[0m     \u001b[1;31m# faster for larger cases to use np.in1d\u001b[0m\u001b[1;33m\u001b[0m\u001b[1;33m\u001b[0m\u001b[0m\n\u001b[1;32m--> 399\u001b[1;33m     \u001b[0mf\u001b[0m \u001b[1;33m=\u001b[0m \u001b[1;32mlambda\u001b[0m \u001b[0mx\u001b[0m\u001b[1;33m,\u001b[0m \u001b[0my\u001b[0m\u001b[1;33m:\u001b[0m \u001b[0mhtable\u001b[0m\u001b[1;33m.\u001b[0m\u001b[0mismember_object\u001b[0m\u001b[1;33m(\u001b[0m\u001b[0mx\u001b[0m\u001b[1;33m,\u001b[0m \u001b[0mvalues\u001b[0m\u001b[1;33m)\u001b[0m\u001b[1;33m\u001b[0m\u001b[0m\n\u001b[0m\u001b[0;32m    400\u001b[0m     \u001b[1;32mif\u001b[0m \u001b[1;33m(\u001b[0m\u001b[0m_np_version_under1p8\u001b[0m \u001b[1;32mand\u001b[0m \u001b[0mcompat\u001b[0m\u001b[1;33m.\u001b[0m\u001b[0mPY3\u001b[0m\u001b[1;33m)\u001b[0m \u001b[1;32mor\u001b[0m \u001b[0mlen\u001b[0m\u001b[1;33m(\u001b[0m\u001b[0mcomps\u001b[0m\u001b[1;33m)\u001b[0m \u001b[1;33m>\u001b[0m \u001b[1;36m1000000\u001b[0m\u001b[1;33m:\u001b[0m\u001b[1;33m\u001b[0m\u001b[0m\n\u001b[0;32m    401\u001b[0m         \u001b[0mf\u001b[0m \u001b[1;33m=\u001b[0m \u001b[1;32mlambda\u001b[0m \u001b[0mx\u001b[0m\u001b[1;33m,\u001b[0m \u001b[0my\u001b[0m\u001b[1;33m:\u001b[0m \u001b[0mnp\u001b[0m\u001b[1;33m.\u001b[0m\u001b[0min1d\u001b[0m\u001b[1;33m(\u001b[0m\u001b[0mx\u001b[0m\u001b[1;33m,\u001b[0m \u001b[0my\u001b[0m\u001b[1;33m)\u001b[0m\u001b[1;33m\u001b[0m\u001b[0m\n",
      "\u001b[1;32mpandas\\_libs\\hashtable_func_helper.pxi\u001b[0m in \u001b[0;36mpandas._libs.hashtable.ismember_object (pandas\\_libs\\hashtable.c:29677)\u001b[1;34m()\u001b[0m\n",
      "\u001b[1;31mValueError\u001b[0m: Buffer has wrong number of dimensions (expected 1, got 2)"
     ]
    }
   ],
   "source": [
    "#create temporary Seasonid column\n",
    "fd.insert(2,'Seasonid',[tuple(row) for row in fd[['playerid','Season']].values])\n",
    "rp.insert(2,'Seasonid',[tuple(row) for row in rp[['playerid','Season']].values])\n",
    "sp.insert(2,'Seasonid',[tuple(row) for row in sp[['playerid','Season']].values])\n",
    "\n",
    "#find and remove duplicates between dataframes\n",
    "#mask = fd.Seasonid.isin(sp_season_id)\n",
    "#fd.drop(fd[mask].index,inplace=True)\n",
    "\n",
    "#mask = fd.Seasonid.isin(rp_season_id)\n",
    "#fd.drop(fd[mask].index,inplace=True)\n",
    "\n",
    "mask = rp.Seasonid.isin(sp_season_id)\n",
    "rp.drop(rp[mask].index,inplace=True)\n",
    "\n",
    "#remove temporary Seasonid column\n",
    "fd.drop('Seasonid',axis=1,inplace=True)\n",
    "sp.drop('Seasonid',axis=1,inplace=True)\n",
    "rp.drop('Seasonid',axis=1,inplace=True)"
   ]
  },
  {
   "cell_type": "code",
   "execution_count": null,
   "metadata": {
    "collapsed": true
   },
   "outputs": [],
   "source": [
    "#change all fielder positions (except catcher) to FD\n",
    "fd.loc[fd.Pos.isin(['1B','2B','3B','RF','LF','CF','SS']),'Pos'] = 'FD'\n",
    "\n",
    "#add column with potision to prepare for combining data\n",
    "sp.insert(2, 'Pos', 'SP')\n",
    "rp.insert(2,'Pos', 'RP')"
   ]
  },
  {
   "cell_type": "code",
   "execution_count": null,
   "metadata": {},
   "outputs": [],
   "source": [
    "p = pd.concat([sp,rp,fd], ignore_index=True)\n",
    "#p = pd.merge(sp,rp, on=['Season', 'Name']'Seasonid', how='outer')\n",
    "#p = pd.merge(p, fd, on='Seasonid', how='outer')\n",
    "p.drop(p[p.Season<2002].index,inplace=True)\n",
    "p.reset_index()\n",
    "\n",
    "p.sample(5)"
   ]
  },
  {
   "cell_type": "code",
   "execution_count": null,
   "metadata": {
    "collapsed": true
   },
   "outputs": [],
   "source": [
    "p = p.drop(['rSB', 'rGDP', 'rARM', 'rGFP',\n",
    "       'rPM', 'BIZ', 'Plays', 'RZR', 'OOZ', 'CPP', 'TZL', 'FSR',\n",
    "       'ARM', 'DPR', 'RngR', 'ErrR', 'UZR/150', 'Def',\n",
    "        'L', 'SV', 'G', 'GS', 'IP', 'K/9',\n",
    "       'BB/9', 'HR/9', 'BABIP', 'LOB%', 'GB%', 'HR/FB', 'ERA', 'xFIP',\n",
    "       ], axis=1)"
   ]
  },
  {
   "cell_type": "code",
   "execution_count": null,
   "metadata": {
    "collapsed": true
   },
   "outputs": [],
   "source": [
    "p['DRS'].fillna(p['DRS'].mean(), inplace=True)\n",
    "p['RPP'].fillna(p['RPP'].mean(), inplace=True)\n",
    "p['UZR'].fillna(p['UZR'].mean(), inplace=True)\n",
    "p['FIP'].fillna(p['FIP'].mean(), inplace=True)\n",
    "p['Inn'].fillna(p['Inn'].mean(), inplace=True)\n",
    "p['WAR'].fillna(p['WAR'].mean(), inplace=True)\n",
    "p['W'].fillna(p['W'].mean(), inplace=True)\n"
   ]
  },
  {
   "cell_type": "code",
   "execution_count": null,
   "metadata": {},
   "outputs": [],
   "source": [
    "by_pos = p.groupby('Pos')\n",
    "for g in by_pos.groups:\n",
    "    group = by_pos.get_group(g)\n",
    "    print('#'*50)\n",
    "    print(g)\n",
    "    for c in p.columns:\n",
    "        print(c,'\\t', len(group)-group[c].count())"
   ]
  },
  {
   "cell_type": "code",
   "execution_count": null,
   "metadata": {
    "collapsed": true
   },
   "outputs": [],
   "source": [
    "#account for team name changes\n",
    "p.loc[p.Team=='Devil Rays','Team'] = 'Rays'\n",
    "p.loc[p.Team=='Expos','Team'] = 'Nationals'\n",
    "del(teams_abbr['MON'])\n",
    "del(teams_abbr['TBD'])\n",
    "\n",
    "#delete players from a season if their team is unknown\n",
    "p.drop(p[p.Team=='- - -'].index,inplace=True)\n",
    "del(teams_abbr['- - -'])"
   ]
  },
  {
   "cell_type": "code",
   "execution_count": null,
   "metadata": {},
   "outputs": [],
   "source": [
    "print(\"Number of records before:\\t{}\".format(len(p)))\n",
    "p.drop_duplicates(inplace=True)\n",
    "print(\"Number of records after:\\t{}\".format(len(p)))"
   ]
  },
  {
   "cell_type": "code",
   "execution_count": null,
   "metadata": {},
   "outputs": [],
   "source": [
    "p.sample(5)"
   ]
  },
  {
   "cell_type": "code",
   "execution_count": null,
   "metadata": {
    "scrolled": true
   },
   "outputs": [],
   "source": [
    "p.dropna(axis=1, how='any')"
   ]
  },
  {
   "cell_type": "code",
   "execution_count": null,
   "metadata": {
    "collapsed": true
   },
   "outputs": [],
   "source": [
    "if 'Leave' in p.columns:\n",
    "    p.drop('Leave', axis=1, inplace=True)\n",
    "if 'Stay_Length' in p.columns:\n",
    "    p.drop('Stay_Length', axis=1, inplace=True)\n",
    "\n",
    "#initialize the new column with value 'No Change'\n",
    "p.insert(1, 'Leave', 0)\n",
    "p.insert(1, 'Stay_Length', 0)\n",
    "by_player = p.groupby('playerid')\n",
    "\n",
    "#loop through, player by player\n",
    "for g in by_player.groups:\n",
    "    one_p = by_player.get_group(g)\n",
    "    \n",
    "    counter = 1\n",
    "    #loop through the years for each player\n",
    "    for y in sorted(one_p['Season'].unique()):\n",
    "        p.loc[one_p[one_p.Season==y].index,'Stay_Length'] = counter\n",
    "        #Case: no next two seasons, counted as leave\n",
    "        if sum(one_p.Season==y+1)==0:\n",
    "            if sum(one_p.Season==y+2)==0:\n",
    "                p.loc[one_p[one_p.Season==y].index,'Leave'] = 1\n",
    "                counter = 1\n",
    "            elif (one_p[one_p.Season==y].Team.values[0] != \n",
    "                    one_p[one_p.Season==y+2].Team.values[0]):\n",
    "                p.loc[one_p[one_p.Season==y].index,'Leave'] = 1\n",
    "                counter = 1\n",
    "            else:\n",
    "                counter += 1 \n",
    "        \n",
    "        #Case: Leave in next season\n",
    "        elif (one_p[one_p.Season==y].Team.values[0] != \n",
    "                    one_p[one_p.Season==y+1].Team.values[0]):\n",
    "            p.loc[one_p[one_p.Season==y].index,'Leave'] = 1\n",
    "            counter = 1\n",
    "            \n",
    "        else:\n",
    "            counter += 1\n",
    "            \n"
   ]
  },
  {
   "cell_type": "code",
   "execution_count": null,
   "metadata": {},
   "outputs": [],
   "source": [
    "p.sort_values(by=['playerid','Season'])"
   ]
  },
  {
   "cell_type": "code",
   "execution_count": null,
   "metadata": {
    "collapsed": true
   },
   "outputs": [],
   "source": [
    "df1 = []\n",
    "by_player = p.groupby('playerid')\n",
    "\n",
    "#loop through, player by player\n",
    "for g in by_player.groups:\n",
    "    one_p = by_player.get_group(g)\n",
    "    for year in one_p.Seasons.unique():\n",
    "        df1.append([one_p.Name.values[0],year])\n",
    "df1 = pd.DataFrame(df1)\n",
    "\n"
   ]
  },
  {
   "cell_type": "code",
   "execution_count": null,
   "metadata": {},
   "outputs": [],
   "source": [
    "for col in ['P', 'SP', 'RP', 'FD', 'C']:\n",
    "    if col in p.columns:\n",
    "        p.drop(col, axis=1, inplace=True)\n",
    "\n",
    "#one-hot encode positions\n",
    "for position in p.Pos.unique():\n",
    "    p.insert(0, position, (p.Pos==position).apply(int))\n",
    "\n",
    "#one-hot encode teams\n",
    "for team in p.Team.unique():\n",
    "    p.insert(0, team, (p.Team==team).apply(int))\n",
    "\n",
    "p.sample(5)"
   ]
  },
  {
   "cell_type": "code",
   "execution_count": null,
   "metadata": {
    "collapsed": true
   },
   "outputs": [],
   "source": []
  },
  {
   "cell_type": "code",
   "execution_count": null,
   "metadata": {
    "scrolled": true
   },
   "outputs": [],
   "source": [
    "temp = p[list(p.Pos.unique())+list(p.Team.unique())+['Stay_Length']]\n",
    "#temp = p[['Stay_Length', 'FD', 'C', 'P', 'SP', 'RP', 'Inn', 'W', 'WAR', 'DRS', 'RPP', 'UZR', 'FIP']]\n",
    "#temp['P*WAR'] = temp['P']*temp['WAR']\n",
    "#temp['P*FIP'] = temp['P']*temp['FIP']\n",
    "#temp['FD*UZR'] = temp['FD']*temp['UZR']\n",
    "#temp['C*DRS'] = temp['C']*temp['DRS']\n",
    "\n",
    "#X = temp[['Stay_Length', 'FD', 'C', 'P', 'RP', 'SP']]#, 'Inn', 'W', 'RPP', 'P*WAR', 'C*DRS', 'FD*UZR', 'P*FIP']]\n",
    "X = temp\n",
    "\n",
    "y = p['Leave']\n",
    "\n",
    "pd.concat([X,y],axis=1)"
   ]
  },
  {
   "cell_type": "code",
   "execution_count": null,
   "metadata": {
    "collapsed": true
   },
   "outputs": [],
   "source": [
    "results = sm.OLS(y,X).fit()"
   ]
  },
  {
   "cell_type": "code",
   "execution_count": null,
   "metadata": {},
   "outputs": [],
   "source": [
    "print(results.summary())"
   ]
  },
  {
   "cell_type": "code",
   "execution_count": null,
   "metadata": {},
   "outputs": [],
   "source": [
    "np.average(y)"
   ]
  },
  {
   "cell_type": "code",
   "execution_count": null,
   "metadata": {},
   "outputs": [],
   "source": [
    "temp = results.predict(X)\n",
    "\n",
    "plt.hist(temp.values)"
   ]
  },
  {
   "cell_type": "code",
   "execution_count": null,
   "metadata": {},
   "outputs": [],
   "source": [
    "temp = results.predict(X[X.P==1])\n",
    "plt.hist(temp.values)\n",
    "plt.show()\n",
    "\n",
    "plt.hist(X[(y==1)&(X.P==1)].Stay_Length)\n",
    "plt.show()\n",
    "\n",
    "np.average(X[(y==1)&(X.P==1)].Stay_Length)"
   ]
  },
  {
   "cell_type": "code",
   "execution_count": null,
   "metadata": {},
   "outputs": [],
   "source": [
    "temp = results.predict(X[X.RP==1])\n",
    "plt.hist(temp.values)\n",
    "plt.show()\n",
    "\n",
    "plt.hist(X[(y==1)&(X.RP==1)].Stay_Length)\n",
    "plt.show()\n",
    "\n",
    "np.average(X[(y==1)&(X.RP==1)].Stay_Length)"
   ]
  },
  {
   "cell_type": "code",
   "execution_count": null,
   "metadata": {},
   "outputs": [],
   "source": [
    "temp = results.predict(X[X.SP==1])\n",
    "plt.hist(temp.values)\n",
    "plt.show()\n",
    "\n",
    "plt.hist(X[(y==1)&(X.SP==1)].Stay_Length)\n",
    "plt.show()\n",
    "\n",
    "np.average(X[(y==1)&(X.SP==1)].Stay_Length)"
   ]
  },
  {
   "cell_type": "code",
   "execution_count": null,
   "metadata": {},
   "outputs": [],
   "source": [
    "temp = results.predict(X[X.FD==1])\n",
    "plt.hist(temp.values)\n",
    "plt.show()\n",
    "\n",
    "plt.hist(X[(y==1)&(X.FD==1)].Stay_Length)\n",
    "plt.show()\n",
    "\n",
    "np.median(X[(y==1)&(X.FD==1)].Stay_Length)"
   ]
  },
  {
   "cell_type": "code",
   "execution_count": null,
   "metadata": {},
   "outputs": [],
   "source": [
    "temp = results.predict(X[X.C==1])\n",
    "plt.hist(temp.values)\n",
    "plt.show()\n",
    "\n",
    "plt.hist(X[(y==1)&(X.C==1)].Stay_Length)\n",
    "plt.show()\n",
    "\n",
    "np.average(X[(y==1)&(X.C==1)].Stay_Length)"
   ]
  },
  {
   "cell_type": "code",
   "execution_count": null,
   "metadata": {},
   "outputs": [],
   "source": [
    "#for col in ['P', 'RP','SP','C','FD']:\n",
    "#    print(col)\n",
    "data = [X[(y==1)&(X[col]==1)].Stay_Length.values for col in ['P', 'RP','SP','C','FD']]\n",
    "plt.boxplot(data)\n",
    "plt.xticks(np.arange(1,1+5), ['P', 'RP','SP','C','FD'])\n",
    "plt.show()"
   ]
  },
  {
   "cell_type": "code",
   "execution_count": null,
   "metadata": {},
   "outputs": [],
   "source": [
    "X[(y==1)&(X[col]==1)].Stay_Length.values"
   ]
  },
  {
   "cell_type": "markdown",
   "metadata": {
    "collapsed": true
   },
   "source": [
    "## Random Forest"
   ]
  },
  {
   "cell_type": "code",
   "execution_count": null,
   "metadata": {
    "collapsed": true
   },
   "outputs": [],
   "source": [
    "from sklearn.ensemble import RandomForestClassifier, ExtraTreesClassifier, AdaBoostClassifier\n",
    "from sklearn import svm\n",
    "from sklearn.linear_model import LogisticRegressionCV\n",
    "from sklearn.metrics import accuracy_score, make_scorer\n",
    "from sklearn.model_selection import train_test_split\n",
    "from sklearn.model_selection import GridSearchCV\n",
    "from sklearn import datasets"
   ]
  },
  {
   "cell_type": "code",
   "execution_count": null,
   "metadata": {
    "collapsed": true
   },
   "outputs": [],
   "source": [
    "da"
   ]
  },
  {
   "cell_type": "code",
   "execution_count": null,
   "metadata": {},
   "outputs": [],
   "source": [
    "X_train, X_test, y_train, y_test = train_test_split(X, y, test_size=0.3)\n",
    "\n",
    "rf = RandomForestClassifier()\n",
    "\n",
    "# Choose some parameter combinations to try\n",
    "parameters = {'n_estimators': [9, 4, 6],\n",
    "              'max_features': ['log2', 'sqrt','auto'], \n",
    "              'criterion': ['entropy', 'gini'],\n",
    "              'max_depth': [10, 2, 3, 5], \n",
    "              'min_samples_split': [2, 3, 5],\n",
    "              'min_samples_leaf': [5, 1,8]\n",
    "             }\n",
    "\n",
    "# Type of scoring used to compare parameter combinations\n",
    "acc_scorer = make_scorer(accuracy_score)\n",
    "\n",
    "# Run the grid search\n",
    "grid_obj = GridSearchCV(rf, parameters, n_jobs=4)#, scoring=acc_scorer)\n",
    "grid_obj = grid_obj.fit(X_train, y_train)\n",
    "\n",
    "# Set the clf to the best combination of parameters\n",
    "rf = grid_obj.best_estimator_\n",
    "\n",
    "\n",
    "rf.fit(X_train, y_train)"
   ]
  },
  {
   "cell_type": "code",
   "execution_count": null,
   "metadata": {},
   "outputs": [],
   "source": [
    "accuracy_score(y_test, rf.predict(X_test))"
   ]
  },
  {
   "cell_type": "code",
   "execution_count": null,
   "metadata": {},
   "outputs": [],
   "source": [
    "rf.predict(X_test)"
   ]
  },
  {
   "cell_type": "markdown",
   "metadata": {},
   "source": [
    "## Boosted Forest"
   ]
  },
  {
   "cell_type": "code",
   "execution_count": null,
   "metadata": {},
   "outputs": [],
   "source": [
    "#X_train, X_test, y_train, y_test = train_test_split(X, y, test_size=0.3)\n",
    "\n",
    "et = ExtraTreesClassifier()\n",
    "\n",
    "# Choose some parameter combinations to try\n",
    "parameters = {'n_estimators': [9, 4, 6],\n",
    "              'max_features': ['log2', 'sqrt','auto'], \n",
    "              'criterion': ['entropy', 'gini'],\n",
    "              'max_depth': [10, 2, 3, 5], \n",
    "              'min_samples_split': [2, 3, 5],\n",
    "              'min_samples_leaf': [5, 1,8]\n",
    "             }\n",
    "\n",
    "# Type of scoring used to compare parameter combinations\n",
    "acc_scorer = make_scorer(accuracy_score)\n",
    "\n",
    "# Run the grid search\n",
    "grid_obj = GridSearchCV(et, parameters, n_jobs=4)#, scoring=acc_scorer)\n",
    "grid_obj = grid_obj.fit(X_train, y_train)\n",
    "\n",
    "# Set the clf to the best combination of parameters\n",
    "et = grid_obj.best_estimator_\n",
    "\n",
    "\n",
    "et.fit(X_train, y_train)"
   ]
  },
  {
   "cell_type": "code",
   "execution_count": null,
   "metadata": {},
   "outputs": [],
   "source": [
    "accuracy_score(y_test, et.predict(X_test))"
   ]
  },
  {
   "cell_type": "code",
   "execution_count": null,
   "metadata": {},
   "outputs": [],
   "source": [
    "et.predict(X_test)"
   ]
  },
  {
   "cell_type": "markdown",
   "metadata": {},
   "source": [
    "## Adaboost"
   ]
  },
  {
   "cell_type": "code",
   "execution_count": null,
   "metadata": {},
   "outputs": [],
   "source": [
    "#X_train, X_test, y_train, y_test = train_test_split(X, y, test_size=0.3)\n",
    "\n",
    "ab = ExtraTreesClassifier()\n",
    "\n",
    "# Choose some parameter combinations to try\n",
    "parameters = {'n_estimators': [9, 4, 6],\n",
    "              'max_features': ['log2', 'sqrt','auto'], \n",
    "              'criterion': ['entropy', 'gini'],\n",
    "              'max_depth': [10, 2, 3, 5], \n",
    "              'min_samples_split': [2, 3, 5],\n",
    "              'min_samples_leaf': [5, 1,8]\n",
    "             }\n",
    "\n",
    "# Type of scoring used to compare parameter combinations\n",
    "acc_scorer = make_scorer(accuracy_score)\n",
    "\n",
    "# Run the grid search\n",
    "grid_obj = GridSearchCV(ab, parameters, n_jobs=4)#, scoring=acc_scorer)\n",
    "grid_obj = grid_obj.fit(X_train, y_train)\n",
    "\n",
    "# Set the clf to the best combination of parameters\n",
    "ab = grid_obj.best_estimator_\n",
    "\n",
    "\n",
    "ab.fit(X_train, y_train)"
   ]
  },
  {
   "cell_type": "code",
   "execution_count": null,
   "metadata": {},
   "outputs": [],
   "source": [
    "accuracy_score(y_test, ab.predict(X_test))"
   ]
  },
  {
   "cell_type": "code",
   "execution_count": null,
   "metadata": {},
   "outputs": [],
   "source": [
    "ab.predict(X_test)"
   ]
  },
  {
   "cell_type": "markdown",
   "metadata": {},
   "source": [
    "## Logistic Regression"
   ]
  },
  {
   "cell_type": "code",
   "execution_count": null,
   "metadata": {},
   "outputs": [],
   "source": [
    "logreg = LogisticRegressionCV()\n",
    "\n",
    "logreg.fit(X_train, y_train)"
   ]
  },
  {
   "cell_type": "code",
   "execution_count": null,
   "metadata": {},
   "outputs": [],
   "source": [
    "accuracy_score(y_test, logreg.predict(X_test))"
   ]
  },
  {
   "cell_type": "markdown",
   "metadata": {},
   "source": [
    "## SVM"
   ]
  },
  {
   "cell_type": "code",
   "execution_count": null,
   "metadata": {},
   "outputs": [],
   "source": [
    "clf = svm.SVC()\n",
    "clf.fit(X_train, y_train)"
   ]
  },
  {
   "cell_type": "code",
   "execution_count": null,
   "metadata": {},
   "outputs": [],
   "source": [
    "accuracy_score(y_test, clf.predict(X_test))"
   ]
  }
 ],
 "metadata": {
  "kernelspec": {
   "display_name": "Python 3",
   "language": "python",
   "name": "python3"
  },
  "language_info": {
   "codemirror_mode": {
    "name": "ipython",
    "version": 3
   },
   "file_extension": ".py",
   "mimetype": "text/x-python",
   "name": "python",
   "nbconvert_exporter": "python",
   "pygments_lexer": "ipython3",
   "version": "3.6.1"
  }
 },
 "nbformat": 4,
 "nbformat_minor": 2
}

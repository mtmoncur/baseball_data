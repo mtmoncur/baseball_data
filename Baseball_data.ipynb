{
 "cells": [
  {
   "cell_type": "code",
   "execution_count": 1,
   "metadata": {
    "collapsed": true
   },
   "outputs": [],
   "source": [
    "import pandas as pd\n",
    "import numpy as np\n",
    "from collections import Counter, defaultdict\n",
    "from matplotlib import pyplot as plt\n",
    "import gensim\n",
    "from itertools import product\n",
    "from drazin import *\n",
    "\n",
    "%matplotlib inline"
   ]
  },
  {
   "cell_type": "markdown",
   "metadata": {},
   "source": [
    "# Make team dictionary"
   ]
  },
  {
   "cell_type": "code",
   "execution_count": 2,
   "metadata": {
    "collapsed": true,
    "scrolled": true
   },
   "outputs": [],
   "source": [
    "fd = pd.read_csv('FanGraphs_Fielders.csv')\n",
    "bat = pd.read_csv('FanGraphs_Batting.csv')\n",
    "\n",
    "fd = pd.merge(fd, bat, on=['Season', 'playerid', 'Name'])\n",
    "teams = fd.Team_x.unique()"
   ]
  },
  {
   "cell_type": "code",
   "execution_count": 3,
   "metadata": {
    "collapsed": true
   },
   "outputs": [],
   "source": [
    "#dct = {k:fd[fd.Team_x==k]['Team_y'].values[1] for k in teams}"
   ]
  },
  {
   "cell_type": "markdown",
   "metadata": {},
   "source": [
    "## Create single DataFrame"
   ]
  },
  {
   "cell_type": "code",
   "execution_count": 2,
   "metadata": {
    "collapsed": true
   },
   "outputs": [],
   "source": [
    "dct = {'- - -': '- - -',\n",
    " 'ANA': 'Angels',\n",
    " 'ARI': 'Diamondbacks',\n",
    " 'ATL': 'Braves',\n",
    " 'BAL': 'Orioles',\n",
    " 'BOS': 'Red Sox',\n",
    " 'CHC': 'Cubs',\n",
    " 'CHW': 'White Sox',\n",
    " 'CIN': 'Reds',\n",
    " 'CLE': 'Indians',\n",
    " 'COL': 'Rockies',\n",
    " 'DET': 'Tigers',\n",
    " 'FLA': 'Marlins',\n",
    " 'HOU': 'Astros',\n",
    " 'KCR': 'Royals',\n",
    " 'LAA': 'Angels',\n",
    " 'LAD': 'Dodgers',\n",
    " 'MIA': 'Marlins',\n",
    " 'MIL': 'Brewers',\n",
    " 'MIN': 'Twins',\n",
    " 'MON': 'Expos',\n",
    " 'NYM': 'Mets',\n",
    " 'NYY': 'Yankees',\n",
    " 'OAK': 'Athletics',\n",
    " 'PHI': 'Phillies',\n",
    " 'PIT': 'Pirates',\n",
    " 'SDP': 'Padres',\n",
    " 'SEA': 'Mariners',\n",
    " 'SFG': 'Giants',\n",
    " 'STL': 'Cardinals',\n",
    " 'TBD': 'Devil Rays',\n",
    " 'TBR': 'Rays',\n",
    " 'TEX': 'Rangers',\n",
    " 'TOR': 'Blue Jays',\n",
    " 'WSN': 'Nationals'}"
   ]
  },
  {
   "cell_type": "code",
   "execution_count": 3,
   "metadata": {},
   "outputs": [
    {
     "name": "stdout",
     "output_type": "stream",
     "text": [
      "fd 19193 mask 19193\n",
      "fd 16667 mask 16667\n",
      "       Season           Name       Team Pos  playerid\n",
      "9061     2007   Darin Erstad  White Sox  FD        11\n",
      "18332    2015     Joe Beimel   Mariners   P       979\n",
      "1842     2007   Mike Redmond      Twins   C       538\n",
      "6984     2012  Josh Harrison    Pirates  FD      8202\n",
      "p 19195\n"
     ]
    }
   ],
   "source": [
    "years = list(range(2002,1+2016))\n",
    "\n",
    "sp = pd.read_csv('FanGraphs_Starters.csv')# ,index_col=['playerid','Season'])#;print(sp.sample(3))\n",
    "rp = pd.read_csv('FanGraphs_Relievers.csv')#,index_col=['playerid','Season'])\n",
    "fd = pd.read_csv('FanGraphs_Fielders.csv')#,index_col=['playerid','Season'])\n",
    "bat = pd.read_csv('FanGraphs_Batting.csv')#,index_col=['playerid','Season'])\n",
    "\n",
    "fd.loc[[True]*len(fd),'Team'] = [dct[k] for k in fd.Team]#;print(fd.sample(3))\n",
    "\n",
    "fd.insert(2,'Seasonid',[tuple(row) for row in fd[['playerid','Season']].values])\n",
    "\n",
    "mask1 = fd.Seasonid.isin([tuple(row) for row in sp[['playerid','Season']].values])\n",
    "print('fd',len(fd),'mask',len(mask1))\n",
    "fd.drop(fd[mask1].index,inplace=True)\n",
    "\n",
    "mask2 = fd.Seasonid.isin([tuple(row) for row in rp[['playerid','Season']].values])\n",
    "print('fd',len(fd),'mask',len(mask2))\n",
    "fd.drop(fd[mask2].index,inplace=True)\n",
    "\n",
    "fd.drop('Seasonid',axis=1,inplace=True)\n",
    "fd.loc[fd.Pos.isin(['1B','2B','3B','RF','LF','CF','SS']),'Pos'] = 'FD'\n",
    "print(fd.sample(4))\n",
    "sp.insert(2, 'Pos', 'P')\n",
    "rp.insert(2,'Pos', 'P')\n",
    "p = pd.concat([sp,rp,fd], ignore_index=True)\n",
    "p.loc[p.Team=='Devil Rays','Team'] = 'Rays'\n",
    "p.loc[p.Team=='Expos','Team'] = 'Nationals'\n",
    "#p.drop(p[p.Team=='- - -'].index,inplace=True)\n",
    "p.drop(p[p.Season<2002].index,inplace=True)\n",
    "p.reset_index()\n",
    "del(dct['MON'])\n",
    "del(dct['TBD'])\n",
    "#del(dct['- - -'])\n",
    "teams = dct.values()\n",
    "\n",
    "print('p',len(p))\n",
    "player_cnts = Counter(p.playerid)\n",
    "p.drop_duplicates(inplace=True)\n",
    "#for pid in sp['playerid']:\n",
    "#    mask = (sp['playerid']==pid)&(sp['Team']=='- - -')"
   ]
  },
  {
   "cell_type": "code",
   "execution_count": 4,
   "metadata": {
    "collapsed": true
   },
   "outputs": [],
   "source": [
    "p.insert(1, 'Change_Type', 'No Change')"
   ]
  },
  {
   "cell_type": "code",
   "execution_count": null,
   "metadata": {
    "collapsed": true
   },
   "outputs": [],
   "source": [
    "(one_player.Season==y)"
   ]
  },
  {
   "cell_type": "code",
   "execution_count": null,
   "metadata": {
    "collapsed": true,
    "scrolled": true
   },
   "outputs": [],
   "source": [
    "by_player = p.groupby('playerid')\n",
    "for g in by_player.groups:\n",
    "    one_player = by_player.get_group(g)\n",
    "    #if sum(one_player['Team']=='- - -'):\n",
    "    #    print(by_player.get_group(g).sort_values('Season'), end='\\n\\n')\n",
    "    #if g in range(100,200): break\n",
    "    \n",
    "    for y in sorted(one_player['Season'])[1:]:\n",
    "        #print(y)\n",
    "        if sum(one_player.Season==y-1)==0: continue\n",
    "        #print(pid, y)\n",
    "        #print(p[(p.playerid==pid) * (p.Season==y)].Team.values[0])\n",
    "        #print(p[(p.playerid==pid) * (p.Season==y-1)].Team.values[0])\n",
    "        #print(one_player[one_player.Season==y].index)\n",
    "        if one_player[(one_player.Season==y)].Team.values[0] != one_player[(one_player.Season==y-1)].Team.values[0]:\n",
    "            if one_player[(one_player.Season==y-1)]['Change_Type'].values[0] == 'Arrive':\n",
    "                p.loc[one_player[one_player.Season==y-1].index,'Change_Type'] = 'Arrive Leave'\n",
    "                p.loc[one_player[one_player.Season==y].index,'Change_Type'] = 'Arrive'\n",
    "\n",
    "            else:\n",
    "                p.loc[one_player[one_player.Season==y-1].index,'Change_Type'] = 'Leave'\n",
    "                p.loc[one_player[one_player.Season==y].index,'Change_Type'] = 'Arrive'"
   ]
  },
  {
   "cell_type": "code",
   "execution_count": 5,
   "metadata": {},
   "outputs": [],
   "source": [
    "p.sort_values(by=['playerid', 'Season'], inplace =True)\n",
    "prev_team = ''\n",
    "prev_pid = -1\n",
    "prev_chg = ''\n",
    "prev_ixd = 1\n",
    "for idx, (name, chg, pos, season, team, pid) in zip(p.index,p.values):\n",
    "    if pid == prev_pid:\n",
    "        if team == '- - -':\n",
    "            p.loc[idx, 'Team'] == prev_team\n",
    "            team = prev_team\n",
    "        if team != prev_team:\n",
    "            if prev_chg == 'No Change':\n",
    "                p.loc[prev_idx, 'Change_Type'] = 'Leave'\n",
    "            else:\n",
    "                p.loc[prev_idx, 'Change_Type'] = 'Arrive Leave'\n",
    "            p.loc[idx, 'Change_Type'] = 'Arrive'\n",
    "            prev_chg = 'Arrive'\n",
    "        else:\n",
    "            prev_chg = 'No Change'\n",
    "    else:\n",
    "        p.loc[idx, 'Change_Type'] = 'Arrive'\n",
    "        prev_chg = 'Arrive'\n",
    "    prev_team = team\n",
    "    prev_pid = pid\n",
    "    prev_idx = idx"
   ]
  },
  {
   "cell_type": "code",
   "execution_count": 6,
   "metadata": {
    "scrolled": true
   },
   "outputs": [
    {
     "data": {
      "text/html": [
       "<div>\n",
       "<style>\n",
       "    .dataframe thead tr:only-child th {\n",
       "        text-align: right;\n",
       "    }\n",
       "\n",
       "    .dataframe thead th {\n",
       "        text-align: left;\n",
       "    }\n",
       "\n",
       "    .dataframe tbody tr th {\n",
       "        vertical-align: top;\n",
       "    }\n",
       "</style>\n",
       "<table border=\"1\" class=\"dataframe\">\n",
       "  <thead>\n",
       "    <tr style=\"text-align: right;\">\n",
       "      <th></th>\n",
       "      <th>Name</th>\n",
       "      <th>Change_Type</th>\n",
       "      <th>Pos</th>\n",
       "      <th>Season</th>\n",
       "      <th>Team</th>\n",
       "      <th>playerid</th>\n",
       "    </tr>\n",
       "  </thead>\n",
       "  <tbody>\n",
       "    <tr>\n",
       "      <th>12749</th>\n",
       "      <td>Alfredo Amezaga</td>\n",
       "      <td>Arrive</td>\n",
       "      <td>FD</td>\n",
       "      <td>2002</td>\n",
       "      <td>Angels</td>\n",
       "      <td>1</td>\n",
       "    </tr>\n",
       "    <tr>\n",
       "      <th>11355</th>\n",
       "      <td>Alfredo Amezaga</td>\n",
       "      <td>No Change</td>\n",
       "      <td>FD</td>\n",
       "      <td>2003</td>\n",
       "      <td>Angels</td>\n",
       "      <td>1</td>\n",
       "    </tr>\n",
       "    <tr>\n",
       "      <th>7809</th>\n",
       "      <td>Alfredo Amezaga</td>\n",
       "      <td>Leave</td>\n",
       "      <td>FD</td>\n",
       "      <td>2004</td>\n",
       "      <td>Angels</td>\n",
       "      <td>1</td>\n",
       "    </tr>\n",
       "    <tr>\n",
       "      <th>6220</th>\n",
       "      <td>Alfredo Amezaga</td>\n",
       "      <td>Arrive</td>\n",
       "      <td>FD</td>\n",
       "      <td>2006</td>\n",
       "      <td>Marlins</td>\n",
       "      <td>1</td>\n",
       "    </tr>\n",
       "    <tr>\n",
       "      <th>5311</th>\n",
       "      <td>Alfredo Amezaga</td>\n",
       "      <td>No Change</td>\n",
       "      <td>FD</td>\n",
       "      <td>2007</td>\n",
       "      <td>Marlins</td>\n",
       "      <td>1</td>\n",
       "    </tr>\n",
       "    <tr>\n",
       "      <th>6957</th>\n",
       "      <td>Alfredo Amezaga</td>\n",
       "      <td>No Change</td>\n",
       "      <td>FD</td>\n",
       "      <td>2008</td>\n",
       "      <td>Marlins</td>\n",
       "      <td>1</td>\n",
       "    </tr>\n",
       "    <tr>\n",
       "      <th>8591</th>\n",
       "      <td>Alfredo Amezaga</td>\n",
       "      <td>Leave</td>\n",
       "      <td>FD</td>\n",
       "      <td>2009</td>\n",
       "      <td>Marlins</td>\n",
       "      <td>1</td>\n",
       "    </tr>\n",
       "    <tr>\n",
       "      <th>11471</th>\n",
       "      <td>Alfredo Amezaga</td>\n",
       "      <td>Arrive</td>\n",
       "      <td>FD</td>\n",
       "      <td>2011</td>\n",
       "      <td>- - -</td>\n",
       "      <td>1</td>\n",
       "    </tr>\n",
       "    <tr>\n",
       "      <th>13197</th>\n",
       "      <td>Garret Anderson</td>\n",
       "      <td>Arrive</td>\n",
       "      <td>FD</td>\n",
       "      <td>2002</td>\n",
       "      <td>Angels</td>\n",
       "      <td>2</td>\n",
       "    </tr>\n",
       "    <tr>\n",
       "      <th>6676</th>\n",
       "      <td>Garret Anderson</td>\n",
       "      <td>No Change</td>\n",
       "      <td>FD</td>\n",
       "      <td>2003</td>\n",
       "      <td>Angels</td>\n",
       "      <td>2</td>\n",
       "    </tr>\n",
       "    <tr>\n",
       "      <th>17104</th>\n",
       "      <td>Garret Anderson</td>\n",
       "      <td>No Change</td>\n",
       "      <td>FD</td>\n",
       "      <td>2004</td>\n",
       "      <td>Angels</td>\n",
       "      <td>2</td>\n",
       "    </tr>\n",
       "    <tr>\n",
       "      <th>17765</th>\n",
       "      <td>Garret Anderson</td>\n",
       "      <td>No Change</td>\n",
       "      <td>FD</td>\n",
       "      <td>2005</td>\n",
       "      <td>Angels</td>\n",
       "      <td>2</td>\n",
       "    </tr>\n",
       "    <tr>\n",
       "      <th>16924</th>\n",
       "      <td>Garret Anderson</td>\n",
       "      <td>No Change</td>\n",
       "      <td>FD</td>\n",
       "      <td>2006</td>\n",
       "      <td>Angels</td>\n",
       "      <td>2</td>\n",
       "    </tr>\n",
       "    <tr>\n",
       "      <th>16731</th>\n",
       "      <td>Garret Anderson</td>\n",
       "      <td>No Change</td>\n",
       "      <td>FD</td>\n",
       "      <td>2007</td>\n",
       "      <td>Angels</td>\n",
       "      <td>2</td>\n",
       "    </tr>\n",
       "    <tr>\n",
       "      <th>7095</th>\n",
       "      <td>Garret Anderson</td>\n",
       "      <td>Leave</td>\n",
       "      <td>FD</td>\n",
       "      <td>2008</td>\n",
       "      <td>Angels</td>\n",
       "      <td>2</td>\n",
       "    </tr>\n",
       "    <tr>\n",
       "      <th>17918</th>\n",
       "      <td>Garret Anderson</td>\n",
       "      <td>Arrive Leave</td>\n",
       "      <td>FD</td>\n",
       "      <td>2009</td>\n",
       "      <td>Braves</td>\n",
       "      <td>2</td>\n",
       "    </tr>\n",
       "    <tr>\n",
       "      <th>9407</th>\n",
       "      <td>Garret Anderson</td>\n",
       "      <td>Arrive</td>\n",
       "      <td>FD</td>\n",
       "      <td>2010</td>\n",
       "      <td>Dodgers</td>\n",
       "      <td>2</td>\n",
       "    </tr>\n",
       "    <tr>\n",
       "      <th>1572</th>\n",
       "      <td>Kevin Appier</td>\n",
       "      <td>Arrive Leave</td>\n",
       "      <td>P</td>\n",
       "      <td>2002</td>\n",
       "      <td>Angels</td>\n",
       "      <td>3</td>\n",
       "    </tr>\n",
       "    <tr>\n",
       "      <th>3239</th>\n",
       "      <td>Kevin Appier</td>\n",
       "      <td>Arrive</td>\n",
       "      <td>P</td>\n",
       "      <td>2003</td>\n",
       "      <td>- - -</td>\n",
       "      <td>3</td>\n",
       "    </tr>\n",
       "    <tr>\n",
       "      <th>11865</th>\n",
       "      <td>Larry Barnes</td>\n",
       "      <td>Arrive</td>\n",
       "      <td>FD</td>\n",
       "      <td>2003</td>\n",
       "      <td>Dodgers</td>\n",
       "      <td>4</td>\n",
       "    </tr>\n",
       "    <tr>\n",
       "      <th>7311</th>\n",
       "      <td>Jamie Burke</td>\n",
       "      <td>Arrive Leave</td>\n",
       "      <td>C</td>\n",
       "      <td>2004</td>\n",
       "      <td>White Sox</td>\n",
       "      <td>6</td>\n",
       "    </tr>\n",
       "    <tr>\n",
       "      <th>13810</th>\n",
       "      <td>Jamie Burke</td>\n",
       "      <td>Arrive</td>\n",
       "      <td>C</td>\n",
       "      <td>2007</td>\n",
       "      <td>Mariners</td>\n",
       "      <td>6</td>\n",
       "    </tr>\n",
       "    <tr>\n",
       "      <th>11306</th>\n",
       "      <td>Jamie Burke</td>\n",
       "      <td>Leave</td>\n",
       "      <td>C</td>\n",
       "      <td>2008</td>\n",
       "      <td>Mariners</td>\n",
       "      <td>6</td>\n",
       "    </tr>\n",
       "    <tr>\n",
       "      <th>9332</th>\n",
       "      <td>Jamie Burke</td>\n",
       "      <td>Arrive</td>\n",
       "      <td>C</td>\n",
       "      <td>2009</td>\n",
       "      <td>- - -</td>\n",
       "      <td>6</td>\n",
       "    </tr>\n",
       "    <tr>\n",
       "      <th>18057</th>\n",
       "      <td>Mickey Callaway</td>\n",
       "      <td>Arrive Leave</td>\n",
       "      <td>P</td>\n",
       "      <td>2002</td>\n",
       "      <td>Angels</td>\n",
       "      <td>7</td>\n",
       "    </tr>\n",
       "    <tr>\n",
       "      <th>18207</th>\n",
       "      <td>Mickey Callaway</td>\n",
       "      <td>Arrive</td>\n",
       "      <td>P</td>\n",
       "      <td>2003</td>\n",
       "      <td>- - -</td>\n",
       "      <td>7</td>\n",
       "    </tr>\n",
       "    <tr>\n",
       "      <th>5666</th>\n",
       "      <td>David Eckstein</td>\n",
       "      <td>Arrive</td>\n",
       "      <td>FD</td>\n",
       "      <td>2002</td>\n",
       "      <td>Angels</td>\n",
       "      <td>10</td>\n",
       "    </tr>\n",
       "    <tr>\n",
       "      <th>6014</th>\n",
       "      <td>David Eckstein</td>\n",
       "      <td>No Change</td>\n",
       "      <td>FD</td>\n",
       "      <td>2003</td>\n",
       "      <td>Angels</td>\n",
       "      <td>10</td>\n",
       "    </tr>\n",
       "    <tr>\n",
       "      <th>5840</th>\n",
       "      <td>David Eckstein</td>\n",
       "      <td>Leave</td>\n",
       "      <td>FD</td>\n",
       "      <td>2004</td>\n",
       "      <td>Angels</td>\n",
       "      <td>10</td>\n",
       "    </tr>\n",
       "    <tr>\n",
       "      <th>14277</th>\n",
       "      <td>David Eckstein</td>\n",
       "      <td>Arrive</td>\n",
       "      <td>FD</td>\n",
       "      <td>2005</td>\n",
       "      <td>Cardinals</td>\n",
       "      <td>10</td>\n",
       "    </tr>\n",
       "    <tr>\n",
       "      <th>...</th>\n",
       "      <td>...</td>\n",
       "      <td>...</td>\n",
       "      <td>...</td>\n",
       "      <td>...</td>\n",
       "      <td>...</td>\n",
       "      <td>...</td>\n",
       "    </tr>\n",
       "    <tr>\n",
       "      <th>20510</th>\n",
       "      <td>Reynaldo Lopez</td>\n",
       "      <td>Arrive</td>\n",
       "      <td>P</td>\n",
       "      <td>2016</td>\n",
       "      <td>Nationals</td>\n",
       "      <td>16400</td>\n",
       "    </tr>\n",
       "    <tr>\n",
       "      <th>13113</th>\n",
       "      <td>Kyle Schwarber</td>\n",
       "      <td>Arrive</td>\n",
       "      <td>C</td>\n",
       "      <td>2015</td>\n",
       "      <td>Cubs</td>\n",
       "      <td>16478</td>\n",
       "    </tr>\n",
       "    <tr>\n",
       "      <th>15011</th>\n",
       "      <td>Kyle Schwarber</td>\n",
       "      <td>No Change</td>\n",
       "      <td>FD</td>\n",
       "      <td>2015</td>\n",
       "      <td>Cubs</td>\n",
       "      <td>16478</td>\n",
       "    </tr>\n",
       "    <tr>\n",
       "      <th>11040</th>\n",
       "      <td>Colin Moran</td>\n",
       "      <td>Arrive</td>\n",
       "      <td>FD</td>\n",
       "      <td>2016</td>\n",
       "      <td>Astros</td>\n",
       "      <td>16909</td>\n",
       "    </tr>\n",
       "    <tr>\n",
       "      <th>20511</th>\n",
       "      <td>Luke Weaver</td>\n",
       "      <td>Arrive</td>\n",
       "      <td>P</td>\n",
       "      <td>2016</td>\n",
       "      <td>Cardinals</td>\n",
       "      <td>16918</td>\n",
       "    </tr>\n",
       "    <tr>\n",
       "      <th>1673</th>\n",
       "      <td>Daniel Mengden</td>\n",
       "      <td>Arrive</td>\n",
       "      <td>P</td>\n",
       "      <td>2016</td>\n",
       "      <td>Athletics</td>\n",
       "      <td>16980</td>\n",
       "    </tr>\n",
       "    <tr>\n",
       "      <th>8188</th>\n",
       "      <td>Rusney Castillo</td>\n",
       "      <td>Arrive</td>\n",
       "      <td>FD</td>\n",
       "      <td>2014</td>\n",
       "      <td>Red Sox</td>\n",
       "      <td>17016</td>\n",
       "    </tr>\n",
       "    <tr>\n",
       "      <th>6910</th>\n",
       "      <td>Rusney Castillo</td>\n",
       "      <td>No Change</td>\n",
       "      <td>FD</td>\n",
       "      <td>2015</td>\n",
       "      <td>Red Sox</td>\n",
       "      <td>17016</td>\n",
       "    </tr>\n",
       "    <tr>\n",
       "      <th>559</th>\n",
       "      <td>Raisel Iglesias</td>\n",
       "      <td>Arrive</td>\n",
       "      <td>P</td>\n",
       "      <td>2015</td>\n",
       "      <td>Reds</td>\n",
       "      <td>17130</td>\n",
       "    </tr>\n",
       "    <tr>\n",
       "      <th>20512</th>\n",
       "      <td>Raisel Iglesias</td>\n",
       "      <td>No Change</td>\n",
       "      <td>P</td>\n",
       "      <td>2016</td>\n",
       "      <td>Reds</td>\n",
       "      <td>17130</td>\n",
       "    </tr>\n",
       "    <tr>\n",
       "      <th>15223</th>\n",
       "      <td>Yasmany Tomas</td>\n",
       "      <td>Arrive</td>\n",
       "      <td>FD</td>\n",
       "      <td>2015</td>\n",
       "      <td>Diamondbacks</td>\n",
       "      <td>17171</td>\n",
       "    </tr>\n",
       "    <tr>\n",
       "      <th>17376</th>\n",
       "      <td>Yasmany Tomas</td>\n",
       "      <td>No Change</td>\n",
       "      <td>FD</td>\n",
       "      <td>2016</td>\n",
       "      <td>Diamondbacks</td>\n",
       "      <td>17171</td>\n",
       "    </tr>\n",
       "    <tr>\n",
       "      <th>7925</th>\n",
       "      <td>Jung Ho Kang</td>\n",
       "      <td>Arrive</td>\n",
       "      <td>FD</td>\n",
       "      <td>2015</td>\n",
       "      <td>Pirates</td>\n",
       "      <td>17182</td>\n",
       "    </tr>\n",
       "    <tr>\n",
       "      <th>14466</th>\n",
       "      <td>Jung Ho Kang</td>\n",
       "      <td>No Change</td>\n",
       "      <td>FD</td>\n",
       "      <td>2016</td>\n",
       "      <td>Pirates</td>\n",
       "      <td>17182</td>\n",
       "    </tr>\n",
       "    <tr>\n",
       "      <th>9693</th>\n",
       "      <td>Yoan Moncada</td>\n",
       "      <td>Arrive</td>\n",
       "      <td>FD</td>\n",
       "      <td>2016</td>\n",
       "      <td>Red Sox</td>\n",
       "      <td>17232</td>\n",
       "    </tr>\n",
       "    <tr>\n",
       "      <th>20513</th>\n",
       "      <td>Brian Ellington</td>\n",
       "      <td>Arrive</td>\n",
       "      <td>P</td>\n",
       "      <td>2016</td>\n",
       "      <td>Marlins</td>\n",
       "      <td>17233</td>\n",
       "    </tr>\n",
       "    <tr>\n",
       "      <th>20514</th>\n",
       "      <td>Jeff Hoffman</td>\n",
       "      <td>Arrive</td>\n",
       "      <td>P</td>\n",
       "      <td>2016</td>\n",
       "      <td>Rockies</td>\n",
       "      <td>17432</td>\n",
       "    </tr>\n",
       "    <tr>\n",
       "      <th>20515</th>\n",
       "      <td>Ariel Miranda</td>\n",
       "      <td>Arrive</td>\n",
       "      <td>P</td>\n",
       "      <td>2016</td>\n",
       "      <td>- - -</td>\n",
       "      <td>17526</td>\n",
       "    </tr>\n",
       "    <tr>\n",
       "      <th>15881</th>\n",
       "      <td>Hector Olivera</td>\n",
       "      <td>Arrive</td>\n",
       "      <td>FD</td>\n",
       "      <td>2015</td>\n",
       "      <td>Braves</td>\n",
       "      <td>17528</td>\n",
       "    </tr>\n",
       "    <tr>\n",
       "      <th>11404</th>\n",
       "      <td>Hector Olivera</td>\n",
       "      <td>No Change</td>\n",
       "      <td>FD</td>\n",
       "      <td>2016</td>\n",
       "      <td>Braves</td>\n",
       "      <td>17528</td>\n",
       "    </tr>\n",
       "    <tr>\n",
       "      <th>11525</th>\n",
       "      <td>Alex Bregman</td>\n",
       "      <td>Arrive</td>\n",
       "      <td>FD</td>\n",
       "      <td>2016</td>\n",
       "      <td>Astros</td>\n",
       "      <td>17678</td>\n",
       "    </tr>\n",
       "    <tr>\n",
       "      <th>12153</th>\n",
       "      <td>Andrew Benintendi</td>\n",
       "      <td>Arrive</td>\n",
       "      <td>FD</td>\n",
       "      <td>2016</td>\n",
       "      <td>Red Sox</td>\n",
       "      <td>17901</td>\n",
       "    </tr>\n",
       "    <tr>\n",
       "      <th>9392</th>\n",
       "      <td>Dansby Swanson</td>\n",
       "      <td>Arrive</td>\n",
       "      <td>FD</td>\n",
       "      <td>2016</td>\n",
       "      <td>Braves</td>\n",
       "      <td>18314</td>\n",
       "    </tr>\n",
       "    <tr>\n",
       "      <th>10267</th>\n",
       "      <td>Byung-ho Park</td>\n",
       "      <td>Arrive</td>\n",
       "      <td>FD</td>\n",
       "      <td>2016</td>\n",
       "      <td>Twins</td>\n",
       "      <td>18497</td>\n",
       "    </tr>\n",
       "    <tr>\n",
       "      <th>561</th>\n",
       "      <td>Kenta Maeda</td>\n",
       "      <td>Arrive</td>\n",
       "      <td>P</td>\n",
       "      <td>2016</td>\n",
       "      <td>Dodgers</td>\n",
       "      <td>18498</td>\n",
       "    </tr>\n",
       "    <tr>\n",
       "      <th>17583</th>\n",
       "      <td>Hyun Soo Kim</td>\n",
       "      <td>Arrive</td>\n",
       "      <td>FD</td>\n",
       "      <td>2016</td>\n",
       "      <td>Orioles</td>\n",
       "      <td>18718</td>\n",
       "    </tr>\n",
       "    <tr>\n",
       "      <th>3431</th>\n",
       "      <td>Seung Hwan Oh</td>\n",
       "      <td>Arrive</td>\n",
       "      <td>P</td>\n",
       "      <td>2016</td>\n",
       "      <td>Cardinals</td>\n",
       "      <td>18719</td>\n",
       "    </tr>\n",
       "    <tr>\n",
       "      <th>12007</th>\n",
       "      <td>Guillermo Heredia</td>\n",
       "      <td>Arrive</td>\n",
       "      <td>FD</td>\n",
       "      <td>2016</td>\n",
       "      <td>Mariners</td>\n",
       "      <td>18721</td>\n",
       "    </tr>\n",
       "    <tr>\n",
       "      <th>15967</th>\n",
       "      <td>Dae-Ho Lee</td>\n",
       "      <td>Arrive</td>\n",
       "      <td>FD</td>\n",
       "      <td>2016</td>\n",
       "      <td>Mariners</td>\n",
       "      <td>18722</td>\n",
       "    </tr>\n",
       "    <tr>\n",
       "      <th>9564</th>\n",
       "      <td>Yulieski Gurriel</td>\n",
       "      <td>Arrive</td>\n",
       "      <td>FD</td>\n",
       "      <td>2016</td>\n",
       "      <td>Astros</td>\n",
       "      <td>19198</td>\n",
       "    </tr>\n",
       "  </tbody>\n",
       "</table>\n",
       "<p>14907 rows × 6 columns</p>\n",
       "</div>"
      ],
      "text/plain": [
       "                    Name   Change_Type Pos  Season          Team  playerid\n",
       "12749    Alfredo Amezaga        Arrive  FD    2002        Angels         1\n",
       "11355    Alfredo Amezaga     No Change  FD    2003        Angels         1\n",
       "7809     Alfredo Amezaga         Leave  FD    2004        Angels         1\n",
       "6220     Alfredo Amezaga        Arrive  FD    2006       Marlins         1\n",
       "5311     Alfredo Amezaga     No Change  FD    2007       Marlins         1\n",
       "6957     Alfredo Amezaga     No Change  FD    2008       Marlins         1\n",
       "8591     Alfredo Amezaga         Leave  FD    2009       Marlins         1\n",
       "11471    Alfredo Amezaga        Arrive  FD    2011         - - -         1\n",
       "13197    Garret Anderson        Arrive  FD    2002        Angels         2\n",
       "6676     Garret Anderson     No Change  FD    2003        Angels         2\n",
       "17104    Garret Anderson     No Change  FD    2004        Angels         2\n",
       "17765    Garret Anderson     No Change  FD    2005        Angels         2\n",
       "16924    Garret Anderson     No Change  FD    2006        Angels         2\n",
       "16731    Garret Anderson     No Change  FD    2007        Angels         2\n",
       "7095     Garret Anderson         Leave  FD    2008        Angels         2\n",
       "17918    Garret Anderson  Arrive Leave  FD    2009        Braves         2\n",
       "9407     Garret Anderson        Arrive  FD    2010       Dodgers         2\n",
       "1572        Kevin Appier  Arrive Leave   P    2002        Angels         3\n",
       "3239        Kevin Appier        Arrive   P    2003         - - -         3\n",
       "11865       Larry Barnes        Arrive  FD    2003       Dodgers         4\n",
       "7311         Jamie Burke  Arrive Leave   C    2004     White Sox         6\n",
       "13810        Jamie Burke        Arrive   C    2007      Mariners         6\n",
       "11306        Jamie Burke         Leave   C    2008      Mariners         6\n",
       "9332         Jamie Burke        Arrive   C    2009         - - -         6\n",
       "18057    Mickey Callaway  Arrive Leave   P    2002        Angels         7\n",
       "18207    Mickey Callaway        Arrive   P    2003         - - -         7\n",
       "5666      David Eckstein        Arrive  FD    2002        Angels        10\n",
       "6014      David Eckstein     No Change  FD    2003        Angels        10\n",
       "5840      David Eckstein         Leave  FD    2004        Angels        10\n",
       "14277     David Eckstein        Arrive  FD    2005     Cardinals        10\n",
       "...                  ...           ...  ..     ...           ...       ...\n",
       "20510     Reynaldo Lopez        Arrive   P    2016     Nationals     16400\n",
       "13113     Kyle Schwarber        Arrive   C    2015          Cubs     16478\n",
       "15011     Kyle Schwarber     No Change  FD    2015          Cubs     16478\n",
       "11040        Colin Moran        Arrive  FD    2016        Astros     16909\n",
       "20511        Luke Weaver        Arrive   P    2016     Cardinals     16918\n",
       "1673      Daniel Mengden        Arrive   P    2016     Athletics     16980\n",
       "8188     Rusney Castillo        Arrive  FD    2014       Red Sox     17016\n",
       "6910     Rusney Castillo     No Change  FD    2015       Red Sox     17016\n",
       "559      Raisel Iglesias        Arrive   P    2015          Reds     17130\n",
       "20512    Raisel Iglesias     No Change   P    2016          Reds     17130\n",
       "15223      Yasmany Tomas        Arrive  FD    2015  Diamondbacks     17171\n",
       "17376      Yasmany Tomas     No Change  FD    2016  Diamondbacks     17171\n",
       "7925        Jung Ho Kang        Arrive  FD    2015       Pirates     17182\n",
       "14466       Jung Ho Kang     No Change  FD    2016       Pirates     17182\n",
       "9693        Yoan Moncada        Arrive  FD    2016       Red Sox     17232\n",
       "20513    Brian Ellington        Arrive   P    2016       Marlins     17233\n",
       "20514       Jeff Hoffman        Arrive   P    2016       Rockies     17432\n",
       "20515      Ariel Miranda        Arrive   P    2016         - - -     17526\n",
       "15881     Hector Olivera        Arrive  FD    2015        Braves     17528\n",
       "11404     Hector Olivera     No Change  FD    2016        Braves     17528\n",
       "11525       Alex Bregman        Arrive  FD    2016        Astros     17678\n",
       "12153  Andrew Benintendi        Arrive  FD    2016       Red Sox     17901\n",
       "9392      Dansby Swanson        Arrive  FD    2016        Braves     18314\n",
       "10267      Byung-ho Park        Arrive  FD    2016         Twins     18497\n",
       "561          Kenta Maeda        Arrive   P    2016       Dodgers     18498\n",
       "17583       Hyun Soo Kim        Arrive  FD    2016       Orioles     18718\n",
       "3431       Seung Hwan Oh        Arrive   P    2016     Cardinals     18719\n",
       "12007  Guillermo Heredia        Arrive  FD    2016      Mariners     18721\n",
       "15967         Dae-Ho Lee        Arrive  FD    2016      Mariners     18722\n",
       "9564    Yulieski Gurriel        Arrive  FD    2016        Astros     19198\n",
       "\n",
       "[14907 rows x 6 columns]"
      ]
     },
     "execution_count": 6,
     "metadata": {},
     "output_type": "execute_result"
    }
   ],
   "source": [
    "p"
   ]
  },
  {
   "cell_type": "code",
   "execution_count": null,
   "metadata": {
    "collapsed": true,
    "scrolled": true
   },
   "outputs": [],
   "source": [
    "p[p.Change_Type!='Arrive Leave'].sort_values(by=['playerid', 'Season'])"
   ]
  },
  {
   "cell_type": "code",
   "execution_count": 7,
   "metadata": {
    "collapsed": true
   },
   "outputs": [],
   "source": [
    "p.to_csv('combined_cleaned.csv')"
   ]
  },
  {
   "cell_type": "markdown",
   "metadata": {},
   "source": [
    "## Analyze/Visualize Data"
   ]
  },
  {
   "cell_type": "code",
   "execution_count": 5,
   "metadata": {},
   "outputs": [
    {
     "name": "stdout",
     "output_type": "stream",
     "text": [
      "P count: 5686\n"
     ]
    },
    {
     "data": {
      "text/html": [
       "<div>\n",
       "<style>\n",
       "    .dataframe thead tr:only-child th {\n",
       "        text-align: right;\n",
       "    }\n",
       "\n",
       "    .dataframe thead th {\n",
       "        text-align: left;\n",
       "    }\n",
       "\n",
       "    .dataframe tbody tr th {\n",
       "        vertical-align: top;\n",
       "    }\n",
       "</style>\n",
       "<table border=\"1\" class=\"dataframe\">\n",
       "  <thead>\n",
       "    <tr style=\"text-align: right;\">\n",
       "      <th></th>\n",
       "      <th>Name</th>\n",
       "      <th>Pos</th>\n",
       "      <th>Season</th>\n",
       "      <th>Team</th>\n",
       "      <th>playerid</th>\n",
       "    </tr>\n",
       "  </thead>\n",
       "  <tbody>\n",
       "    <tr>\n",
       "      <th>2988</th>\n",
       "      <td>Doug Waechter</td>\n",
       "      <td>P</td>\n",
       "      <td>2005</td>\n",
       "      <td>Rays</td>\n",
       "      <td>1814</td>\n",
       "    </tr>\n",
       "    <tr>\n",
       "      <th>3369</th>\n",
       "      <td>Doug Waechter</td>\n",
       "      <td>P</td>\n",
       "      <td>2004</td>\n",
       "      <td>Rays</td>\n",
       "      <td>1814</td>\n",
       "    </tr>\n",
       "    <tr>\n",
       "      <th>4650</th>\n",
       "      <td>Doug Waechter</td>\n",
       "      <td>P</td>\n",
       "      <td>2008</td>\n",
       "      <td>Marlins</td>\n",
       "      <td>1814</td>\n",
       "    </tr>\n",
       "    <tr>\n",
       "      <th>18358</th>\n",
       "      <td>Doug Waechter</td>\n",
       "      <td>P</td>\n",
       "      <td>2003</td>\n",
       "      <td>Rays</td>\n",
       "      <td>1814</td>\n",
       "    </tr>\n",
       "    <tr>\n",
       "      <th>18739</th>\n",
       "      <td>Doug Waechter</td>\n",
       "      <td>P</td>\n",
       "      <td>2006</td>\n",
       "      <td>Rays</td>\n",
       "      <td>1814</td>\n",
       "    </tr>\n",
       "  </tbody>\n",
       "</table>\n",
       "</div>"
      ],
      "text/plain": [
       "                Name Pos  Season     Team  playerid\n",
       "2988   Doug Waechter   P    2005     Rays      1814\n",
       "3369   Doug Waechter   P    2004     Rays      1814\n",
       "4650   Doug Waechter   P    2008  Marlins      1814\n",
       "18358  Doug Waechter   P    2003     Rays      1814\n",
       "18739  Doug Waechter   P    2006     Rays      1814"
      ]
     },
     "execution_count": 5,
     "metadata": {},
     "output_type": "execute_result"
    }
   ],
   "source": [
    "print('P count:',sum(p.Pos=='P'))\n",
    "p[p.Name=='Doug Waechter']"
   ]
  },
  {
   "cell_type": "code",
   "execution_count": 6,
   "metadata": {},
   "outputs": [
    {
     "name": "stdout",
     "output_type": "stream",
     "text": [
      "Year|Player Count\n",
      "2002 878\n",
      "2003 867\n",
      "2004 895\n",
      "2005 872\n",
      "2006 850\n",
      "2007 906\n",
      "2008 912\n",
      "2009 874\n",
      "2010 899\n",
      "2011 905\n",
      "2012 911\n",
      "2013 928\n",
      "2014 918\n",
      "2015 920\n",
      "2016 915\n"
     ]
    }
   ],
   "source": [
    "print('Year|Player Count')\n",
    "for i in years:\n",
    "    print(i,len(p[p.Season==i]['playerid'].unique()))"
   ]
  },
  {
   "cell_type": "code",
   "execution_count": 7,
   "metadata": {
    "collapsed": true
   },
   "outputs": [],
   "source": [
    "teams = p.groupby(['Team','Season'])"
   ]
  },
  {
   "cell_type": "code",
   "execution_count": 8,
   "metadata": {},
   "outputs": [
    {
     "name": "stdout",
     "output_type": "stream",
     "text": [
      "  Year-->\t 02  03  04  05  06  07  08  09  10  11  12  13  14  15  16\n",
      "Mets         \t 38  44  44  40  36  40  41  48  46  44  45  47  44  42  51 \n",
      "Nationals    \t 28  39  45  42  39  44  49  41  41  40  45  36  42  39  38 \n",
      "Cubs         \t 39  32  32  31  35  41  35  40  35  45  36  36  46  46  40 \n",
      "Marlins      \t 31  33  32  34  36  36  40  39  36  37  40  48  38  41  41 \n",
      "Yankees      \t 35  27  31  35  36  32  41  35  35  37  38  43  40  39  36 \n",
      "Giants       \t 36  35  37  33  34  43  48  42  37  48  37  46  41  42  39 \n",
      "White Sox    \t 37  27  36  33  31  42  33  31  35  31  29  35  36  39  32 \n",
      "Pirates      \t 39  40  37  43  32  39  36  37  39  39  38  43  39  38  39 \n",
      "Phillies     \t 35  36  37  29  31  32  31  34  37  37  42  40  36  41  41 \n",
      "Reds         \t 35  47  43  41  33  37  45  40  37  38  38  32  42  44  45 \n",
      "Royals       \t 42  43  48  47  39  45  41  40  35  34  38  31  32  31  38 \n",
      "Brewers      \t 35  33  35  33  34  35  30  33  32  33  35  40  38  35  42 \n",
      "Mariners     \t 35  33  39  38  33  34  40  36  39  41  42  44  40  37  34 \n",
      "Twins        \t 39  40  43  46  39  38  35  38  39  52  42  50  39  43  40 \n",
      "Braves       \t 37  31  39  35  35  35  41  38  34  38  38  43  32  32  43 \n",
      "Rangers      \t 44  39  40  34  33  47  47  39  37  37  38  40  51  39  43 \n",
      "Indians      \t 43  44  38  30  32  39  33  41  43  44  41  34  41  39  35 \n",
      "Padres       \t 42  38  36  40  34  31  36  40  42  48  44  48  47  41  47 \n",
      "Red Sox      \t 33  31  36  31  42  33  34  31  44  33  42  37  43  44  36 \n",
      "Blue Jays    \t 40  34  41  37  38  36  40  35  39  36  41  44  48  37  32 \n",
      "Diamondbacks \t 36  43  44  34  35  38  39  44  32  36  31  43  42  36  42 \n",
      "Cardinals    \t 40  41  40  40  36  43  43  41  36  39  39  35  36  45  48 \n",
      "Rays         \t 46  45  43  39  42  37  39  39  36  42  46  36  40  47  44 \n",
      "Astros       \t 35  36  37  41  40  38  38  38  39  37  48  44  41  43  46 \n",
      "Angels       \t 38  41  40  38  44  41  40  39  42  39  36  39  36  39  46 \n",
      "Dodgers      \t 31  43  33  46  41  37  40  30  40  44  42  40  43  40  45 \n",
      "Marlins      \t 31  33  32  34  36  36  40  39  36  37  40  48  38  41  41 \n",
      "Rockies      \t 30  37  49  42  35  37  42  35  41  47  52  44  45  44  44 \n",
      "Orioles      \t 44  41  48  40  38  38  35  37  40  41  48  34  37  47  36 \n",
      "Athletics    \t 35  30  34  31  32  39  47  40  40  39  47  38  36  35  42 \n",
      "Angels       \t 38  41  40  38  44  41  40  39  42  39  36  39  36  39  46 \n",
      "Tigers       \t 42  42  40  36  35  42  44  38  40  38  37  34  34  38  46 \n"
     ]
    }
   ],
   "source": [
    "print('  Year-->\\t 02  03  04  05  06  07  08  09  10  11  12  13  14  15  16')\n",
    "for t in dct.values():\n",
    "    print('{:13}\\t'.format(t),end='')\n",
    "    for y in years:\n",
    "        #print((t,y))\n",
    "        try:\n",
    "            print('{:3}'.format(len(teams.get_group((t,y)))),end=' ')\n",
    "        except:\n",
    "            print(' **',end=' ')\n",
    "    print()"
   ]
  },
  {
   "cell_type": "code",
   "execution_count": 9,
   "metadata": {
    "scrolled": true
   },
   "outputs": [
    {
     "data": {
      "image/png": "[encoded data removed]",
      "text/plain": [
       "<matplotlib.figure.Figure at 0x7f4204e81358>"
      ]
     },
     "metadata": {},
     "output_type": "display_data"
    },
    {
     "data": {
      "image/png": "[encoded data removed]",
      "text/plain": [
       "<matplotlib.figure.Figure at 0x7f4204edca90>"
      ]
     },
     "metadata": {},
     "output_type": "display_data"
    },
    {
     "data": {
      "image/png": "[encoded data removed]",
      "text/plain": [
       "<matplotlib.figure.Figure at 0x7f4204eb3f28>"
      ]
     },
     "metadata": {},
     "output_type": "display_data"
    },
    {
     "data": {
      "image/png": "[encoded data removed]",
      "text/plain": [
       "<matplotlib.figure.Figure at 0x7f4204eb3400>"
      ]
     },
     "metadata": {},
     "output_type": "display_data"
    },
    {
     "data": {
      "image/png": "[encoded data removed]",
      "text/plain": [
       "<matplotlib.figure.Figure at 0x7f4204d66e10>"
      ]
     },
     "metadata": {},
     "output_type": "display_data"
    },
    {
     "data": {
      "image/png": "[encoded data removed]",
      "text/plain": [
       "<matplotlib.figure.Figure at 0x7f4204edc128>"
      ]
     },
     "metadata": {},
     "output_type": "display_data"
    },
    {
     "data": {
      "image/png": "[encoded data removed]",
      "text/plain": [
       "<matplotlib.figure.Figure at 0x7f4202b2de10>"
      ]
     },
     "metadata": {},
     "output_type": "display_data"
    },
    {
     "data": {
      "image/png": "[encoded data removed]",
      "text/plain": [
       "<matplotlib.figure.Figure at 0x7f4204d0b860>"
      ]
     },
     "metadata": {},
     "output_type": "display_data"
    },
    {
     "data": {
      "image/png": "[encoded data removed]",
      "text/plain": [
       "<matplotlib.figure.Figure at 0x7f4202b9fac8>"
      ]
     },
     "metadata": {},
     "output_type": "display_data"
    },
    {
     "data": {
      "image/png": "[encoded data removed]",
      "text/plain": [
       "<matplotlib.figure.Figure at 0x7f4204e74c88>"
      ]
     },
     "metadata": {},
     "output_type": "display_data"
    },
    {
     "data": {
      "image/png": "[encoded data removed]",
      "text/plain": [
       "<matplotlib.figure.Figure at 0x7f4204eadc50>"
      ]
     },
     "metadata": {},
     "output_type": "display_data"
    },
    {
     "data": {
      "image/png": "[encoded data removed]",
      "text/plain": [
       "<matplotlib.figure.Figure at 0x7f4204d77208>"
      ]
     },
     "metadata": {},
     "output_type": "display_data"
    },
    {
     "data": {
      "image/png": "[encoded data removed]",
      "text/plain": [
       "<matplotlib.figure.Figure at 0x7f4204e569b0>"
      ]
     },
     "metadata": {},
     "output_type": "display_data"
    },
    {
     "data": {
      "image/png": "[encoded data removed]",
      "text/plain": [
       "<matplotlib.figure.Figure at 0x7f4202b39320>"
      ]
     },
     "metadata": {},
     "output_type": "display_data"
    }
   ],
   "source": [
    "by_year = p.groupby(['Season'])\n",
    "#print(by_year.groups)\n",
    "prev = Counter(by_year.get_group(years[0]).Pos)\n",
    "for i in years[1:]:\n",
    "    c = Counter(by_year.get_group(i).Pos)\n",
    "    dif = c.copy()\n",
    "    dif.subtract(prev)\n",
    "    prev = c\n",
    "    plt.bar(range(len(dif.values())),dif.values())\n",
    "    plt.xticks(range(len(dif)),dif)\n",
    "    plt.show()"
   ]
  },
  {
   "cell_type": "code",
   "execution_count": 10,
   "metadata": {
    "scrolled": false
   },
   "outputs": [
    {
     "name": "stdout",
     "output_type": "stream",
     "text": [
      "Pos                  C  FD   P\n",
      "Season Team                   \n",
      "2002   Angels        2  23  13\n",
      "       Astros        2  20  13\n",
      "       Athletics     2  21  12\n",
      "       Blue Jays     4  22  14\n",
      "       Braves        3  21  13\n",
      "       Brewers       2  21  12\n",
      "       Cardinals     3  23  14\n",
      "       Cubs          3  24  12\n",
      "       Diamondbacks  3  22  11\n",
      "       Dodgers       2  19  10\n",
      "       Giants        2  23  11\n",
      "       Indians       4  27  12\n",
      "       Mariners      2  22  11\n",
      "       Marlins       3  15  13\n",
      "       Mets          3  25  10\n",
      "       Nationals     2  15  11\n",
      "       Orioles       2  28  14\n",
      "       Padres        4  25  13\n",
      "       Phillies      3  19  13\n",
      "       Pirates       3  23  13\n",
      "       Rangers       4  26  14\n",
      "       Rays          3  30  13\n",
      "       Red Sox       2  19  12\n",
      "       Reds          3  20  12\n",
      "       Rockies       3  16  11\n",
      "       Royals        3  26  13\n",
      "       Tigers        4  24  14\n",
      "       Twins         2  23  14\n",
      "       White Sox     3  22  12\n",
      "       Yankees       3  21  11\n",
      "2003   Angels        4  27  10\n",
      "       Astros        2  21  13\n",
      "       Athletics     3  16  11\n",
      "       Blue Jays     3  19  12\n",
      "       Braves        3  15  13\n",
      "       Brewers       2  19  12\n",
      "       Cardinals     4  26  11\n",
      "       Cubs          2  18  12\n",
      "       Diamondbacks  3  25  15\n",
      "       Dodgers       3  28  12\n",
      "       Giants        3  20  12\n",
      "       Indians       3  27  14\n",
      "       Mariners      3  20  10\n",
      "       Marlins       3  19  11\n",
      "       Mets          3  28  13\n",
      "       Nationals     3  24  12\n",
      "       Orioles       3  24  14\n",
      "       Padres        5  21  12\n",
      "       Phillies      2  22  12\n",
      "       Pirates       2  26  12\n",
      "       Rangers       4  21  14\n",
      "       Rays          2  27  16\n",
      "       Red Sox       2  20   9\n",
      "       Reds          2  34  11\n",
      "       Rockies       2  21  14\n",
      "       Royals        2  26  15\n",
      "       Tigers        3  26  13\n",
      "       Twins         2  27  11\n",
      "       White Sox     2  16   9\n",
      "       Yankees       2  16   9\n",
      "2004   Angels        3  26  11\n",
      "       Astros        2  21  14\n",
      "       Athletics     2  20  12\n",
      "       Blue Jays     4  24  13\n",
      "       Braves        2  25  12\n",
      "       Brewers       3  20  12\n",
      "       Cardinals     3  25  12\n",
      "       Cubs          2  18  12\n",
      "       Diamondbacks  4  27  13\n",
      "       Dodgers       1  21  11\n",
      "       Giants        2  22  13\n",
      "       Indians       3  23  12\n",
      "       Mariners      1  24  14\n",
      "       Marlins       3  18  11\n",
      "       Mets          3  30  11\n",
      "       Nationals     2  30  13\n",
      "       Orioles       4  28  16\n",
      "       Padres        3  22  11\n",
      "       Phillies      2  22  13\n",
      "       Pirates       2  23  12\n",
      "       Rangers       2  24  14\n",
      "       Rays          2  27  14\n",
      "       Red Sox       2  25   9\n",
      "       Reds          3  29  11\n",
      "       Rockies       3  31  15\n",
      "       Royals        4  30  14\n",
      "       Tigers        2  26  12\n",
      "       Twins         4  27  12\n",
      "       White Sox     2  23  11\n",
      "       Yankees       2  18  11\n",
      "2005   Angels        3  23  12\n",
      "       Astros        3  27  11\n",
      "       Athletics     2  18  11\n",
      "       Blue Jays     3  20  14\n",
      "       Braves        4  19  12\n",
      "       Brewers       2  17  14\n",
      "       Cardinals     3  25  12\n",
      "       Cubs          2  18  11\n",
      "       Diamondbacks  3  19  12\n",
      "       Dodgers       4  31  11\n",
      "...                 ..  ..  ..\n",
      "2013   Rangers       2  24  14\n",
      "       Rays          2  22  12\n",
      "       Red Sox       3  21  13\n",
      "       Reds          3  16  13\n",
      "       Rockies       3  24  17\n",
      "       Royals        3  16  12\n",
      "       Tigers        3  20  11\n",
      "       Twins         5  27  18\n",
      "       White Sox     4  20  11\n",
      "       Yankees       4  26  13\n",
      "2014   Angels        2  23  11\n",
      "       Astros        3  28  10\n",
      "       Athletics     3  24   9\n",
      "       Blue Jays     2  33  13\n",
      "       Braves        3  17  12\n",
      "       Brewers       2  24  12\n",
      "       Cardinals     2  19  15\n",
      "       Cubs          3  31  12\n",
      "       Diamondbacks  2  27  13\n",
      "       Dodgers       4  26  13\n",
      "       Giants        3  25  13\n",
      "       Indians       3  26  12\n",
      "       Mariners      2  23  15\n",
      "       Marlins       3  22  13\n",
      "       Mets          4  27  13\n",
      "       Nationals     3  26  13\n",
      "       Orioles       3  21  13\n",
      "       Padres        2  30  15\n",
      "       Phillies      4  21  11\n",
      "       Pirates       3  23  13\n",
      "       Rangers       3  35  13\n",
      "       Rays          3  23  14\n",
      "       Red Sox       3  30  10\n",
      "       Reds          3  26  13\n",
      "       Rockies       4  26  15\n",
      "       Royals        2  18  12\n",
      "       Tigers        2  20  12\n",
      "       Twins         3  25  11\n",
      "       White Sox     3  21  12\n",
      "       Yankees       3  25  12\n",
      "2015   Angels        2  22  15\n",
      "       Astros        3  27  13\n",
      "       Athletics     3  22  10\n",
      "       Blue Jays     3  23  11\n",
      "       Braves        2  20  10\n",
      "       Brewers       4  18  13\n",
      "       Cardinals     2  31  12\n",
      "       Cubs          4  30  12\n",
      "       Diamondbacks  3  19  14\n",
      "       Dodgers       3  26  11\n",
      "       Giants        5  23  14\n",
      "       Indians       3  23  13\n",
      "       Mariners      3  24  10\n",
      "       Marlins       3  25  13\n",
      "       Mets          4  25  13\n",
      "       Nationals     2  25  12\n",
      "       Orioles       3  30  14\n",
      "       Padres        3  24  14\n",
      "       Phillies      2  24  15\n",
      "       Pirates       2  24  12\n",
      "       Rangers       3  24  12\n",
      "       Rays          4  30  13\n",
      "       Red Sox       3  26  15\n",
      "       Reds          4  26  14\n",
      "       Rockies       4  22  18\n",
      "       Royals        1  17  13\n",
      "       Tigers        3  22  13\n",
      "       Twins         3  26  14\n",
      "       White Sox     3  21  15\n",
      "       Yankees       2  24  13\n",
      "2016   Angels        4  31  11\n",
      "       Astros        3  29  14\n",
      "       Athletics     4  23  15\n",
      "       Blue Jays     2  21   9\n",
      "       Braves        3  24  16\n",
      "       Brewers       3  28  11\n",
      "       Cardinals     3  31  14\n",
      "       Cubs          4  25  11\n",
      "       Diamondbacks  3  27  12\n",
      "       Dodgers       2  29  14\n",
      "       Giants        2  24  13\n",
      "       Indians       3  20  12\n",
      "       Mariners      4  21   9\n",
      "       Marlins       2  26  13\n",
      "       Mets          3  34  14\n",
      "       Nationals     3  21  14\n",
      "       Orioles       3  21  12\n",
      "       Padres        3  34  10\n",
      "       Phillies      2  26  13\n",
      "       Pirates       2  26  11\n",
      "       Rangers       2  26  15\n",
      "       Rays          3  30  11\n",
      "       Red Sox       4  20  12\n",
      "       Reds          3  26  16\n",
      "       Rockies       4  25  15\n",
      "       Royals        2  23  13\n",
      "       Tigers        2  30  14\n",
      "       Twins         3  24  13\n",
      "       White Sox     2  21   9\n",
      "       Yankees       3  22  11\n",
      "\n",
      "[450 rows x 3 columns]\n"
     ]
    }
   ],
   "source": [
    "pd.options.display.max_rows = 200\n",
    "print(p.pivot_table(values='playerid', index=['Season','Team'],columns='Pos', aggfunc='count', fill_value='-'))"
   ]
  },
  {
   "cell_type": "code",
   "execution_count": 11,
   "metadata": {
    "scrolled": true
   },
   "outputs": [
    {
     "data": {
      "image/png": "[encoded data removed]",
      "text/plain": [
       "<matplotlib.figure.Figure at 0x7f4202b1b4a8>"
      ]
     },
     "metadata": {},
     "output_type": "display_data"
    }
   ],
   "source": [
    "c = Counter(p[p.Team=='- - -'].Pos)\n",
    "plt.bar(range(len(c.values())),[v/sum(p.Pos==k) for k,v in c.items()])\n",
    "plt.xticks(range(len(c)),c)\n",
    "plt.show()"
   ]
  },
  {
   "cell_type": "markdown",
   "metadata": {
    "scrolled": true
   },
   "source": [
    "## NLP Approach to Roles"
   ]
  },
  {
   "cell_type": "code",
   "execution_count": 12,
   "metadata": {
    "collapsed": true
   },
   "outputs": [],
   "source": [
    "teams = list(dct.values())\n",
    "by_season_team = p.groupby(['Season','Team'])\n",
    "def sentence_gen(season, team, num=50):\n",
    "    return [' '.join(map(str,np.random.permutation(by_season_team.get_group((season,team))['playerid']))) \\\n",
    "            for _ in range(num)]\n",
    "    "
   ]
  },
  {
   "cell_type": "code",
   "execution_count": 13,
   "metadata": {},
   "outputs": [
    {
     "data": {
      "text/plain": [
       "480"
      ]
     },
     "execution_count": 13,
     "metadata": {},
     "output_type": "execute_result"
    }
   ],
   "source": [
    "len(teams)*len(years)"
   ]
  },
  {
   "cell_type": "code",
   "execution_count": 14,
   "metadata": {
    "collapsed": true
   },
   "outputs": [],
   "source": [
    "texts = []\n",
    "for y,t in product(years,teams):\n",
    "    texts.extend(sentence_gen(y,t,num=300))"
   ]
  },
  {
   "cell_type": "code",
   "execution_count": null,
   "metadata": {
    "collapsed": true
   },
   "outputs": [],
   "source": []
  },
  {
   "cell_type": "code",
   "execution_count": 15,
   "metadata": {
    "collapsed": true
   },
   "outputs": [],
   "source": [
    "#dictionary = gensim.corpora.Dictionary(texts)"
   ]
  },
  {
   "cell_type": "code",
   "execution_count": null,
   "metadata": {
    "collapsed": true
   },
   "outputs": [],
   "source": []
  },
  {
   "cell_type": "code",
   "execution_count": 16,
   "metadata": {},
   "outputs": [
    {
     "data": {
      "text/html": [
       "<div>\n",
       "<style>\n",
       "    .dataframe thead tr:only-child th {\n",
       "        text-align: right;\n",
       "    }\n",
       "\n",
       "    .dataframe thead th {\n",
       "        text-align: left;\n",
       "    }\n",
       "\n",
       "    .dataframe tbody tr th {\n",
       "        vertical-align: top;\n",
       "    }\n",
       "</style>\n",
       "<table border=\"1\" class=\"dataframe\">\n",
       "  <thead>\n",
       "    <tr style=\"text-align: right;\">\n",
       "      <th></th>\n",
       "      <th>Name</th>\n",
       "      <th>Pos</th>\n",
       "      <th>Season</th>\n",
       "      <th>Team</th>\n",
       "      <th>playerid</th>\n",
       "    </tr>\n",
       "  </thead>\n",
       "  <tbody>\n",
       "    <tr>\n",
       "      <th>6428</th>\n",
       "      <td>Nick Hundley</td>\n",
       "      <td>C</td>\n",
       "      <td>2008</td>\n",
       "      <td>Padres</td>\n",
       "      <td>3376</td>\n",
       "    </tr>\n",
       "    <tr>\n",
       "      <th>5731</th>\n",
       "      <td>Ryan Hanigan</td>\n",
       "      <td>C</td>\n",
       "      <td>2009</td>\n",
       "      <td>Reds</td>\n",
       "      <td>4952</td>\n",
       "    </tr>\n",
       "    <tr>\n",
       "      <th>13931</th>\n",
       "      <td>A.J. Hinch</td>\n",
       "      <td>C</td>\n",
       "      <td>2003</td>\n",
       "      <td>Tigers</td>\n",
       "      <td>606</td>\n",
       "    </tr>\n",
       "  </tbody>\n",
       "</table>\n",
       "</div>"
      ],
      "text/plain": [
       "               Name Pos  Season    Team  playerid\n",
       "6428   Nick Hundley   C    2008  Padres      3376\n",
       "5731   Ryan Hanigan   C    2009    Reds      4952\n",
       "13931    A.J. Hinch   C    2003  Tigers       606"
      ]
     },
     "execution_count": 16,
     "metadata": {},
     "output_type": "execute_result"
    }
   ],
   "source": [
    "p[p.Pos=='C'].sample(3)"
   ]
  },
  {
   "cell_type": "code",
   "execution_count": 17,
   "metadata": {
    "collapsed": true
   },
   "outputs": [],
   "source": [
    "model = gensim.models.word2vec.Word2Vec(texts)"
   ]
  },
  {
   "cell_type": "code",
   "execution_count": 69,
   "metadata": {},
   "outputs": [
    {
     "data": {
      "text/plain": [
       "16600554"
      ]
     },
     "execution_count": 69,
     "metadata": {},
     "output_type": "execute_result"
    }
   ],
   "source": [
    "model.train(texts, total_examples=model.corpus_count, epochs=model.iter)"
   ]
  },
  {
   "cell_type": "code",
   "execution_count": 18,
   "metadata": {},
   "outputs": [
    {
     "data": {
      "text/plain": [
       "0.85707206021663196"
      ]
     },
     "execution_count": 18,
     "metadata": {},
     "output_type": "execute_result"
    }
   ],
   "source": [
    "model.wv.n_similarity('514','4293')"
   ]
  },
  {
   "cell_type": "code",
   "execution_count": 19,
   "metadata": {},
   "outputs": [
    {
     "data": {
      "text/plain": [
       "0.96702442729997218"
      ]
     },
     "execution_count": 19,
     "metadata": {},
     "output_type": "execute_result"
    }
   ],
   "source": [
    "model.wv.n_similarity('2041','4293')"
   ]
  },
  {
   "cell_type": "code",
   "execution_count": 20,
   "metadata": {},
   "outputs": [
    {
     "data": {
      "text/plain": [
       "0.78421060758971239"
      ]
     },
     "execution_count": 20,
     "metadata": {},
     "output_type": "execute_result"
    }
   ],
   "source": [
    "model.wv.n_similarity('454','889')"
   ]
  },
  {
   "cell_type": "code",
   "execution_count": 22,
   "metadata": {},
   "outputs": [
    {
     "data": {
      "text/html": [
       "<div>\n",
       "<style>\n",
       "    .dataframe thead tr:only-child th {\n",
       "        text-align: right;\n",
       "    }\n",
       "\n",
       "    .dataframe thead th {\n",
       "        text-align: left;\n",
       "    }\n",
       "\n",
       "    .dataframe tbody tr th {\n",
       "        vertical-align: top;\n",
       "    }\n",
       "</style>\n",
       "<table border=\"1\" class=\"dataframe\">\n",
       "  <thead>\n",
       "    <tr style=\"text-align: right;\">\n",
       "      <th></th>\n",
       "      <th>Name</th>\n",
       "      <th>Pos</th>\n",
       "      <th>Season</th>\n",
       "      <th>Team</th>\n",
       "      <th>playerid</th>\n",
       "    </tr>\n",
       "  </thead>\n",
       "  <tbody>\n",
       "    <tr>\n",
       "      <th>15476</th>\n",
       "      <td>Luis Gonzalez</td>\n",
       "      <td>FD</td>\n",
       "      <td>2008</td>\n",
       "      <td>Marlins</td>\n",
       "      <td>55</td>\n",
       "    </tr>\n",
       "    <tr>\n",
       "      <th>17833</th>\n",
       "      <td>Adam LaRoche</td>\n",
       "      <td>FD</td>\n",
       "      <td>2008</td>\n",
       "      <td>Pirates</td>\n",
       "      <td>1904</td>\n",
       "    </tr>\n",
       "    <tr>\n",
       "      <th>8578</th>\n",
       "      <td>Andy Green</td>\n",
       "      <td>FD</td>\n",
       "      <td>2004</td>\n",
       "      <td>Diamondbacks</td>\n",
       "      <td>2991</td>\n",
       "    </tr>\n",
       "  </tbody>\n",
       "</table>\n",
       "</div>"
      ],
      "text/plain": [
       "                Name Pos  Season          Team  playerid\n",
       "15476  Luis Gonzalez  FD    2008       Marlins        55\n",
       "17833   Adam LaRoche  FD    2008       Pirates      1904\n",
       "8578      Andy Green  FD    2004  Diamondbacks      2991"
      ]
     },
     "execution_count": 22,
     "metadata": {},
     "output_type": "execute_result"
    }
   ],
   "source": [
    "p[p.Pos=='FD'].sample(3)"
   ]
  },
  {
   "cell_type": "code",
   "execution_count": 34,
   "metadata": {
    "scrolled": false
   },
   "outputs": [
    {
     "name": "stdout",
     "output_type": "stream",
     "text": [
      "509\n"
     ]
    },
    {
     "data": {
      "image/png": "[encoded data removed]",
      "text/plain": [
       "<matplotlib.figure.Figure at 0x7f4204eddac8>"
      ]
     },
     "metadata": {},
     "output_type": "display_data"
    },
    {
     "name": "stdout",
     "output_type": "stream",
     "text": [
      "952\n"
     ]
    },
    {
     "data": {
      "image/png": "[encoded data removed]",
      "text/plain": [
       "<matplotlib.figure.Figure at 0x7f41fe18fda0>"
      ]
     },
     "metadata": {},
     "output_type": "display_data"
    },
    {
     "name": "stdout",
     "output_type": "stream",
     "text": [
      "266\n"
     ]
    },
    {
     "data": {
      "image/png": "[encoded data removed]",
      "text/plain": [
       "<matplotlib.figure.Figure at 0x7f41fe051ba8>"
      ]
     },
     "metadata": {},
     "output_type": "display_data"
    },
    {
     "name": "stdout",
     "output_type": "stream",
     "text": [
      "73\n"
     ]
    },
    {
     "data": {
      "image/png": "[encoded data removed]",
      "text/plain": [
       "<matplotlib.figure.Figure at 0x7f4202b06588>"
      ]
     },
     "metadata": {},
     "output_type": "display_data"
    },
    {
     "name": "stdout",
     "output_type": "stream",
     "text": [
      "581\n"
     ]
    },
    {
     "data": {
      "image/png": "[encoded data removed]",
      "text/plain": [
       "<matplotlib.figure.Figure at 0x7f4202a94978>"
      ]
     },
     "metadata": {},
     "output_type": "display_data"
    },
    {
     "name": "stdout",
     "output_type": "stream",
     "text": [
      "1126\n"
     ]
    },
    {
     "data": {
      "image/png": "[encoded data removed]",
      "text/plain": [
       "<matplotlib.figure.Figure at 0x7f41fdfcf5f8>"
      ]
     },
     "metadata": {},
     "output_type": "display_data"
    }
   ],
   "source": [
    "comp = []\n",
    "for _ in range(5000):\n",
    "    players = p.sample(2)\n",
    "    id1,id2 = players.playerid.values\n",
    "    if players.Pos.values[0] == 'P' and players.Pos.values[1] == 'P':\n",
    "        comp.append((players.Pos.values,model.wv.n_similarity(str(id1),str(id2))))\n",
    "for x,y in sorted(comp,key=lambda x: x[1]):\n",
    "    pass\n",
    "    #print('{}\\t{:.4f}'.format(x,y))\n",
    "print(len(comp))\n",
    "plt.hist([y for x,y in comp]);plt.title('PP');plt.show()\n",
    "\n",
    "comp = []\n",
    "for _ in range(5000):\n",
    "    players = p.sample(2)\n",
    "    id1,id2 = players.playerid.values\n",
    "    if players.Pos.values[0] == 'P' and players.Pos.values[1] == 'FD':\n",
    "        comp.append((players.Pos.values,model.wv.n_similarity(str(id1),str(id2))))\n",
    "print(len(comp))\n",
    "plt.hist([y for x,y in comp]);plt.title('PF');plt.show()\n",
    "\n",
    "comp = []\n",
    "for _ in range(12000):\n",
    "    players = p.sample(2)\n",
    "    id1,id2 = players.playerid.values\n",
    "    if players.Pos.values[0] == 'P' and players.Pos.values[1] == 'C':\n",
    "        comp.append((players.Pos.values,model.wv.n_similarity(str(id1),str(id2))))\n",
    "print(len(comp))\n",
    "plt.hist([y for x,y in comp]);plt.title('PC');plt.show()\n",
    "\n",
    "comp = []\n",
    "for _ in range(16000):\n",
    "    players = p.sample(2)\n",
    "    id1,id2 = players.playerid.values\n",
    "    if players.Pos.values[0] == 'C' and players.Pos.values[1] == 'C':\n",
    "        comp.append((players.Pos.values,model.wv.n_similarity(str(id1),str(id2))))\n",
    "print(len(comp))\n",
    "plt.hist([y for x,y in comp]);plt.title('CC');plt.show()\n",
    "\n",
    "comp = []\n",
    "for _ in range(12000):\n",
    "    players = p.sample(2)\n",
    "    id1,id2 = players.playerid.values\n",
    "    if players.Pos.values[0] == 'C' and players.Pos.values[1] == 'FD':\n",
    "        comp.append((players.Pos.values,model.wv.n_similarity(str(id1),str(id2))))\n",
    "print(len(comp))\n",
    "plt.hist([y for x,y in comp]);plt.title('CF');plt.show()\n",
    "\n",
    "comp = []\n",
    "for _ in range(3000):\n",
    "    players = p.sample(2)\n",
    "    id1,id2 = players.playerid.values\n",
    "    if players.Pos.values[0] == 'FD' and players.Pos.values[1] == 'FD':\n",
    "        comp.append((players.Pos.values,model.wv.n_similarity(str(id1),str(id2))))\n",
    "print(len(comp))\n",
    "plt.hist([y for x,y in comp]);plt.title('FF');plt.show()"
   ]
  },
  {
   "cell_type": "code",
   "execution_count": null,
   "metadata": {
    "collapsed": true
   },
   "outputs": [],
   "source": []
  },
  {
   "cell_type": "code",
   "execution_count": null,
   "metadata": {
    "collapsed": true
   },
   "outputs": [],
   "source": []
  },
  {
   "cell_type": "code",
   "execution_count": null,
   "metadata": {
    "collapsed": true
   },
   "outputs": [],
   "source": []
  },
  {
   "cell_type": "code",
   "execution_count": 137,
   "metadata": {
    "scrolled": true
   },
   "outputs": [
    {
     "name": "stdout",
     "output_type": "stream",
     "text": [
      "[4817 5209 1791 4538 8700 2790 8259  312 8678 4972 3254 4747  571 7466 6550\n",
      " 4529  746  653  766 2027  521 6230 6983 9218 1091 6249 1717  633  513  535]\n"
     ]
    },
    {
     "data": {
      "text/html": [
       "<div>\n",
       "<style>\n",
       "    .dataframe thead tr:only-child th {\n",
       "        text-align: right;\n",
       "    }\n",
       "\n",
       "    .dataframe thead th {\n",
       "        text-align: left;\n",
       "    }\n",
       "\n",
       "    .dataframe tbody tr th {\n",
       "        vertical-align: top;\n",
       "    }\n",
       "</style>\n",
       "<table border=\"1\" class=\"dataframe\">\n",
       "  <thead>\n",
       "    <tr style=\"text-align: right;\">\n",
       "      <th></th>\n",
       "      <th>Name</th>\n",
       "      <th>Pos</th>\n",
       "      <th>Season</th>\n",
       "      <th>Team</th>\n",
       "      <th>playerid</th>\n",
       "    </tr>\n",
       "  </thead>\n",
       "  <tbody>\n",
       "    <tr>\n",
       "      <th>48</th>\n",
       "      <td>Justin Verlander</td>\n",
       "      <td>SP</td>\n",
       "      <td>2009</td>\n",
       "      <td>Tigers</td>\n",
       "      <td>8700</td>\n",
       "    </tr>\n",
       "    <tr>\n",
       "      <th>76</th>\n",
       "      <td>Justin Verlander</td>\n",
       "      <td>SP</td>\n",
       "      <td>2012</td>\n",
       "      <td>Tigers</td>\n",
       "      <td>8700</td>\n",
       "    </tr>\n",
       "    <tr>\n",
       "      <th>81</th>\n",
       "      <td>Justin Verlander</td>\n",
       "      <td>SP</td>\n",
       "      <td>2010</td>\n",
       "      <td>Tigers</td>\n",
       "      <td>8700</td>\n",
       "    </tr>\n",
       "    <tr>\n",
       "      <th>88</th>\n",
       "      <td>Justin Verlander</td>\n",
       "      <td>SP</td>\n",
       "      <td>2011</td>\n",
       "      <td>Tigers</td>\n",
       "      <td>8700</td>\n",
       "    </tr>\n",
       "    <tr>\n",
       "      <th>89</th>\n",
       "      <td>Cole Hamels</td>\n",
       "      <td>SP</td>\n",
       "      <td>2011</td>\n",
       "      <td>Phillies</td>\n",
       "      <td>4972</td>\n",
       "    </tr>\n",
       "    <tr>\n",
       "      <th>93</th>\n",
       "      <td>Roy Oswalt</td>\n",
       "      <td>SP</td>\n",
       "      <td>2002</td>\n",
       "      <td>Astros</td>\n",
       "      <td>571</td>\n",
       "    </tr>\n",
       "    <tr>\n",
       "      <th>111</th>\n",
       "      <td>Cole Hamels</td>\n",
       "      <td>SP</td>\n",
       "      <td>2014</td>\n",
       "      <td>Phillies</td>\n",
       "      <td>4972</td>\n",
       "    </tr>\n",
       "    <tr>\n",
       "      <th>137</th>\n",
       "      <td>Roy Oswalt</td>\n",
       "      <td>SP</td>\n",
       "      <td>2005</td>\n",
       "      <td>Astros</td>\n",
       "      <td>571</td>\n",
       "    </tr>\n",
       "    <tr>\n",
       "      <th>145</th>\n",
       "      <td>Roy Oswalt</td>\n",
       "      <td>SP</td>\n",
       "      <td>2004</td>\n",
       "      <td>Astros</td>\n",
       "      <td>571</td>\n",
       "    </tr>\n",
       "    <tr>\n",
       "      <th>150</th>\n",
       "      <td>Jeff Samardzija</td>\n",
       "      <td>SP</td>\n",
       "      <td>2014</td>\n",
       "      <td>- - -</td>\n",
       "      <td>3254</td>\n",
       "    </tr>\n",
       "    <tr>\n",
       "      <th>172</th>\n",
       "      <td>Roy Oswalt</td>\n",
       "      <td>SP</td>\n",
       "      <td>2006</td>\n",
       "      <td>Astros</td>\n",
       "      <td>571</td>\n",
       "    </tr>\n",
       "    <tr>\n",
       "      <th>174</th>\n",
       "      <td>Cole Hamels</td>\n",
       "      <td>SP</td>\n",
       "      <td>2013</td>\n",
       "      <td>Phillies</td>\n",
       "      <td>4972</td>\n",
       "    </tr>\n",
       "    <tr>\n",
       "      <th>187</th>\n",
       "      <td>Justin Verlander</td>\n",
       "      <td>SP</td>\n",
       "      <td>2013</td>\n",
       "      <td>Tigers</td>\n",
       "      <td>8700</td>\n",
       "    </tr>\n",
       "    <tr>\n",
       "      <th>191</th>\n",
       "      <td>Roy Oswalt</td>\n",
       "      <td>SP</td>\n",
       "      <td>2010</td>\n",
       "      <td>- - -</td>\n",
       "      <td>571</td>\n",
       "    </tr>\n",
       "    <tr>\n",
       "      <th>200</th>\n",
       "      <td>Cole Hamels</td>\n",
       "      <td>SP</td>\n",
       "      <td>2012</td>\n",
       "      <td>Phillies</td>\n",
       "      <td>4972</td>\n",
       "    </tr>\n",
       "    <tr>\n",
       "      <th>282</th>\n",
       "      <td>Cole Hamels</td>\n",
       "      <td>SP</td>\n",
       "      <td>2015</td>\n",
       "      <td>- - -</td>\n",
       "      <td>4972</td>\n",
       "    </tr>\n",
       "    <tr>\n",
       "      <th>283</th>\n",
       "      <td>Justin Verlander</td>\n",
       "      <td>SP</td>\n",
       "      <td>2016</td>\n",
       "      <td>Tigers</td>\n",
       "      <td>8700</td>\n",
       "    </tr>\n",
       "    <tr>\n",
       "      <th>316</th>\n",
       "      <td>Jeff Samardzija</td>\n",
       "      <td>SP</td>\n",
       "      <td>2012</td>\n",
       "      <td>Cubs</td>\n",
       "      <td>3254</td>\n",
       "    </tr>\n",
       "    <tr>\n",
       "      <th>346</th>\n",
       "      <td>Roy Oswalt</td>\n",
       "      <td>SP</td>\n",
       "      <td>2007</td>\n",
       "      <td>Astros</td>\n",
       "      <td>571</td>\n",
       "    </tr>\n",
       "    <tr>\n",
       "      <th>364</th>\n",
       "      <td>Brad Penny</td>\n",
       "      <td>SP</td>\n",
       "      <td>2007</td>\n",
       "      <td>Dodgers</td>\n",
       "      <td>535</td>\n",
       "    </tr>\n",
       "    <tr>\n",
       "      <th>372</th>\n",
       "      <td>Brad Penny</td>\n",
       "      <td>SP</td>\n",
       "      <td>2005</td>\n",
       "      <td>Dodgers</td>\n",
       "      <td>535</td>\n",
       "    </tr>\n",
       "    <tr>\n",
       "      <th>382</th>\n",
       "      <td>Cole Hamels</td>\n",
       "      <td>SP</td>\n",
       "      <td>2010</td>\n",
       "      <td>Phillies</td>\n",
       "      <td>4972</td>\n",
       "    </tr>\n",
       "    <tr>\n",
       "      <th>393</th>\n",
       "      <td>Jason Hammel</td>\n",
       "      <td>SP</td>\n",
       "      <td>2015</td>\n",
       "      <td>Cubs</td>\n",
       "      <td>4538</td>\n",
       "    </tr>\n",
       "    <tr>\n",
       "      <th>411</th>\n",
       "      <td>Jason Hammel</td>\n",
       "      <td>SP</td>\n",
       "      <td>2010</td>\n",
       "      <td>Rockies</td>\n",
       "      <td>4538</td>\n",
       "    </tr>\n",
       "    <tr>\n",
       "      <th>420</th>\n",
       "      <td>Jason Hammel</td>\n",
       "      <td>SP</td>\n",
       "      <td>2009</td>\n",
       "      <td>Rockies</td>\n",
       "      <td>4538</td>\n",
       "    </tr>\n",
       "    <tr>\n",
       "      <th>424</th>\n",
       "      <td>Cole Hamels</td>\n",
       "      <td>SP</td>\n",
       "      <td>2009</td>\n",
       "      <td>Phillies</td>\n",
       "      <td>4972</td>\n",
       "    </tr>\n",
       "    <tr>\n",
       "      <th>429</th>\n",
       "      <td>Cole Hamels</td>\n",
       "      <td>SP</td>\n",
       "      <td>2008</td>\n",
       "      <td>Phillies</td>\n",
       "      <td>4972</td>\n",
       "    </tr>\n",
       "    <tr>\n",
       "      <th>442</th>\n",
       "      <td>Justin Verlander</td>\n",
       "      <td>SP</td>\n",
       "      <td>2014</td>\n",
       "      <td>Tigers</td>\n",
       "      <td>8700</td>\n",
       "    </tr>\n",
       "    <tr>\n",
       "      <th>460</th>\n",
       "      <td>Roy Oswalt</td>\n",
       "      <td>SP</td>\n",
       "      <td>2009</td>\n",
       "      <td>Astros</td>\n",
       "      <td>571</td>\n",
       "    </tr>\n",
       "    <tr>\n",
       "      <th>465</th>\n",
       "      <td>Jeff Samardzija</td>\n",
       "      <td>SP</td>\n",
       "      <td>2013</td>\n",
       "      <td>Cubs</td>\n",
       "      <td>3254</td>\n",
       "    </tr>\n",
       "    <tr>\n",
       "      <th>...</th>\n",
       "      <td>...</td>\n",
       "      <td>...</td>\n",
       "      <td>...</td>\n",
       "      <td>...</td>\n",
       "      <td>...</td>\n",
       "    </tr>\n",
       "    <tr>\n",
       "      <th>3984</th>\n",
       "      <td>Kurt Suzuki</td>\n",
       "      <td>C</td>\n",
       "      <td>2014</td>\n",
       "      <td>Twins</td>\n",
       "      <td>8259</td>\n",
       "    </tr>\n",
       "    <tr>\n",
       "      <th>3990</th>\n",
       "      <td>Orlando Cabrera</td>\n",
       "      <td>SS</td>\n",
       "      <td>2006</td>\n",
       "      <td>Angels</td>\n",
       "      <td>766</td>\n",
       "    </tr>\n",
       "    <tr>\n",
       "      <th>4052</th>\n",
       "      <td>Luis Castillo</td>\n",
       "      <td>2B</td>\n",
       "      <td>2006</td>\n",
       "      <td>Twins</td>\n",
       "      <td>513</td>\n",
       "    </tr>\n",
       "    <tr>\n",
       "      <th>4068</th>\n",
       "      <td>Alex Gordon</td>\n",
       "      <td>LF</td>\n",
       "      <td>2016</td>\n",
       "      <td>Royals</td>\n",
       "      <td>5209</td>\n",
       "    </tr>\n",
       "    <tr>\n",
       "      <th>4069</th>\n",
       "      <td>Luis Castillo</td>\n",
       "      <td>2B</td>\n",
       "      <td>2007</td>\n",
       "      <td>- - -</td>\n",
       "      <td>513</td>\n",
       "    </tr>\n",
       "    <tr>\n",
       "      <th>4144</th>\n",
       "      <td>Mark Grudzielanek</td>\n",
       "      <td>2B</td>\n",
       "      <td>2003</td>\n",
       "      <td>Cubs</td>\n",
       "      <td>653</td>\n",
       "    </tr>\n",
       "    <tr>\n",
       "      <th>4165</th>\n",
       "      <td>Orlando Cabrera</td>\n",
       "      <td>SS</td>\n",
       "      <td>2004</td>\n",
       "      <td>- - -</td>\n",
       "      <td>766</td>\n",
       "    </tr>\n",
       "    <tr>\n",
       "      <th>4173</th>\n",
       "      <td>Alex Gordon</td>\n",
       "      <td>LF</td>\n",
       "      <td>2013</td>\n",
       "      <td>Royals</td>\n",
       "      <td>5209</td>\n",
       "    </tr>\n",
       "    <tr>\n",
       "      <th>4199</th>\n",
       "      <td>Curtis Granderson</td>\n",
       "      <td>CF</td>\n",
       "      <td>2009</td>\n",
       "      <td>Tigers</td>\n",
       "      <td>4747</td>\n",
       "    </tr>\n",
       "    <tr>\n",
       "      <th>4327</th>\n",
       "      <td>Curtis Granderson</td>\n",
       "      <td>RF</td>\n",
       "      <td>2015</td>\n",
       "      <td>Mets</td>\n",
       "      <td>4747</td>\n",
       "    </tr>\n",
       "    <tr>\n",
       "      <th>4360</th>\n",
       "      <td>Alex Gordon</td>\n",
       "      <td>3B</td>\n",
       "      <td>2008</td>\n",
       "      <td>Royals</td>\n",
       "      <td>5209</td>\n",
       "    </tr>\n",
       "    <tr>\n",
       "      <th>4435</th>\n",
       "      <td>Curtis Granderson</td>\n",
       "      <td>CF</td>\n",
       "      <td>2011</td>\n",
       "      <td>Yankees</td>\n",
       "      <td>4747</td>\n",
       "    </tr>\n",
       "    <tr>\n",
       "      <th>4458</th>\n",
       "      <td>Luis Castillo</td>\n",
       "      <td>2B</td>\n",
       "      <td>2002</td>\n",
       "      <td>Marlins</td>\n",
       "      <td>513</td>\n",
       "    </tr>\n",
       "    <tr>\n",
       "      <th>4579</th>\n",
       "      <td>Jason Bay</td>\n",
       "      <td>LF</td>\n",
       "      <td>2006</td>\n",
       "      <td>Pirates</td>\n",
       "      <td>1717</td>\n",
       "    </tr>\n",
       "    <tr>\n",
       "      <th>4619</th>\n",
       "      <td>Orlando Cabrera</td>\n",
       "      <td>SS</td>\n",
       "      <td>2009</td>\n",
       "      <td>- - -</td>\n",
       "      <td>766</td>\n",
       "    </tr>\n",
       "    <tr>\n",
       "      <th>4622</th>\n",
       "      <td>Jason Bay</td>\n",
       "      <td>LF</td>\n",
       "      <td>2009</td>\n",
       "      <td>Red Sox</td>\n",
       "      <td>1717</td>\n",
       "    </tr>\n",
       "    <tr>\n",
       "      <th>4667</th>\n",
       "      <td>Paul Goldschmidt</td>\n",
       "      <td>1B</td>\n",
       "      <td>2015</td>\n",
       "      <td>Diamondbacks</td>\n",
       "      <td>9218</td>\n",
       "    </tr>\n",
       "    <tr>\n",
       "      <th>4672</th>\n",
       "      <td>Curtis Granderson</td>\n",
       "      <td>RF</td>\n",
       "      <td>2016</td>\n",
       "      <td>Mets</td>\n",
       "      <td>4747</td>\n",
       "    </tr>\n",
       "    <tr>\n",
       "      <th>4680</th>\n",
       "      <td>Paul Goldschmidt</td>\n",
       "      <td>1B</td>\n",
       "      <td>2013</td>\n",
       "      <td>Diamondbacks</td>\n",
       "      <td>9218</td>\n",
       "    </tr>\n",
       "    <tr>\n",
       "      <th>4782</th>\n",
       "      <td>Curtis Granderson</td>\n",
       "      <td>CF</td>\n",
       "      <td>2008</td>\n",
       "      <td>Tigers</td>\n",
       "      <td>4747</td>\n",
       "    </tr>\n",
       "    <tr>\n",
       "      <th>4784</th>\n",
       "      <td>Luis Castillo</td>\n",
       "      <td>2B</td>\n",
       "      <td>2009</td>\n",
       "      <td>Mets</td>\n",
       "      <td>513</td>\n",
       "    </tr>\n",
       "    <tr>\n",
       "      <th>4801</th>\n",
       "      <td>Ben Broussard</td>\n",
       "      <td>1B</td>\n",
       "      <td>2005</td>\n",
       "      <td>Indians</td>\n",
       "      <td>312</td>\n",
       "    </tr>\n",
       "    <tr>\n",
       "      <th>4842</th>\n",
       "      <td>Paul Goldschmidt</td>\n",
       "      <td>1B</td>\n",
       "      <td>2016</td>\n",
       "      <td>Diamondbacks</td>\n",
       "      <td>9218</td>\n",
       "    </tr>\n",
       "    <tr>\n",
       "      <th>4887</th>\n",
       "      <td>Jason Bay</td>\n",
       "      <td>LF</td>\n",
       "      <td>2011</td>\n",
       "      <td>Mets</td>\n",
       "      <td>1717</td>\n",
       "    </tr>\n",
       "    <tr>\n",
       "      <th>4903</th>\n",
       "      <td>Paul Goldschmidt</td>\n",
       "      <td>1B</td>\n",
       "      <td>2012</td>\n",
       "      <td>Diamondbacks</td>\n",
       "      <td>9218</td>\n",
       "    </tr>\n",
       "    <tr>\n",
       "      <th>5000</th>\n",
       "      <td>Curtis Granderson</td>\n",
       "      <td>RF</td>\n",
       "      <td>2014</td>\n",
       "      <td>Mets</td>\n",
       "      <td>4747</td>\n",
       "    </tr>\n",
       "    <tr>\n",
       "      <th>5039</th>\n",
       "      <td>Curtis Granderson</td>\n",
       "      <td>CF</td>\n",
       "      <td>2012</td>\n",
       "      <td>Yankees</td>\n",
       "      <td>4747</td>\n",
       "    </tr>\n",
       "    <tr>\n",
       "      <th>5056</th>\n",
       "      <td>Jason Bay</td>\n",
       "      <td>LF</td>\n",
       "      <td>2005</td>\n",
       "      <td>Pirates</td>\n",
       "      <td>1717</td>\n",
       "    </tr>\n",
       "    <tr>\n",
       "      <th>5131</th>\n",
       "      <td>Jason Bay</td>\n",
       "      <td>LF</td>\n",
       "      <td>2008</td>\n",
       "      <td>- - -</td>\n",
       "      <td>1717</td>\n",
       "    </tr>\n",
       "    <tr>\n",
       "      <th>5135</th>\n",
       "      <td>Jason Bay</td>\n",
       "      <td>LF</td>\n",
       "      <td>2007</td>\n",
       "      <td>Pirates</td>\n",
       "      <td>1717</td>\n",
       "    </tr>\n",
       "  </tbody>\n",
       "</table>\n",
       "<p>175 rows × 5 columns</p>\n",
       "</div>"
      ],
      "text/plain": [
       "                   Name Pos  Season          Team  playerid\n",
       "48     Justin Verlander  SP    2009        Tigers      8700\n",
       "76     Justin Verlander  SP    2012        Tigers      8700\n",
       "81     Justin Verlander  SP    2010        Tigers      8700\n",
       "88     Justin Verlander  SP    2011        Tigers      8700\n",
       "89          Cole Hamels  SP    2011      Phillies      4972\n",
       "93           Roy Oswalt  SP    2002        Astros       571\n",
       "111         Cole Hamels  SP    2014      Phillies      4972\n",
       "137          Roy Oswalt  SP    2005        Astros       571\n",
       "145          Roy Oswalt  SP    2004        Astros       571\n",
       "150     Jeff Samardzija  SP    2014         - - -      3254\n",
       "172          Roy Oswalt  SP    2006        Astros       571\n",
       "174         Cole Hamels  SP    2013      Phillies      4972\n",
       "187    Justin Verlander  SP    2013        Tigers      8700\n",
       "191          Roy Oswalt  SP    2010         - - -       571\n",
       "200         Cole Hamels  SP    2012      Phillies      4972\n",
       "282         Cole Hamels  SP    2015         - - -      4972\n",
       "283    Justin Verlander  SP    2016        Tigers      8700\n",
       "316     Jeff Samardzija  SP    2012          Cubs      3254\n",
       "346          Roy Oswalt  SP    2007        Astros       571\n",
       "364          Brad Penny  SP    2007       Dodgers       535\n",
       "372          Brad Penny  SP    2005       Dodgers       535\n",
       "382         Cole Hamels  SP    2010      Phillies      4972\n",
       "393        Jason Hammel  SP    2015          Cubs      4538\n",
       "411        Jason Hammel  SP    2010       Rockies      4538\n",
       "420        Jason Hammel  SP    2009       Rockies      4538\n",
       "424         Cole Hamels  SP    2009      Phillies      4972\n",
       "429         Cole Hamels  SP    2008      Phillies      4972\n",
       "442    Justin Verlander  SP    2014        Tigers      8700\n",
       "460          Roy Oswalt  SP    2009        Astros       571\n",
       "465     Jeff Samardzija  SP    2013          Cubs      3254\n",
       "...                 ...  ..     ...           ...       ...\n",
       "3984        Kurt Suzuki   C    2014         Twins      8259\n",
       "3990    Orlando Cabrera  SS    2006        Angels       766\n",
       "4052      Luis Castillo  2B    2006         Twins       513\n",
       "4068        Alex Gordon  LF    2016        Royals      5209\n",
       "4069      Luis Castillo  2B    2007         - - -       513\n",
       "4144  Mark Grudzielanek  2B    2003          Cubs       653\n",
       "4165    Orlando Cabrera  SS    2004         - - -       766\n",
       "4173        Alex Gordon  LF    2013        Royals      5209\n",
       "4199  Curtis Granderson  CF    2009        Tigers      4747\n",
       "4327  Curtis Granderson  RF    2015          Mets      4747\n",
       "4360        Alex Gordon  3B    2008        Royals      5209\n",
       "4435  Curtis Granderson  CF    2011       Yankees      4747\n",
       "4458      Luis Castillo  2B    2002       Marlins       513\n",
       "4579          Jason Bay  LF    2006       Pirates      1717\n",
       "4619    Orlando Cabrera  SS    2009         - - -       766\n",
       "4622          Jason Bay  LF    2009       Red Sox      1717\n",
       "4667   Paul Goldschmidt  1B    2015  Diamondbacks      9218\n",
       "4672  Curtis Granderson  RF    2016          Mets      4747\n",
       "4680   Paul Goldschmidt  1B    2013  Diamondbacks      9218\n",
       "4782  Curtis Granderson  CF    2008        Tigers      4747\n",
       "4784      Luis Castillo  2B    2009          Mets       513\n",
       "4801      Ben Broussard  1B    2005       Indians       312\n",
       "4842   Paul Goldschmidt  1B    2016  Diamondbacks      9218\n",
       "4887          Jason Bay  LF    2011          Mets      1717\n",
       "4903   Paul Goldschmidt  1B    2012  Diamondbacks      9218\n",
       "5000  Curtis Granderson  RF    2014          Mets      4747\n",
       "5039  Curtis Granderson  CF    2012       Yankees      4747\n",
       "5056          Jason Bay  LF    2005       Pirates      1717\n",
       "5131          Jason Bay  LF    2008         - - -      1717\n",
       "5135          Jason Bay  LF    2007       Pirates      1717\n",
       "\n",
       "[175 rows x 5 columns]"
      ]
     },
     "execution_count": 137,
     "metadata": {},
     "output_type": "execute_result"
    }
   ],
   "source": [
    "years = sorted(p.Season.unique())\n",
    "ind_yr = {y:i for i,y in enumerate(years)}\n",
    "num_indiv = 30\n",
    "player_gen = np.zeros((num_indiv,len(years)))\n",
    "\n",
    "pids = np.random.permutation(p.playerid.values)[:num_indiv]\n",
    "print(pids)\n",
    "p[p['playerid'].isin(pids)]"
   ]
  },
  {
   "cell_type": "code",
   "execution_count": 138,
   "metadata": {
    "collapsed": true,
    "scrolled": true
   },
   "outputs": [],
   "source": [
    "pos = []\n",
    "for i,pid in enumerate(pids):\n",
    "    player_hist = p[p['playerid']==pid]\n",
    "    pos.append(player_hist['Pos'].values[0])\n",
    "    #print(player_hist)\n",
    "    for j,year in enumerate(range(start_y,1+end_y)):\n",
    "        if year in player_hist['Season'].values:\n",
    "            player_gen[i,j] = ind_t[ player_hist[player_hist['Season']==year]['Team'].values[0] ]\n",
    "                \n",
    "s = '''for i,pid in enumerate(pids):\n",
    "    if pid in sp['playerid'].values:\n",
    "        player_hist = sp[sp['playerid']==pid]\n",
    "        print(player_hist)\n",
    "        for j,year in enumerate(range(start_y,1+end_y)):\n",
    "            if year in player_hist['Season'].values:\n",
    "                player_gen[i,j] = ind_t[ player_hist[player_hist['Season']==year]['Team'].values[0] ]\n",
    "\n",
    "    elif pid in rp['playerid'].values:\n",
    "        player_hist = rp[rp['playerid']==pid]\n",
    "        print(player_hist)\n",
    "        for j,year in enumerate(range(start_y,1+end_y)):\n",
    "            if year in player_hist['Season'].values:\n",
    "                player_gen[i,j] = ind_t[ player_hist[player_hist['Season']==year]['Team'].values[0] ]\n",
    "    \n",
    "    elif pid in fd['playerid'].values:\n",
    "        player_hist = fd[fd['playerid']==pid]\n",
    "        print(player_hist)\n",
    "        for j,year in enumerate(range(start_y,1+end_y)):\n",
    "            if year in player_hist['Season'].values:\n",
    "                player_gen[i,j] = ind_t[ player_hist[player_hist['Season']==year]['Team'].values[0] ]'''\n",
    "    "
   ]
  },
  {
   "cell_type": "code",
   "execution_count": null,
   "metadata": {
    "collapsed": true,
    "scrolled": true
   },
   "outputs": [],
   "source": []
  },
  {
   "cell_type": "code",
   "execution_count": 140,
   "metadata": {},
   "outputs": [
    {
     "data": {
      "image/png": "[encoded data removed]",
      "text/plain": [
       "<matplotlib.figure.Figure at 0x7f3997eca518>"
      ]
     },
     "metadata": {},
     "output_type": "display_data"
    }
   ],
   "source": [
    "plt.figure(figsize=(10,10))\n",
    "plt.imshow(player_gen, cmap='rainbow')\n",
    "plt.yticks(range(num_indiv), pos)\n",
    "plt.show()"
   ]
  },
  {
   "cell_type": "markdown",
   "metadata": {
    "collapsed": true
   },
   "source": [
    "## Finding Change Data"
   ]
  },
  {
   "cell_type": "code",
   "execution_count": 5,
   "metadata": {},
   "outputs": [
    {
     "name": "stderr",
     "output_type": "stream",
     "text": [
      "/usr/local/lib/python3.5/dist-packages/pandas/core/computation/expressions.py:183: UserWarning: evaluating in Python space because the '*' operator is not supported by numexpr for the bool dtype, use '&' instead\n",
      "  unsupported[op_str]))\n"
     ]
    },
    {
     "data": {
      "text/html": [
       "<div>\n",
       "<style>\n",
       "    .dataframe thead tr:only-child th {\n",
       "        text-align: right;\n",
       "    }\n",
       "\n",
       "    .dataframe thead th {\n",
       "        text-align: left;\n",
       "    }\n",
       "\n",
       "    .dataframe tbody tr th {\n",
       "        vertical-align: top;\n",
       "    }\n",
       "</style>\n",
       "<table border=\"1\" class=\"dataframe\">\n",
       "  <thead>\n",
       "    <tr style=\"text-align: right;\">\n",
       "      <th></th>\n",
       "      <th>Name</th>\n",
       "      <th>Change_Type</th>\n",
       "      <th>Pos</th>\n",
       "      <th>Season</th>\n",
       "      <th>Team</th>\n",
       "      <th>playerid</th>\n",
       "    </tr>\n",
       "  </thead>\n",
       "  <tbody>\n",
       "    <tr>\n",
       "      <th>18245</th>\n",
       "      <td>Nelson Cruz</td>\n",
       "      <td>Arrive</td>\n",
       "      <td>P</td>\n",
       "      <td>2003</td>\n",
       "      <td>Rockies</td>\n",
       "      <td>554</td>\n",
       "    </tr>\n",
       "    <tr>\n",
       "      <th>8784</th>\n",
       "      <td>Eli Marrero</td>\n",
       "      <td>No Change</td>\n",
       "      <td>C</td>\n",
       "      <td>2002</td>\n",
       "      <td>Cardinals</td>\n",
       "      <td>1166</td>\n",
       "    </tr>\n",
       "    <tr>\n",
       "      <th>4013</th>\n",
       "      <td>Craig Stammen</td>\n",
       "      <td>No Change</td>\n",
       "      <td>P</td>\n",
       "      <td>2012</td>\n",
       "      <td>Nationals</td>\n",
       "      <td>7274</td>\n",
       "    </tr>\n",
       "    <tr>\n",
       "      <th>3182</th>\n",
       "      <td>Aaron Sele</td>\n",
       "      <td>No Change</td>\n",
       "      <td>P</td>\n",
       "      <td>2003</td>\n",
       "      <td>Angels</td>\n",
       "      <td>34</td>\n",
       "    </tr>\n",
       "    <tr>\n",
       "      <th>15640</th>\n",
       "      <td>Randy Winn</td>\n",
       "      <td>No Change</td>\n",
       "      <td>FD</td>\n",
       "      <td>2007</td>\n",
       "      <td>Giants</td>\n",
       "      <td>1235</td>\n",
       "    </tr>\n",
       "    <tr>\n",
       "      <th>10308</th>\n",
       "      <td>Emilio Bonifacio</td>\n",
       "      <td>No Change</td>\n",
       "      <td>FD</td>\n",
       "      <td>2010</td>\n",
       "      <td>Marlins</td>\n",
       "      <td>4054</td>\n",
       "    </tr>\n",
       "    <tr>\n",
       "      <th>442</th>\n",
       "      <td>John Patterson</td>\n",
       "      <td>No Change</td>\n",
       "      <td>P</td>\n",
       "      <td>2005</td>\n",
       "      <td>Nationals</td>\n",
       "      <td>71</td>\n",
       "    </tr>\n",
       "    <tr>\n",
       "      <th>11770</th>\n",
       "      <td>Matt Carson</td>\n",
       "      <td>No Change</td>\n",
       "      <td>FD</td>\n",
       "      <td>2009</td>\n",
       "      <td>Athletics</td>\n",
       "      <td>4748</td>\n",
       "    </tr>\n",
       "    <tr>\n",
       "      <th>18744</th>\n",
       "      <td>Shawn Hill</td>\n",
       "      <td>No Change</td>\n",
       "      <td>P</td>\n",
       "      <td>2006</td>\n",
       "      <td>Nationals</td>\n",
       "      <td>1882</td>\n",
       "    </tr>\n",
       "    <tr>\n",
       "      <th>11896</th>\n",
       "      <td>Mark DeRosa</td>\n",
       "      <td>Arrive</td>\n",
       "      <td>FD</td>\n",
       "      <td>2013</td>\n",
       "      <td>Blue Jays</td>\n",
       "      <td>1392</td>\n",
       "    </tr>\n",
       "    <tr>\n",
       "      <th>3084</th>\n",
       "      <td>Brian Bannister</td>\n",
       "      <td>No Change</td>\n",
       "      <td>P</td>\n",
       "      <td>2010</td>\n",
       "      <td>Royals</td>\n",
       "      <td>5718</td>\n",
       "    </tr>\n",
       "    <tr>\n",
       "      <th>9075</th>\n",
       "      <td>Travis Snider</td>\n",
       "      <td>Leave</td>\n",
       "      <td>FD</td>\n",
       "      <td>2011</td>\n",
       "      <td>Blue Jays</td>\n",
       "      <td>2830</td>\n",
       "    </tr>\n",
       "    <tr>\n",
       "      <th>12088</th>\n",
       "      <td>Brayan Pena</td>\n",
       "      <td>No Change</td>\n",
       "      <td>C</td>\n",
       "      <td>2005</td>\n",
       "      <td>Braves</td>\n",
       "      <td>3231</td>\n",
       "    </tr>\n",
       "    <tr>\n",
       "      <th>19861</th>\n",
       "      <td>Liam Hendriks</td>\n",
       "      <td>No Change</td>\n",
       "      <td>P</td>\n",
       "      <td>2013</td>\n",
       "      <td>Twins</td>\n",
       "      <td>3548</td>\n",
       "    </tr>\n",
       "    <tr>\n",
       "      <th>18080</th>\n",
       "      <td>Alan Benes</td>\n",
       "      <td>No Change</td>\n",
       "      <td>P</td>\n",
       "      <td>2002</td>\n",
       "      <td>Cubs</td>\n",
       "      <td>265</td>\n",
       "    </tr>\n",
       "    <tr>\n",
       "      <th>708</th>\n",
       "      <td>Rich Harden</td>\n",
       "      <td>No Change</td>\n",
       "      <td>P</td>\n",
       "      <td>2003</td>\n",
       "      <td>Athletics</td>\n",
       "      <td>1772</td>\n",
       "    </tr>\n",
       "    <tr>\n",
       "      <th>14021</th>\n",
       "      <td>Charlie Culberson</td>\n",
       "      <td>No Change</td>\n",
       "      <td>FD</td>\n",
       "      <td>2016</td>\n",
       "      <td>Dodgers</td>\n",
       "      <td>3298</td>\n",
       "    </tr>\n",
       "    <tr>\n",
       "      <th>16194</th>\n",
       "      <td>Yuniesky Betancourt</td>\n",
       "      <td>No Change</td>\n",
       "      <td>FD</td>\n",
       "      <td>2008</td>\n",
       "      <td>Mariners</td>\n",
       "      <td>8585</td>\n",
       "    </tr>\n",
       "    <tr>\n",
       "      <th>16020</th>\n",
       "      <td>Justin Smoak</td>\n",
       "      <td>Arrive</td>\n",
       "      <td>FD</td>\n",
       "      <td>2015</td>\n",
       "      <td>Blue Jays</td>\n",
       "      <td>9054</td>\n",
       "    </tr>\n",
       "    <tr>\n",
       "      <th>12755</th>\n",
       "      <td>Craig Wilson</td>\n",
       "      <td>No Change</td>\n",
       "      <td>FD</td>\n",
       "      <td>2002</td>\n",
       "      <td>Pirates</td>\n",
       "      <td>1015</td>\n",
       "    </tr>\n",
       "  </tbody>\n",
       "</table>\n",
       "</div>"
      ],
      "text/plain": [
       "                      Name Change_Type Pos  Season       Team  playerid\n",
       "18245          Nelson Cruz      Arrive   P    2003    Rockies       554\n",
       "8784           Eli Marrero   No Change   C    2002  Cardinals      1166\n",
       "4013         Craig Stammen   No Change   P    2012  Nationals      7274\n",
       "3182            Aaron Sele   No Change   P    2003     Angels        34\n",
       "15640           Randy Winn   No Change  FD    2007     Giants      1235\n",
       "10308     Emilio Bonifacio   No Change  FD    2010    Marlins      4054\n",
       "442         John Patterson   No Change   P    2005  Nationals        71\n",
       "11770          Matt Carson   No Change  FD    2009  Athletics      4748\n",
       "18744           Shawn Hill   No Change   P    2006  Nationals      1882\n",
       "11896          Mark DeRosa      Arrive  FD    2013  Blue Jays      1392\n",
       "3084       Brian Bannister   No Change   P    2010     Royals      5718\n",
       "9075         Travis Snider       Leave  FD    2011  Blue Jays      2830\n",
       "12088          Brayan Pena   No Change   C    2005     Braves      3231\n",
       "19861        Liam Hendriks   No Change   P    2013      Twins      3548\n",
       "18080           Alan Benes   No Change   P    2002       Cubs       265\n",
       "708            Rich Harden   No Change   P    2003  Athletics      1772\n",
       "14021    Charlie Culberson   No Change  FD    2016    Dodgers      3298\n",
       "16194  Yuniesky Betancourt   No Change  FD    2008   Mariners      8585\n",
       "16020         Justin Smoak      Arrive  FD    2015  Blue Jays      9054\n",
       "12755         Craig Wilson   No Change  FD    2002    Pirates      1015"
      ]
     },
     "execution_count": 5,
     "metadata": {},
     "output_type": "execute_result"
    }
   ],
   "source": [
    "p.insert(1, 'Change_Type', 'No Change')\n",
    "for y in years[1:]:\n",
    "    for pid in p[p.Season==y].playerid:\n",
    "        if sum((p.playerid==pid) & (p.Season==y-1))==0: continue\n",
    "        #print(pid, y)\n",
    "        #print(p[(p.playerid==pid) * (p.Season==y)].Team.values[0])\n",
    "        #print(p[(p.playerid==pid) * (p.Season==y-1)].Team.values[0])\n",
    "        if p[(p.playerid==pid) & (p.Season==y)].Team.values[0] != p[(p.playerid==pid) * (p.Season==y-1)].Team.values[0]:\n",
    "            if p[(p.playerid==pid) & (p.Season==y-1)]['Change_Type'].values[0] == 'Arrive':\n",
    "                p.loc[(p.playerid==pid) & (p.Season==y-1),'Change_Type'] = 'Arrive Leave'\n",
    "                p.loc[(p.playerid==pid) & (p.Season==y),'Change_Type'] = 'Arrive'\n",
    "\n",
    "            else:\n",
    "                p.loc[(p.playerid==pid) & (p.Season==y-1),'Change_Type'] = 'Leave'\n",
    "                p.loc[(p.playerid==pid) & (p.Season==y),'Change_Type'] = 'Arrive'\n",
    "p.sample(20)"
   ]
  },
  {
   "cell_type": "code",
   "execution_count": 6,
   "metadata": {
    "collapsed": true
   },
   "outputs": [],
   "source": [
    "p.to_csv('combined_players_changes.csv')"
   ]
  },
  {
   "cell_type": "code",
   "execution_count": null,
   "metadata": {
    "collapsed": true
   },
   "outputs": [],
   "source": []
  },
  {
   "cell_type": "code",
   "execution_count": null,
   "metadata": {
    "collapsed": true
   },
   "outputs": [],
   "source": []
  },
  {
   "cell_type": "code",
   "execution_count": 60,
   "metadata": {
    "collapsed": true
   },
   "outputs": [],
   "source": [
    "a = np.arange(30).reshape((5,6))\n",
    "a = np.random.random((5,6))\n",
    "u,s,v = np.linalg.svd(a)"
   ]
  },
  {
   "cell_type": "code",
   "execution_count": 44,
   "metadata": {},
   "outputs": [
    {
     "data": {
      "text/plain": [
       "array([[-0.07000651, -0.77142666, -0.24112143, -0.46822528, -0.3501793 ],\n",
       "       [-0.22849801, -0.49778375,  0.45623969,  0.69414729, -0.10002441],\n",
       "       [-0.38698952, -0.22414084,  0.17539854, -0.28382575,  0.82986643],\n",
       "       [-0.54548102,  0.04950208, -0.75503044,  0.35811076,  0.04105756],\n",
       "       [-0.70397253,  0.32314499,  0.36451364, -0.30020702, -0.42072028]])"
      ]
     },
     "execution_count": 44,
     "metadata": {},
     "output_type": "execute_result"
    }
   ],
   "source": [
    "u"
   ]
  },
  {
   "cell_type": "code",
   "execution_count": 45,
   "metadata": {},
   "outputs": [
    {
     "data": {
      "text/plain": [
       "array([  9.23734286e+01,   4.70634585e+00,   5.49573583e-15,\n",
       "         1.53358432e-15,   2.64768075e-16])"
      ]
     },
     "execution_count": 45,
     "metadata": {},
     "output_type": "execute_result"
    }
   ],
   "source": [
    "s"
   ]
  },
  {
   "cell_type": "code",
   "execution_count": 46,
   "metadata": {},
   "outputs": [
    {
     "data": {
      "text/plain": [
       "array([[-0.35431034, -0.37525736, -0.39620437, -0.41715139, -0.4380984 ,\n",
       "        -0.45904542],\n",
       "       [ 0.6310893 ,  0.39296311,  0.15483693, -0.08328925, -0.32141544,\n",
       "        -0.55954162],\n",
       "       [ 0.47692476, -0.64120533, -0.29779665,  0.50906148,  0.05546449,\n",
       "        -0.10244875],\n",
       "       [ 0.09151009, -0.23830399,  0.19904082, -0.42783131,  0.75420566,\n",
       "        -0.37862127],\n",
       "       [-0.48954483,  0.08294651,  0.27596747,  0.60479839,  0.07843896,\n",
       "        -0.55260649],\n",
       "       [-0.0265519 ,  0.47952968, -0.78395758,  0.1052773 ,  0.35595892,\n",
       "        -0.13025642]])"
      ]
     },
     "execution_count": 46,
     "metadata": {},
     "output_type": "execute_result"
    }
   ],
   "source": [
    "v"
   ]
  },
  {
   "cell_type": "code",
   "execution_count": 47,
   "metadata": {},
   "outputs": [
    {
     "data": {
      "text/plain": [
       "(5, 5)"
      ]
     },
     "execution_count": 47,
     "metadata": {},
     "output_type": "execute_result"
    }
   ],
   "source": [
    "u.shape"
   ]
  },
  {
   "cell_type": "code",
   "execution_count": 55,
   "metadata": {
    "collapsed": true
   },
   "outputs": [],
   "source": [
    "rank = 5\n",
    "s[s<0.00001] = 0"
   ]
  },
  {
   "cell_type": "code",
   "execution_count": 56,
   "metadata": {},
   "outputs": [
    {
     "data": {
      "text/plain": [
       "(6, 6)"
      ]
     },
     "execution_count": 56,
     "metadata": {},
     "output_type": "execute_result"
    }
   ],
   "source": [
    "v.shape"
   ]
  },
  {
   "cell_type": "code",
   "execution_count": 57,
   "metadata": {},
   "outputs": [
    {
     "data": {
      "text/plain": [
       "2"
      ]
     },
     "execution_count": 57,
     "metadata": {},
     "output_type": "execute_result"
    }
   ],
   "source": [
    "np.rank(a)"
   ]
  },
  {
   "cell_type": "code",
   "execution_count": 61,
   "metadata": {
    "collapsed": true
   },
   "outputs": [],
   "source": [
    "idx = np.diag_indices(min(a.shape))\n",
    "sigma = np.zeros_like(a)\n",
    "sigma[idx] = s"
   ]
  },
  {
   "cell_type": "code",
   "execution_count": 63,
   "metadata": {},
   "outputs": [
    {
     "data": {
      "text/plain": [
       "True"
      ]
     },
     "execution_count": 63,
     "metadata": {},
     "output_type": "execute_result"
    }
   ],
   "source": [
    "np.allclose(u.dot(sigma.dot(v)) - a,0)"
   ]
  },
  {
   "cell_type": "code",
   "execution_count": null,
   "metadata": {
    "collapsed": true
   },
   "outputs": [],
   "source": [
    "u"
   ]
  },
  {
   "cell_type": "code",
   "execution_count": null,
   "metadata": {
    "collapsed": true
   },
   "outputs": [],
   "source": []
  }
 ],
 "metadata": {
  "kernelspec": {
   "display_name": "Python 3",
   "language": "python",
   "name": "python3"
  },
  "language_info": {
   "codemirror_mode": {
    "name": "ipython",
    "version": 3
   },
   "file_extension": ".py",
   "mimetype": "text/x-python",
   "name": "python",
   "nbconvert_exporter": "python",
   "pygments_lexer": "ipython3",
   "version": "3.5.2"
  }
 },
 "nbformat": 4,
 "nbformat_minor": 2
}
